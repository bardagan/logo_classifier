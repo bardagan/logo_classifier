{
  "nbformat": 4,
  "nbformat_minor": 0,
  "metadata": {
    "kernelspec": {
      "display_name": "Python 3",
      "language": "python",
      "name": "python3"
    },
    "colab": {
      "name": "Copy of lesson1-pets.ipynb",
      "provenance": [],
      "collapsed_sections": [
        "1f6LoHu30FYc"
      ],
      "include_colab_link": true
    }
  },
  "cells": [
    {
      "cell_type": "markdown",
      "metadata": {
        "id": "view-in-github",
        "colab_type": "text"
      },
      "source": [
        "<a href=\"https://colab.research.google.com/github/bardagan/logo_classifier/blob/master/logo_classifier.ipynb\" target=\"_parent\"><img src=\"https://colab.research.google.com/assets/colab-badge.svg\" alt=\"Open In Colab\"/></a>"
      ]
    },
    {
      "cell_type": "markdown",
      "metadata": {
        "id": "xVKQBdm30FXg",
        "colab_type": "text"
      },
      "source": [
        "# Lesson 1 - What's your pet"
      ]
    },
    {
      "cell_type": "markdown",
      "metadata": {
        "id": "RU3OFrZv0FXi",
        "colab_type": "text"
      },
      "source": [
        "Welcome to lesson 1! For those of you who are using a Jupyter Notebook for the first time, you can learn about this useful tool in a tutorial we prepared specially for you; click `File`->`Open` now and click `00_notebook_tutorial.ipynb`. \n",
        "\n",
        "In this lesson we will build our first image classifier from scratch, and see if we can achieve world-class results. Let's dive in!\n",
        "\n",
        "Every notebook starts with the following three lines; they ensure that any edits to libraries you make are reloaded here automatically, and also that any charts or images displayed are shown in this notebook."
      ]
    },
    {
      "cell_type": "code",
      "metadata": {
        "id": "Vai58P270FXi",
        "colab_type": "code",
        "colab": {}
      },
      "source": [
        "%reload_ext autoreload\n",
        "%autoreload 2\n",
        "%matplotlib inline"
      ],
      "execution_count": 0,
      "outputs": []
    },
    {
      "cell_type": "markdown",
      "metadata": {
        "id": "cJfZNhIS0FXl",
        "colab_type": "text"
      },
      "source": [
        "We import all the necessary packages. We are going to work with the [fastai V1 library](http://www.fast.ai/2018/10/02/fastai-ai/) which sits on top of [Pytorch 1.0](https://hackernoon.com/pytorch-1-0-468332ba5163). The fastai library provides many useful functions that enable us to quickly and easily build neural networks and train our models."
      ]
    },
    {
      "cell_type": "code",
      "metadata": {
        "id": "1nyxPDX10FXl",
        "colab_type": "code",
        "colab": {}
      },
      "source": [
        "from fastai.vision import *\n",
        "from fastai.metrics import error_rate"
      ],
      "execution_count": 0,
      "outputs": []
    },
    {
      "cell_type": "markdown",
      "metadata": {
        "id": "DYgLAniH0FXn",
        "colab_type": "text"
      },
      "source": [
        "If you're using a computer with an unusually small GPU, you may get an out of memory error when running this notebook. If this happens, click Kernel->Restart, uncomment the 2nd line below to use a smaller *batch size* (you'll learn all about what this means during the course), and try again."
      ]
    },
    {
      "cell_type": "code",
      "metadata": {
        "id": "OXjIsK-q0FXo",
        "colab_type": "code",
        "colab": {}
      },
      "source": [
        "# bs = 64\n",
        "bs = 16   # uncomment this line if you run out of memory even after clicking Kernel->Restart"
      ],
      "execution_count": 0,
      "outputs": []
    },
    {
      "cell_type": "markdown",
      "metadata": {
        "id": "MQHOHlbdvZ_X",
        "colab_type": "text"
      },
      "source": [
        "## **Creating Data Set**"
      ]
    },
    {
      "cell_type": "markdown",
      "metadata": {
        "id": "K6hFJnduznGZ",
        "colab_type": "text"
      },
      "source": [
        "install chromium, its driver, and selenium:"
      ]
    },
    {
      "cell_type": "code",
      "metadata": {
        "id": "1wC0vs57zPA1",
        "colab_type": "code",
        "colab": {}
      },
      "source": [
        "!apt update\n",
        "!apt install chromium-chromedriver\n",
        "!cp /usr/lib/chromium-browser/chromedriver /usr/bin\n",
        "!pip install selenium"
      ],
      "execution_count": 0,
      "outputs": []
    },
    {
      "cell_type": "markdown",
      "metadata": {
        "id": "8OkB_6Ekzf2x",
        "colab_type": "text"
      },
      "source": [
        "Set option to be headless"
      ]
    },
    {
      "cell_type": "code",
      "metadata": {
        "id": "NfGSJYGPzd8C",
        "colab_type": "code",
        "colab": {}
      },
      "source": [
        "from selenium import webdriver\n",
        "options = webdriver.ChromeOptions()\n",
        "options.add_argument('–headless')\n",
        "options.add_argument('–no-sandbox')\n",
        "options.add_argument('–disable-dev-shm-usage')"
      ],
      "execution_count": 0,
      "outputs": []
    },
    {
      "cell_type": "markdown",
      "metadata": {
        "id": "sNsa4hYwzo0p",
        "colab_type": "text"
      },
      "source": [
        "### Connect to Google **Drive**"
      ]
    },
    {
      "cell_type": "code",
      "metadata": {
        "colab_type": "code",
        "outputId": "8bfc96d1-4e5f-40ec-dec5-220d5c1203e0",
        "id": "G_Aga9ofw26h",
        "colab": {
          "base_uri": "https://localhost:8080/",
          "height": 34
        }
      },
      "source": [
        "from google.colab import drive\n",
        "drive.mount('/content/drive')\n"
      ],
      "execution_count": 4,
      "outputs": [
        {
          "output_type": "stream",
          "text": [
            "Drive already mounted at /content/drive; to attempt to forcibly remount, call drive.mount(\"/content/drive\", force_remount=True).\n"
          ],
          "name": "stdout"
        }
      ]
    },
    {
      "cell_type": "code",
      "metadata": {
        "id": "dV8kz01oveFU",
        "colab_type": "code",
        "colab": {
          "base_uri": "https://localhost:8080/",
          "height": 1000
        },
        "outputId": "5d75916f-e0d9-4e02-d7b4-8454334d704a"
      },
      "source": [
        "!googleimagesdownload --format png -o \"/content/drive/My Drive/data/train/adidas\" --chromedriver '/usr/bin/chromedriver' -n -l 500 -si https://logos-download.com/wp-content/uploads/2016/03/Adidas_logo.png"
      ],
      "execution_count": 45,
      "outputs": [
        {
          "output_type": "stream",
          "text": [
            "\n",
            "Item no.: 1 --> Item name = 2019-10-13 07_22_42\n",
            "Evaluating...\n",
            "https://logos-download.com/wp-content/uploads/2016/03/Adidas_logo.png\n",
            "Getting you a lot of images. This may take a few moments...\n",
            "Reached end of Page.\n",
            "Starting Download...\n",
            "Wrong image format returned. Skipping...\n",
            "Completed Image ====> 1.Adidas_logo.png\n",
            "Wrong image format returned. Skipping...\n",
            "Wrong image format returned. Skipping...\n",
            "Wrong image format returned. Skipping...\n",
            "Completed Image ====> 2.0*EVlA9ITEWcMVAifK.png\n",
            "Wrong image format returned. Skipping...\n",
            "Completed Image ====> 3.0d9b463f1438ca0c415538774184a098.png\n",
            "Wrong image format returned. Skipping...\n",
            "Wrong image format returned. Skipping...\n",
            "Wrong image format returned. Skipping...\n",
            "Wrong image format returned. Skipping...\n",
            "Wrong image format returned. Skipping...\n",
            "Wrong image format returned. Skipping...\n",
            "Wrong image format returned. Skipping...\n",
            "Wrong image format returned. Skipping...\n",
            "Wrong image format returned. Skipping...\n",
            "Wrong image format returned. Skipping...\n",
            "Wrong image format returned. Skipping...\n",
            "Wrong image format returned. Skipping...\n",
            "Wrong image format returned. Skipping...\n",
            "Wrong image format returned. Skipping...\n",
            "Completed Image ====> 4.Adidas-Logo-6-copy.png\n",
            "Wrong image format returned. Skipping...\n",
            "Wrong image format returned. Skipping...\n",
            "Wrong image format returned. Skipping...\n",
            "Wrong image format returned. Skipping...\n",
            "Wrong image format returned. Skipping...\n",
            "Wrong image format returned. Skipping...\n",
            "Wrong image format returned. Skipping...\n",
            "Completed Image ====> 5.790px-Adidas_klassisches_logo.svg.png\n",
            "Completed Image ====> 6.Untitled-design-7-1180x627.png\n",
            "Wrong image format returned. Skipping...\n",
            "Wrong image format returned. Skipping...\n",
            "Wrong image format returned. Skipping...\n",
            "Wrong image format returned. Skipping...\n",
            "Wrong image format returned. Skipping...\n",
            "Wrong image format returned. Skipping...\n",
            "Wrong image format returned. Skipping...\n",
            "Wrong image format returned. Skipping...\n",
            "Wrong image format returned. Skipping...\n",
            "Wrong image format returned. Skipping...\n",
            "Wrong image format returned. Skipping...\n",
            "Wrong image format returned. Skipping...\n",
            "Wrong image format returned. Skipping...\n",
            "Wrong image format returned. Skipping...\n",
            "Wrong image format returned. Skipping...\n",
            "Wrong image format returned. Skipping...\n",
            "Completed Image ====> 7.adidas_logo_concept_20190808_1988578280.png\n",
            "Completed Image ====> 8.1*G7CHi88DvtlJLf9v0SwS6Q.png\n",
            "Completed Image ====> 9.Screen-Shot-2017-02-07-at-12.03.06-PM-630x267.png\n",
            "Wrong image format returned. Skipping...\n",
            "Wrong image format returned. Skipping...\n",
            "Wrong image format returned. Skipping...\n",
            "Wrong image format returned. Skipping...\n",
            "Wrong image format returned. Skipping...\n",
            "Wrong image format returned. Skipping...\n",
            "Wrong image format returned. Skipping...\n",
            "Wrong image format returned. Skipping...\n",
            "Wrong image format returned. Skipping...\n",
            "Wrong image format returned. Skipping...\n",
            "Completed Image ====> 10.cover-loghi-adidas.png\n",
            "Completed Image ====> 11.adidas-original-logo-11ECB1018C-seeklogo.com.png\n",
            "Completed Image ====> 12.adidas-2-logo-png-transparent.png\n",
            "Completed Image ====> 13.1.png\n",
            "Wrong image format returned. Skipping...\n",
            "Wrong image format returned. Skipping...\n",
            "Wrong image format returned. Skipping...\n",
            "Wrong image format returned. Skipping...\n",
            "Wrong image format returned. Skipping...\n",
            "Wrong image format returned. Skipping...\n",
            "Completed Image ====> 14.Adidas-Logo-PNG-Photo.png\n",
            "Wrong image format returned. Skipping...\n",
            "Wrong image format returned. Skipping...\n",
            "Completed Image ====> 15.fortnite-battle-royale-x-adidas-logo-shirts.png\n",
            "Wrong image format returned. Skipping...\n",
            "Wrong image format returned. Skipping...\n",
            "Wrong image format returned. Skipping...\n",
            "Completed Image ====> 16.adidas-logo-png-transparent-adidas-logo-images-290839.png\n",
            "Completed Image ====> 17.Adidas-Logo-PNG-Pic.png\n",
            "Wrong image format returned. Skipping...\n",
            "Completed Image ====> 18.131-1319394_file-cannabis-blue-adidas-originals-logo.png\n",
            "Completed Image ====> 19.t725.png\n",
            "Completed Image ====> 20.adidas-trefoil-logo.png\n",
            "Wrong image format returned. Skipping...\n",
            "Wrong image format returned. Skipping...\n",
            "Wrong image format returned. Skipping...\n",
            "Completed Image ====> 21.finish0.png\n",
            "Wrong image format returned. Skipping...\n",
            "Completed Image ====> 22.Adidas-Logo-PNG-Clipart.png\n",
            "Wrong image format returned. Skipping...\n",
            "Completed Image ====> 23.adidas-hd-png-adidas-company-symbol-icon-shoes-sign-fitness-960.png\n",
            "Wrong image format returned. Skipping...\n",
            "Completed Image ====> 24.f7d635a8d01c266d7f2fbed410040439.png\n",
            "Wrong image format returned. Skipping...\n",
            "Completed Image ====> 25.adidas-logo-72A9F0170E-seeklogo.com_-1.png\n",
            "Completed Image ====> 26.wakanda-black-panther-and-adidas-logo-mashup-shirts.png\n",
            "Wrong image format returned. Skipping...\n",
            "Wrong image format returned. Skipping...\n",
            "Completed Image ====> 27.adidas_logo_concept_20190808_1782078946.png\n",
            "URLError on an image...trying next one... Error: <urlopen error [SSL: CERTIFICATE_VERIFY_FAILED] certificate verify failed (_ssl.c:852)>\n",
            "Completed Image ====> 28.alpha-adidas-logos.png\n",
            "Completed Image ====> 29.108-1089108_adidas-adidas-skateboarding-logo.png\n",
            "Wrong image format returned. Skipping...\n",
            "Completed Image ====> 30.adidas-logo-font.png\n",
            "Wrong image format returned. Skipping...\n",
            "Completed Image ====> 31.58173-logo-superstar-originals-adidas-shoe-free-download-image.png\n",
            "Wrong image format returned. Skipping...\n",
            "Wrong image format returned. Skipping...\n",
            "Wrong image format returned. Skipping...\n",
            "Completed Image ====> 32.284-2846753_t-shirt-adidas-originals-cannabis-logo-adidas-originals-logo-weed.png\n",
            "Completed Image ====> 33.382-3827096_simple-adidas-logo-png-transparent-background-of-the.png\n",
            "Wrong image format returned. Skipping...\n",
            "Wrong image format returned. Skipping...\n",
            "Wrong image format returned. Skipping...\n",
            "Wrong image format returned. Skipping...\n",
            "Wrong image format returned. Skipping...\n",
            "Completed Image ====> 34.Screen_Shot_2015-04-24_at_6.07.48_PM-original.png\n",
            "Wrong image format returned. Skipping...\n",
            "Wrong image format returned. Skipping...\n",
            "Wrong image format returned. Skipping...\n",
            "Completed Image ====> 35.adidas-logo-text-png-25.png\n",
            "Wrong image format returned. Skipping...\n",
            "Completed Image ====> 36.Adidas-Logo1.png\n",
            "Wrong image format returned. Skipping...\n",
            "Wrong image format returned. Skipping...\n",
            "Completed Image ====> 37.upscale-240003817027212.png\n",
            "Completed Image ====> 38.s3-news-tmp-77017-untitled_design_17_10--2x1--940.png\n",
            "Wrong image format returned. Skipping...\n",
            "Wrong image format returned. Skipping...\n",
            "Completed Image ====> 39.1011-10119645_nike-logo-clipart-addies-new-adidas-logo-2018.png\n",
            "Completed Image ====> 40.18-183648_the-gallery-for-qri-png-logo-adidas-png.png\n",
            "Completed Image ====> 41.18-183399_adidas-logo-png-pic-adidas-logo-png.png\n",
            "Wrong image format returned. Skipping...\n",
            "Wrong image format returned. Skipping...\n",
            "Completed Image ====> 42.Screen_Shot_2015-04-24_at_6.07.38_PM-original.png\n",
            "URLError on an image...trying next one... Error: <urlopen error [SSL: CERTIFICATE_VERIFY_FAILED] certificate verify failed (_ssl.c:852)>\n",
            "Wrong image format returned. Skipping...\n",
            "Wrong image format returned. Skipping...\n",
            "Wrong image format returned. Skipping...\n",
            "Completed Image ====> 43.adidas-logo-4AAFB9EC99-seeklogo.com.png\n",
            "Wrong image format returned. Skipping...\n",
            "Completed Image ====> 44.207892.png\n",
            "Wrong image format returned. Skipping...\n",
            "Wrong image format returned. Skipping...\n",
            "Completed Image ====> 45.253-2532491_logo-adidas-colores-png.png\n",
            "Wrong image format returned. Skipping...\n",
            "Wrong image format returned. Skipping...\n",
            "Wrong image format returned. Skipping...\n",
            "Wrong image format returned. Skipping...\n",
            "Wrong image format returned. Skipping...\n",
            "Wrong image format returned. Skipping...\n",
            "Completed Image ====> 46.adidas.png\n",
            "Wrong image format returned. Skipping...\n",
            "Wrong image format returned. Skipping...\n",
            "Wrong image format returned. Skipping...\n",
            "Completed Image ====> 47.6efdd0e6517f76b093114836301d4ff1.png\n",
            "Wrong image format returned. Skipping...\n",
            "Wrong image format returned. Skipping...\n",
            "Completed Image ====> 48.006_Branded_in_Memory_Adidas.png\n",
            "Completed Image ====> 49.adidas-squarelogo-1499169651022.png\n",
            "Wrong image format returned. Skipping...\n",
            "Wrong image format returned. Skipping...\n",
            "Completed Image ====> 50.adidas-logo-png-blue-fichieradidas-generic-whiteblue-kit-492100.png\n",
            "Wrong image format returned. Skipping...\n",
            "Wrong image format returned. Skipping...\n",
            "Wrong image format returned. Skipping...\n",
            "Completed Image ====> 51.Adidas-Logo-PNG-File.png\n",
            "Wrong image format returned. Skipping...\n",
            "Wrong image format returned. Skipping...\n",
            "Wrong image format returned. Skipping...\n",
            "Completed Image ====> 52.adidas-ba.png\n",
            "Completed Image ====> 53.adidas-trefoil-png-adidas-trefoil-icon-png-50-px-1600.png\n",
            "Wrong image format returned. Skipping...\n",
            "Wrong image format returned. Skipping...\n",
            "Wrong image format returned. Skipping...\n",
            "Wrong image format returned. Skipping...\n",
            "Completed Image ====> 54.6068.png\n",
            "Wrong image format returned. Skipping...\n",
            "Wrong image format returned. Skipping...\n",
            "Wrong image format returned. Skipping...\n",
            "Wrong image format returned. Skipping...\n",
            "Wrong image format returned. Skipping...\n",
            "Wrong image format returned. Skipping...\n",
            "Wrong image format returned. Skipping...\n",
            "Completed Image ====> 55.289203760027211.png\n",
            "Completed Image ====> 56.adidas.png\n",
            "Wrong image format returned. Skipping...\n",
            "Completed Image ====> 57.clipart-icon-adidas-logo-5.png\n",
            "Wrong image format returned. Skipping...\n",
            "Wrong image format returned. Skipping...\n",
            "Wrong image format returned. Skipping...\n",
            "Wrong image format returned. Skipping...\n",
            "Wrong image format returned. Skipping...\n",
            "Wrong image format returned. Skipping...\n",
            "Wrong image format returned. Skipping...\n",
            "Wrong image format returned. Skipping...\n",
            "Wrong image format returned. Skipping...\n",
            "Wrong image format returned. Skipping...\n",
            "Wrong image format returned. Skipping...\n",
            "Completed Image ====> 58.fortnite-battle-royale-x-adidas-logo-addicted-shirts-4.png\n",
            "Wrong image format returned. Skipping...\n",
            "URLError on an image...trying next one... Error: <urlopen error [SSL: CERTIFICATE_VERIFY_FAILED] certificate verify failed (_ssl.c:852)>\n",
            "Completed Image ====> 59.adidas-logo-png-images-30.png\n",
            "Wrong image format returned. Skipping...\n",
            "Completed Image ====> 60.Adidas-Logo-PNG-Free-Download.png\n",
            "Wrong image format returned. Skipping...\n",
            "Wrong image format returned. Skipping...\n",
            "Wrong image format returned. Skipping...\n",
            "Completed Image ====> 61.Adidas-Logo-PNG-Picture.png\n",
            "Wrong image format returned. Skipping...\n",
            "Wrong image format returned. Skipping...\n",
            "Wrong image format returned. Skipping...\n",
            "Completed Image ====> 62.logo-adidas-png.png\n",
            "Wrong image format returned. Skipping...\n",
            "Wrong image format returned. Skipping...\n",
            "Wrong image format returned. Skipping...\n",
            "Wrong image format returned. Skipping...\n",
            "Completed Image ====> 63.3-30306_transparent-background-adidas-logo-white-hd-png-download.png\n",
            "Completed Image ====> 64.adidas-logo-png-transparent-images-174965-6619729.png\n",
            "Completed Image ====> 65.neon_adidas_logo.png\n",
            "URLError on an image...trying next one... Error: <urlopen error [SSL: CERTIFICATE_VERIFY_FAILED] certificate verify failed (_ssl.c:852)>\n",
            "Wrong image format returned. Skipping...\n",
            "URLError on an image...trying next one... Error: <urlopen error [SSL: CERTIFICATE_VERIFY_FAILED] certificate verify failed (_ssl.c:852)>\n",
            "Completed Image ====> 66.58139-t-shirt-logo-adidas-png-download-free.png\n",
            "Completed Image ====> 67.18-183928_transparent-adidas-tumblr-adidas-logo-holographic.png\n",
            "Wrong image format returned. Skipping...\n",
            "Wrong image format returned. Skipping...\n",
            "Wrong image format returned. Skipping...\n",
            "Wrong image format returned. Skipping...\n",
            "Wrong image format returned. Skipping...\n",
            "Wrong image format returned. Skipping...\n",
            "Completed Image ====> 68.adidas-logo-png-290836.png\n",
            "Wrong image format returned. Skipping...\n",
            "Completed Image ====> 69.new-adidas-logo-design.png\n",
            "Wrong image format returned. Skipping...\n",
            "Wrong image format returned. Skipping...\n",
            "Wrong image format returned. Skipping...\n",
            "Wrong image format returned. Skipping...\n",
            "Wrong image format returned. Skipping...\n",
            "Wrong image format returned. Skipping...\n",
            "Wrong image format returned. Skipping...\n",
            "Wrong image format returned. Skipping...\n",
            "Wrong image format returned. Skipping...\n",
            "Wrong image format returned. Skipping...\n",
            "Wrong image format returned. Skipping...\n",
            "Completed Image ====> 70.Adidas-Logo-PNG-Picture.png\n",
            "Completed Image ====> 71.adidas-logo-bianco-png-7.png\n",
            "Wrong image format returned. Skipping...\n",
            "Wrong image format returned. Skipping...\n",
            "Completed Image ====> 72.adidas-logo-400DE4B77C-seeklogo.com.png\n",
            "Completed Image ====> 73.1-16848_adidas-white-logo-png-free-stock-adidas.png\n",
            "Wrong image format returned. Skipping...\n",
            "Wrong image format returned. Skipping...\n",
            "Wrong image format returned. Skipping...\n",
            "Wrong image format returned. Skipping...\n",
            "Completed Image ====> 74.tumblr_oilrzx63fV1tixvyxo1_400.png\n",
            "Wrong image format returned. Skipping...\n",
            "Completed Image ====> 75.adidas-heritage-logo.png\n",
            "Completed Image ====> 76.nike-logo-png.png\n",
            "Wrong image format returned. Skipping...\n",
            "Wrong image format returned. Skipping...\n",
            "Wrong image format returned. Skipping...\n",
            "Completed Image ====> 77.Adidas-Logo-PNG.png\n",
            "Wrong image format returned. Skipping...\n",
            "Completed Image ====> 78.1-17075_adidas-logo-vector-pin-by-petra-on-1.png\n",
            "Wrong image format returned. Skipping...\n",
            "Completed Image ====> 79.Adidas-Logo-PNG-Image-File.png\n",
            "Completed Image ====> 80.adidas.png\n",
            "IOError on an image...trying next one... Error: The read operation timed out\n",
            "Wrong image format returned. Skipping...\n",
            "Completed Image ====> 81.316002_white-adidas-logo-png.png\n",
            "Completed Image ====> 82.754056.png\n",
            "Completed Image ====> 83.Titanic-Adidas.png\n",
            "Wrong image format returned. Skipping...\n",
            "Wrong image format returned. Skipping...\n",
            "Completed Image ====> 84.adidas-logo-cliparts-144366-1924939.png\n",
            "IOError on an image...trying next one... Error: The read operation timed out\n",
            "Wrong image format returned. Skipping...\n",
            "Wrong image format returned. Skipping...\n",
            "Wrong image format returned. Skipping...\n",
            "Wrong image format returned. Skipping...\n",
            "Completed Image ====> 85.11cbad16482709.562ad91ba4f0e.png\n",
            "Wrong image format returned. Skipping...\n",
            "Wrong image format returned. Skipping...\n",
            "Wrong image format returned. Skipping...\n",
            "Completed Image ====> 86.213-2136479_adidas-logo-transparent-background-the-gallery-for-nike.png\n",
            "Wrong image format returned. Skipping...\n",
            "Wrong image format returned. Skipping...\n",
            "Wrong image format returned. Skipping...\n",
            "URLError on an image...trying next one... Error: <urlopen error [SSL: CERTIFICATE_VERIFY_FAILED] certificate verify failed (_ssl.c:852)>\n",
            "Wrong image format returned. Skipping...\n",
            "Completed Image ====> 87.9ce193c2c4ad0ed95e3cda65e0226aba.png\n",
            "Completed Image ====> 88.adidas-originals-since-1949-logo-D2BC0809DF-seeklogo.com.png\n",
            "Completed Image ====> 89.adidas-logo-png-30.png\n",
            "Wrong image format returned. Skipping...\n",
            "Wrong image format returned. Skipping...\n",
            "Completed Image ====> 90.18-183399_adidas-logo-png-pic-adidas-logo-png.png\n",
            "Wrong image format returned. Skipping...\n",
            "Wrong image format returned. Skipping...\n",
            "Completed Image ====> 91.Adidas-Logo-PNG-Transparent-Background.png\n",
            "Wrong image format returned. Skipping...\n",
            "Wrong image format returned. Skipping...\n",
            "Wrong image format returned. Skipping...\n",
            "Wrong image format returned. Skipping...\n",
            "Wrong image format returned. Skipping...\n",
            "Wrong image format returned. Skipping...\n",
            "Wrong image format returned. Skipping...\n",
            "Completed Image ====> 92.adidas-logo-png-transparent-adidas-logo-images-492075.png\n",
            "Wrong image format returned. Skipping...\n",
            "Wrong image format returned. Skipping...\n",
            "Wrong image format returned. Skipping...\n",
            "Completed Image ====> 93.fc11d653c2d8740ea930bb2b1dd9e99c.png\n",
            "Wrong image format returned. Skipping...\n",
            "Completed Image ====> 94.adidas-originals-logo-C1886E2823-seeklogo.com.png\n",
            "Wrong image format returned. Skipping...\n",
            "Wrong image format returned. Skipping...\n",
            "Completed Image ====> 95.753942.png\n",
            "Wrong image format returned. Skipping...\n",
            "Wrong image format returned. Skipping...\n",
            "Wrong image format returned. Skipping...\n",
            "Wrong image format returned. Skipping...\n",
            "Completed Image ====> 96.439831.png\n",
            "Wrong image format returned. Skipping...\n",
            "Wrong image format returned. Skipping...\n",
            "Wrong image format returned. Skipping...\n",
            "Wrong image format returned. Skipping...\n",
            "Completed Image ====> 97.adidas-style-logo-266BDE3171-seeklogo.com.png\n",
            "Wrong image format returned. Skipping...\n",
            "Completed Image ====> 98.754168.png\n",
            "Wrong image format returned. Skipping...\n",
            "Wrong image format returned. Skipping...\n",
            "Wrong image format returned. Skipping...\n",
            "Wrong image format returned. Skipping...\n",
            "Completed Image ====> 99.494bc344adf4249e268a8440dcc2dbc7.png\n",
            "Wrong image format returned. Skipping...\n",
            "Wrong image format returned. Skipping...\n",
            "Wrong image format returned. Skipping...\n",
            "Wrong image format returned. Skipping...\n",
            "Wrong image format returned. Skipping...\n",
            "Wrong image format returned. Skipping...\n",
            "Wrong image format returned. Skipping...\n",
            "Wrong image format returned. Skipping...\n",
            "Completed Image ====> 100.adidas-logo-410F8A2B3C-seeklogo.com.png\n",
            "Wrong image format returned. Skipping...\n",
            "Wrong image format returned. Skipping...\n",
            "Wrong image format returned. Skipping...\n",
            "Wrong image format returned. Skipping...\n",
            "Wrong image format returned. Skipping...\n",
            "Wrong image format returned. Skipping...\n",
            "Wrong image format returned. Skipping...\n",
            "Wrong image format returned. Skipping...\n",
            "Wrong image format returned. Skipping...\n",
            "Wrong image format returned. Skipping...\n",
            "Wrong image format returned. Skipping...\n",
            "Wrong image format returned. Skipping...\n",
            "Wrong image format returned. Skipping...\n",
            "Wrong image format returned. Skipping...\n",
            "Wrong image format returned. Skipping...\n",
            "Wrong image format returned. Skipping...\n",
            "Wrong image format returned. Skipping...\n",
            "Wrong image format returned. Skipping...\n",
            "Wrong image format returned. Skipping...\n",
            "Completed Image ====> 101.537b97414ec06808de1d89eeee8d4f95.png\n",
            "Wrong image format returned. Skipping...\n",
            "Wrong image format returned. Skipping...\n",
            "Wrong image format returned. Skipping...\n",
            "Wrong image format returned. Skipping...\n",
            "Wrong image format returned. Skipping...\n",
            "Wrong image format returned. Skipping...\n",
            "Wrong image format returned. Skipping...\n",
            "\n",
            "\n",
            "Unfortunately all 500 could not be downloaded because some images were not downloadable. 101 is all we got for this search filter!\n",
            "\n",
            "Errors: 270\n",
            "\n",
            "\n",
            "Everything downloaded!\n",
            "Total errors: 270\n",
            "Total time taken: 146.4437108039856 Seconds\n"
          ],
          "name": "stdout"
        }
      ]
    },
    {
      "cell_type": "code",
      "metadata": {
        "id": "OHupvowR3Yyl",
        "colab_type": "code",
        "colab": {
          "base_uri": "https://localhost:8080/",
          "height": 1000
        },
        "outputId": "b5855aa6-a89d-469b-955c-ba00f075f716"
      },
      "source": [
        "!googleimagesdownload --format png -o \"/content/drive/My Drive/data/train/nike\" --chromedriver '/usr/bin/chromedriver' -n -l 500 -si https://cdn.shopify.com/s/files/1/1431/4540/products/NIKE_Logo_AIR_Jordan_JumpMan_23_HUGE_Flight_Wall_Decal_Sticker_1024x1024.jpg?v=1526782062"
      ],
      "execution_count": 46,
      "outputs": [
        {
          "output_type": "stream",
          "text": [
            "\n",
            "Item no.: 1 --> Item name = 2019-10-13 07_25_09\n",
            "Evaluating...\n",
            "https://cdn.shopify.com/s/files/1/1431/4540/products/NIKE_Logo_AIR_Jordan_JumpMan_23_HUGE_Flight_Wall_Decal_Sticker_1024x1024.jpg?v=1526782062\n",
            "Getting you a lot of images. This may take a few moments...\n",
            "Reached end of Page.\n",
            "Starting Download...\n",
            "Completed Image ====> 1.nike_PNG5.png\n",
            "Completed Image ====> 2.nike_PNG17.png\n",
            "Completed Image ====> 3.nike_PNG11.png\n",
            "Completed Image ====> 4.nike-logo-png-download-nike-logo-png-images-transparent-gallery-advertisement-1024.png\n",
            "Wrong image format returned. Skipping...\n",
            "Completed Image ====> 5.nike-logo-png-17.png\n",
            "Wrong image format returned. Skipping...\n",
            "Wrong image format returned. Skipping...\n",
            "Completed Image ====> 6.nike_PNG12.png\n",
            "Completed Image ====> 7.Nike-Logo-Free-Download-PNG.png\n",
            "Completed Image ====> 8.Nike_logo_emblem_logotype.png\n",
            "Completed Image ====> 9.nike_PNG4.png\n",
            "Completed Image ====> 10.nike-4-logo-png-transparent.png\n",
            "Wrong image format returned. Skipping...\n",
            "Completed Image ====> 11.nike-logo-png-transparent-10.png\n",
            "Wrong image format returned. Skipping...\n",
            "Completed Image ====> 12.Download-Nike-Logo-PNG-Picture.png\n",
            "Completed Image ====> 13.Blc12i-red-nike-logo-clipart-png-photos.png\n",
            "Completed Image ====> 14.Nike-Logo.png\n",
            "Completed Image ====> 15.nike-logo-png-transparent-8.png\n",
            "Completed Image ====> 16.Download-Nike-Logo-PNG-File-For-Designing-Projects.png\n",
            "Completed Image ====> 17.nike_PNG7.png\n",
            "Completed Image ====> 18.111-1114036_nike-vector-nike-logo-png-orange-clipart.png\n",
            "Completed Image ====> 19.38-383868_nike-logo-png-japanese-nike-logo-png-transparent.png\n",
            "Completed Image ====> 20.28093-5-nike-logo-image-thumb.png\n",
            "Completed Image ====> 21.Nike-Logo-Free-PNG.png\n",
            "Wrong image format returned. Skipping...\n",
            "Completed Image ====> 22.183-1835719_nike-logo-png-file-gold-nike-swoosh-logo.png\n",
            "Completed Image ====> 23.2-24590_nike-logo-png-transparent-png-download.png\n",
            "Completed Image ====> 24.nike-transparent-logo-3.png\n",
            "Completed Image ====> 25.57-573333_white-nike-swoosh-png-nike-logo-2018-png.png\n",
            "Wrong image format returned. Skipping...\n",
            "Wrong image format returned. Skipping...\n",
            "Completed Image ====> 26.Nike-Logo-PNG.png\n",
            "Completed Image ====> 27.391-3910645_nike-logo-transparent-white-pictures-png-nike-png.png\n",
            "Completed Image ====> 28.ike-logo-png-images-free-download-clipart-black-and-nike-logo-red-11563022747kpnnf8phvz.png\n",
            "Completed Image ====> 29.56-562349_nike-logo-png-transparent-png.png\n",
            "Completed Image ====> 30.491-4919844_black-friday-jd-sports-transparent-yellow-nike-logo.png\n",
            "Completed Image ====> 31.nike-sb-logo-png-5.png\n",
            "Completed Image ====> 32.44-444490_john-barnes-nike-geometric-cool-cool-nike-logo.png\n",
            "Completed Image ====> 33.20602d43cc993811e5a6bd1886af4f33.png\n",
            "Completed Image ====> 34.552-5526631_nike-air-max-vapormax-logo-air-max-nike.png\n",
            "Wrong image format returned. Skipping...\n",
            "Completed Image ====> 35.nike-logo-png-10.png\n",
            "Completed Image ====> 36.Nike_logo_just_do_it.png\n",
            "Wrong image format returned. Skipping...\n",
            "Completed Image ====> 37.nike-logo-transparent-177943.png\n",
            "Wrong image format returned. Skipping...\n",
            "Completed Image ====> 38.PNGPIX-COM-Nike-Logo-PNG-Transparent-1-1024x404.png\n",
            "Completed Image ====> 39.nike-5-logo-png-transparent.png\n",
            "Completed Image ====> 40.169-1698823_nike-png-tick-white-nike-logo.png\n",
            "Wrong image format returned. Skipping...\n",
            "Completed Image ====> 41.438-4380417_nike-logo-decal-nike-cut-out-logo.png\n",
            "Completed Image ====> 42.nike-logo-png-puma-logo-1500.png\n",
            "Completed Image ====> 43.7-2-nike-logo-png-image-thumb.png\n",
            "Wrong image format returned. Skipping...\n",
            "Wrong image format returned. Skipping...\n",
            "Completed Image ====> 44.kT8bRV-download-green-nike-logo-png.png\n",
            "Completed Image ====> 45.1-15578_nike-logo-png-nike-logo-white-png.png\n",
            "Wrong image format returned. Skipping...\n",
            "Completed Image ====> 46.Download-Nike-Logo-PNG-Photos.png\n",
            "Wrong image format returned. Skipping...\n",
            "Completed Image ====> 47.81-815059_thunder-clipart-soccer-kits-512x512-nike-logo-png.png\n",
            "Wrong image format returned. Skipping...\n",
            "Wrong image format returned. Skipping...\n",
            "Wrong image format returned. Skipping...\n",
            "Wrong image format returned. Skipping...\n",
            "Completed Image ====> 48.f49e5a68589a4fc5193c583a482a29a0.png\n",
            "Completed Image ====> 49.nike-swoosh-logo-outline-cakes-in-outline-177946.png\n",
            "Completed Image ====> 50.Nike-Logo-Transparent.png\n",
            "Completed Image ====> 51.nike-logo-png-35.png\n",
            "Completed Image ====> 52.nike-512.png\n",
            "Completed Image ====> 53.207-2073195_nike-logo-png-nike-logo-png-clipart-png.png\n",
            "Completed Image ====> 54.183-1835723_nike-swoosh-logo-png-nike-logo-orange-color.png\n",
            "Completed Image ====> 55.nike.png\n",
            "Wrong image format returned. Skipping...\n",
            "Completed Image ====> 56.450-4506267_nike-logo-png-nike-logo-png-images-download.png\n",
            "Completed Image ====> 57.71282-force-nike-brand-air-jordan-shoe-logo.png\n",
            "Wrong image format returned. Skipping...\n",
            "Completed Image ====> 58.197-1977458_puma-logo-png-free-transparent-png-logos-nike.png\n",
            "Completed Image ====> 59.nike-logo-png-transparent-images-clipart-icons-pngriver-download-free-previewlogo-nike.png\n",
            "Wrong image format returned. Skipping...\n",
            "Completed Image ====> 60.206-2061368_chanel-png-tumblr-baby-girl-nike-logo.png\n",
            "Wrong image format returned. Skipping...\n",
            "Wrong image format returned. Skipping...\n",
            "Completed Image ====> 61.142-1421508_nike-logo-wwwpixsharkcom-images-galleries-nike-premier-club.png\n",
            "Completed Image ====> 62.nike-logo-97641CDCFC-seeklogo.com.png\n",
            "Completed Image ====> 63.nike-icon-png.png\n",
            "Completed Image ====> 64.5390235-nike-logo-png-white-abeoncliparts-cliparts-vectors-for-free-2019-nike-logo-white-png-840_307_preview.png\n",
            "Completed Image ====> 65.nike-logo-vector-png-transparent-178011.png\n",
            "Completed Image ====> 66.265fa346007a2a12a4b7609e3d8d5212.png\n",
            "Wrong image format returned. Skipping...\n",
            "Completed Image ====> 67.115-1159981_nike-logo-clipart-nike-swoosh-hd-png-download.png\n",
            "Wrong image format returned. Skipping...\n",
            "Completed Image ====> 68.739694_nike-logo-png-transparent.png\n",
            "Completed Image ====> 69.nike-512.png\n",
            "Completed Image ====> 70.7045_nike-logo-png.png\n",
            "Completed Image ====> 71.nike-logo-png-nike-symbol-512.png\n",
            "Completed Image ====> 72.1668889_thumb.png\n",
            "URLError on an image...trying next one... Error: HTTP Error 404: Not Found\n",
            "Completed Image ====> 73.59-598199_nike-logo-png-white-transparent-png.png\n",
            "Completed Image ====> 74.11-111509_nike-logo-png-white-nike-logo-transparent-background.png\n",
            "Completed Image ====> 75.nike_PNG20.png\n",
            "Completed Image ====> 76.40-407084_nike-logo-png-red-nike-logo-png.png\n",
            "Completed Image ====> 77.5841914ea6515b1e0ad75a4d.png\n",
            "Completed Image ====> 78.38-383757_nike-logo-drawing-nike-snkrs-logo-hd-png.png\n",
            "Wrong image format returned. Skipping...\n",
            "Completed Image ====> 79.166-1660141_nike-icons-nike-logo-fire-png-clipart.png\n",
            "Completed Image ====> 80.1011-10119523_nike-town-black-logo-nike.png\n",
            "Wrong image format returned. Skipping...\n",
            "Completed Image ====> 81.207-2073107_white-nike-logo-png-just-do-it-nike.png\n",
            "Completed Image ====> 82.kevin-durant-nike-logo-kevin-durant-logo-11563109472ox0icmp7sf.png\n",
            "Wrong image format returned. Skipping...\n",
            "Completed Image ====> 83.57-573333_white-nike-swoosh-png-nike-logo-2018-png.png\n",
            "Completed Image ====> 84.39-398504_nike-logo-png-nike-logo-png-white.png\n",
            "Completed Image ====> 85.111-1114327_nike-logo-clipart-addies-adidas-logo-png-download.png\n",
            "Completed Image ====> 86.Nike_Golf_logo_black.png\n",
            "Completed Image ====> 87.nike-logo-png-38.png\n",
            "Completed Image ====> 88.1655.png\n",
            "Wrong image format returned. Skipping...\n",
            "Completed Image ====> 89.nike-logo-png.png\n",
            "Wrong image format returned. Skipping...\n",
            "Wrong image format returned. Skipping...\n",
            "Completed Image ====> 90.nike-logo-clipart-177860.png\n",
            "Completed Image ====> 91.196144_preview.png\n",
            "Completed Image ====> 92.57-573365_white-nike-logo-vector.png\n",
            "Completed Image ====> 93.Nike-logo-orange.png\n",
            "Completed Image ====> 94.4-2-nike-logo-png-clipart-thumb.png\n",
            "Completed Image ====> 95.nike-logo-png-transparent-images-clipart-icons-pngriver-download-free-Nike-Snowboarding-logo.png\n",
            "Wrong image format returned. Skipping...\n",
            "Completed Image ====> 96.479-4796800_nike-logo-png-clipart-swoosh-logo-head-no.png\n",
            "Wrong image format returned. Skipping...\n",
            "Wrong image format returned. Skipping...\n",
            "URLError on an image...trying next one... Error: <urlopen error [Errno -3] Temporary failure in name resolution>\n",
            "Completed Image ====> 97.nike-512.png\n",
            "Completed Image ====> 98.103-1033851_nike-logo-logos-parallel-hd-png-download.png\n",
            "Wrong image format returned. Skipping...\n",
            "Completed Image ====> 99.958-9584618_nike-logo-clipart-nikee.png\n",
            "Completed Image ====> 100.ypdAvz-nike-logo-silver-png-picture.png\n",
            "Wrong image format returned. Skipping...\n",
            "Completed Image ====> 101.39-395075_nike-logo-png-clipart-swoosh-transparent-dialogue-icon.png\n",
            "Completed Image ====> 102.111-1114316_nike-logo-clipart-high-resolution-nike-run-club.png\n",
            "Completed Image ====> 103.2000px-Logo_NIKE-800x358.png\n",
            "Completed Image ====> 104.127348_nike-swoosh-png.png\n",
            "Wrong image format returned. Skipping...\n",
            "Wrong image format returned. Skipping...\n",
            "Wrong image format returned. Skipping...\n",
            "Completed Image ====> 105.39-398641_white-nike-logo-png.png\n",
            "Wrong image format returned. Skipping...\n",
            "Wrong image format returned. Skipping...\n",
            "Completed Image ====> 106.Screen-Shot-2018-09-06-at-1.15.46-PM.png\n",
            "Completed Image ====> 107.2-24774_nike-factory-store-logo-hd-png-download.png\n",
            "Completed Image ====> 108.blue-ribbon-sports-logo-design.png\n",
            "Completed Image ====> 109.39-398542_nike-logo-png-nike-logo.png\n",
            "Completed Image ====> 110.nike-logo-png-siyah-7.png\n",
            "Completed Image ====> 111.207-2073155_nike-logo-clipart-original-gold-nike-logo-png.png\n",
            "Completed Image ====> 112.5-55634_red-nike-logo-png-download-nike-golf-logo.png\n",
            "Completed Image ====> 113.59-595564_moxy-hotels-logos-brands-and-logotypes-nike-logo.png\n",
            "Wrong image format returned. Skipping...\n",
            "Completed Image ====> 114.nike-golf-logo-vector-43626-400x400.png\n",
            "Completed Image ====> 115.Nike-Logo-Png-Free-Download.png\n",
            "Completed Image ====> 116.5507811-nike-logo-png-white-nike-logo-just-do-it-nike-logo-white-nike-logos-260_140_preview.png\n",
            "Completed Image ====> 117.nike-6-logo.png\n",
            "Completed Image ====> 118.102-1022587_nike-logo-logos-de-marcas-nike-logo-png.png\n",
            "Completed Image ====> 119.nike-logo-png-photos-177972.png\n",
            "Completed Image ====> 120.nike-logo-png.png\n",
            "Completed Image ====> 121.Nike-Logo-180x180.png\n",
            "Completed Image ====> 122.nike-logo-clipart-18.png\n",
            "Completed Image ====> 123.1011-10119645_nike-logo-clipart-addies-new-adidas-logo-2018.png\n",
            "Completed Image ====> 124.Nike_Golf-logo-303612D068-seeklogo.com.png\n",
            "Wrong image format returned. Skipping...\n",
            "Completed Image ====> 125.Nike_logo_factory_store.png\n",
            "Completed Image ====> 126.t725.png\n",
            "Wrong image format returned. Skipping...\n",
            "Wrong image format returned. Skipping...\n",
            "Completed Image ====> 127.Screen-Shot-2018-06-13-at-7.45.24-AM-1-1024x486.png\n",
            "Completed Image ====> 128.219-2194081_nike-logo-187-memes-funny-nike-and-jordan.png\n",
            "Wrong image format returned. Skipping...\n",
            "Completed Image ====> 129.Nike-Logo-PNG.png\n",
            "Completed Image ====> 130.287961701053211.png\n",
            "Wrong image format returned. Skipping...\n",
            "Wrong image format returned. Skipping...\n",
            "Completed Image ====> 131.59-594829_nike-risk-everything-logo-png-risk-everything-nike.png\n",
            "Completed Image ====> 132.739688_nike-logo-png-transparent.png\n",
            "Completed Image ====> 133.169-1690432_nike-clipart-blue-blue-and-white-nike-logo.png\n",
            "Completed Image ====> 134.white-nike-logo-png-4.png\n",
            "Completed Image ====> 135.nike-logo-png-transparent-images-clipart-icons-pngriver-download-free-nike-logo-gray.png\n",
            "Wrong image format returned. Skipping...\n",
            "Wrong image format returned. Skipping...\n",
            "Wrong image format returned. Skipping...\n",
            "Wrong image format returned. Skipping...\n",
            "Wrong image format returned. Skipping...\n",
            "Completed Image ====> 136.nike-logo.png\n",
            "Completed Image ====> 137.59-595099_nike-logo-png-transparent-blue-nike-basketball-logo.png\n",
            "Completed Image ====> 138.284-2842429_nike-logo-clipart-clear-ugg-australia-logo.png\n",
            "Wrong image format returned. Skipping...\n",
            "Completed Image ====> 139.39-398542_nike-logo-png-nike-logo.png\n",
            "Wrong image format returned. Skipping...\n",
            "Completed Image ====> 140.1-17295_adidas-logo-png-transparent-adidas-logo-and-nike.png\n",
            "Completed Image ====> 141.297968_preview.png\n",
            "Completed Image ====> 142.nike-logo-clipart-blank-212402-8906386.png\n",
            "Wrong image format returned. Skipping...\n",
            "Wrong image format returned. Skipping...\n",
            "Completed Image ====> 143.58419140a6515b1e0ad75a4c.png\n",
            "Wrong image format returned. Skipping...\n",
            "Completed Image ====> 144.12-125923_nike-logo-png-photo-cap.png\n",
            "Wrong image format returned. Skipping...\n",
            "Completed Image ====> 145.Screen-Shot-2019-07-20-at-11.58.01-AM.png\n",
            "Completed Image ====> 146.424-4242930_u4-sike-nike-logo-png.png\n",
            "Completed Image ====> 147.1051357_lida-bosnia_nike-logo.png\n",
            "Completed Image ====> 148.771bbd30b818253a1e57b8e53c94f680.png\n",
            "Completed Image ====> 149.Nike-logo-0C7C6020A9-seeklogo.com.png\n",
            "Completed Image ====> 150.nike-logo-clipart-translucent-212317-2731153.png\n",
            "Completed Image ====> 151.nike-logo-png-transparent-images-177973.png\n",
            "Completed Image ====> 152.adidas-black-logo-vector-61700-400x400.png\n",
            "Completed Image ====> 153.36677_roblox-logo-png.png\n",
            "Completed Image ====> 154.2-20913_nike-logo-png-transparent-images-nike-logo-png.png\n",
            "Completed Image ====> 155.kissclipart-jumpman-swoosh-nike-just-do-it-logo-476cea40ed9c90db.png\n",
            "Wrong image format returned. Skipping...\n",
            "Completed Image ====> 156.131-1315181_27-nike-logo-clipart-outline-free-clip-art.png\n",
            "Wrong image format returned. Skipping...\n",
            "Completed Image ====> 157.51-513641_ykle-logo-nike-dan-pirelli-logo-nike-dan.png\n",
            "Completed Image ====> 158.NdPjKE-nike-logo-transparent-picture.png\n",
            "Completed Image ====> 159.1671.png\n",
            "Completed Image ====> 160.Nike-Logo-Free-Desktop-Background.png\n",
            "Completed Image ====> 161.481-4819480_blue-nike-logo-png-download-cute-skull-twin.png\n",
            "Completed Image ====> 162.red-nike-logo-hi.png\n",
            "Completed Image ====> 163.427-4278267_nike-logo-png-transparent-images-nike-logo-vector.png\n",
            "Completed Image ====> 164.nike-laces-logo.png\n",
            "Completed Image ====> 165.nike-logo-white-png-7.png\n",
            "Completed Image ====> 166.nike-4-logo.png\n",
            "Completed Image ====> 167.491-4919844_black-friday-jd-sports-transparent-yellow-nike-logo.png\n",
            "Completed Image ====> 168.39-398542_nike-logo-png-nike-logo.png\n",
            "Wrong image format returned. Skipping...\n",
            "Completed Image ====> 169.19-197567_pin-by-lara-stefani-on-fundos-nike-nike.png\n",
            "Wrong image format returned. Skipping...\n",
            "Completed Image ====> 170.665-6651580_for-live-gameday-updates-follow-randbexpress-on-twitter.png\n",
            "Completed Image ====> 171.nike-logo.png\n",
            "Completed Image ====> 172.orange-nike-logo-png-8.png\n",
            "Completed Image ====> 173.401-4015731_nike-logo-clipart-navy-dark-blue-nike-logo.png\n",
            "Completed Image ====> 174.1321101_nike-just-do-it-logo-png.png\n",
            "Completed Image ====> 175.159-1594420_nike-logo-clipart-nike-tick-nike-logo-color-white.png\n",
            "Completed Image ====> 176.6-64057_nike-trust-png-swoosh-nike-logo-png-nike.png\n",
            "Completed Image ====> 177.nike-logo-png-transparent-images-clipart-icons-pngriver-download-free-NikeLogo.png\n",
            "Completed Image ====> 178.94-947190_nike-swoosh-nike-logo-png.png\n",
            "Wrong image format returned. Skipping...\n",
            "Completed Image ====> 179.207-2073171_white-nike-logo-png-composite-material.png\n",
            "Wrong image format returned. Skipping...\n",
            "Completed Image ====> 180.82619e1257ae44edb15c3b9c58d8bdae.png\n",
            "Completed Image ====> 181.Nike_logo_simvol.png\n",
            "Completed Image ====> 182.awk-ward-media-logo.png\n",
            "Wrong image format returned. Skipping...\n",
            "Completed Image ====> 183.the_strokes_logo.png\n",
            "Completed Image ====> 184.skyllerz-logo-png-8oe.png\n",
            "Completed Image ====> 185.download-nike-logo-free-png-transparent-image-and-clipart-177926.png\n",
            "Completed Image ====> 186.nike-logo-clipart-nkie-261643-6677757.png\n",
            "Completed Image ====> 187.256-256-4207d29f73df30c54d2c17e88e1dcd6b-nike.png\n",
            "Completed Image ====> 188.TOP_Copy+of+Nike-logo.png\n",
            "Completed Image ====> 189.kyrie-irving-new-nike-logo-2EEB0D49FA-seeklogo.com.png\n",
            "Completed Image ====> 190.image-300.png\n",
            "Completed Image ====> 191.nike-skateboarding.png\n",
            "Completed Image ====> 192.nike-logo.png\n",
            "Completed Image ====> 193.131-1315149_nike-logo-png-clipart-logo-swoosh-comic-book.png\n",
            "Completed Image ====> 194.nike-logo-vector-43629-400x400.png\n",
            "Completed Image ====> 195.60-609695_risk-everything-nike-logo.png\n",
            "Completed Image ====> 196.nike-icon-5.png\n",
            "Wrong image format returned. Skipping...\n",
            "Completed Image ====> 197.nike-logo-clipart-translucent-212317-8006725.png\n",
            "Completed Image ====> 198.1-15781_nike-logo-png-nike-logo-png-white.png\n",
            "Completed Image ====> 199.57-573380_nike-logo-pixel-art-nike-multicolore.png\n",
            "Wrong image format returned. Skipping...\n",
            "Completed Image ====> 200.original.png\n",
            "Completed Image ====> 201.nike-256.png\n",
            "Completed Image ====> 202.5841915fa6515b1e0ad75a4e.png\n",
            "Wrong image format returned. Skipping...\n",
            "Completed Image ====> 203.11-111543_nike-logo-png-nike-logo-png-white-transparent.png\n",
            "Completed Image ====> 204.Screen-Shot-2018-09-06-at-1.14.53-PM.png\n",
            "Wrong image format returned. Skipping...\n",
            "Completed Image ====> 205.nike-logo-white-png-6.png\n",
            "Completed Image ====> 206.nike-logo.png\n",
            "Completed Image ====> 207.739677_nike-logo-png-transparent.png\n",
            "Completed Image ====> 208.2-24774_nike-factory-store-logo-hd-png-download.png\n",
            "Wrong image format returned. Skipping...\n",
            "Completed Image ====> 209.14-149772_we-trippy-maaaaaane-gift-card-diamond-nike-logo.png\n",
            "Completed Image ====> 210.306-3067585_nike-nike-logos.png\n",
            "Completed Image ====> 211.438-4380458_nike-logo-clipart-bright-nike-logo-just-do-it-orange.png\n",
            "Completed Image ====> 212.1496248995Cristiano-Ronaldo-7-Nike-logo-png-design-identity-graphics-9.png\n",
            "Wrong image format returned. Skipping...\n",
            "Wrong image format returned. Skipping...\n",
            "Completed Image ====> 213.43-438197_nike-logo-png-clipart-swoosh-logo-clip-art.png\n",
            "Completed Image ====> 214.nike-logo-png-transparent-images-clipart-icons-pngriver-download-free-nike-311452_960_720.png\n",
            "Completed Image ====> 215.nike_PNG14.png\n",
            "Wrong image format returned. Skipping...\n",
            "Completed Image ====> 216.nike-logo-clipart-nike-swoosh-261651-8294244.png\n",
            "Wrong image format returned. Skipping...\n",
            "Completed Image ====> 217.tumblr_nh5r2xbCAU1s5fjevo1_500.png\n",
            "Wrong image format returned. Skipping...\n",
            "Wrong image format returned. Skipping...\n",
            "Completed Image ====> 218.nike-logo-clipart-4.png\n",
            "Completed Image ====> 219.303-3035444_pink-transparent-cyber-ghetto-sailorghetto-sike-nike-logo.png\n",
            "Completed Image ====> 220.303-3035444_pink-transparent-cyber-ghetto-sailorghetto-sike-nike-logo.png\n",
            "Completed Image ====> 221.nike-logo-png-sem-fundo-1.png\n",
            "Completed Image ====> 222.white-nike-logo-png-5.png\n",
            "Completed Image ====> 223.51-513663_nike-logo-clipart-black-and-white-swoosh-clipart.png\n",
            "Completed Image ====> 224.276-2769684_ykle-logo-nike-dan-pirelli-logo-nike-dan.png\n",
            "Wrong image format returned. Skipping...\n",
            "Completed Image ====> 225.51-513588_transparent-nike-trademark-logo-nike-sb-vector.png\n",
            "Completed Image ====> 226.391-3910716_source-image-blingee-com-nike-logo-bright-colorful.png\n",
            "Completed Image ====> 227.nike-logo.png\n",
            "Completed Image ====> 228.999364.png\n",
            "Wrong image format returned. Skipping...\n",
            "Completed Image ====> 229.6185787-nike-logo-png-white-transparent-png-650x350-free-download-on-nike-check-png-820_293_preview.png\n",
            "Completed Image ====> 230.nike-china-logos-177979.png\n",
            "Completed Image ====> 231.nike-logo-psd-429767.png\n",
            "Completed Image ====> 232.125-1259794_nike-football-logo-png-transparent-nike-scorpion-logo.png\n",
            "Completed Image ====> 233.7-76311_black-nike-logo-png-facts-you-didnt-know.png\n",
            "Completed Image ====> 234.nike-logo-clipart-crazy-261688-8681317.png\n",
            "Completed Image ====> 235.2-24614_nike-logo-hd-png-download.png\n",
            "Wrong image format returned. Skipping...\n",
            "Completed Image ====> 236.nike-2-logo.png\n",
            "Completed Image ====> 237.64008b5b609203104a103ae1d65eb4d0.png\n",
            "Completed Image ====> 238.197-1977458_puma-logo-png-free-transparent-png-logos-nike.png\n",
            "Wrong image format returned. Skipping...\n",
            "Completed Image ====> 239.1-16050_nike-logo-png-image-high-resolution-nike-logo.png\n",
            "Completed Image ====> 240.swoosh-icon-69.png\n",
            "Completed Image ====> 241.white-nike-logo-png-7.png\n",
            "Completed Image ====> 242.1069933_orange-nike-logo-png.png\n",
            "Completed Image ====> 243.1011-10119614_freetoedit-remix-nike-logo-girl-drawing-colorful-nike.png\n",
            "Completed Image ====> 244.4-43075_nike-logo-png-n-cool-nike-logo-png.png\n",
            "Wrong image format returned. Skipping...\n",
            "Completed Image ====> 245.nike-football-eps-vector-logo-400x400.png\n",
            "Completed Image ====> 246.nike-logo-png-467677.png\n",
            "Wrong image format returned. Skipping...\n",
            "Completed Image ====> 247.kissclipart-nike-swoosh-logo-clipart-logo-brand-swoosh-d00d28f36fb840be.png\n",
            "Completed Image ====> 248.1447913_thumb.png\n",
            "Wrong image format returned. Skipping...\n",
            "Completed Image ====> 249.59-595468_nike-logo-usa-soccer-logo-png-transparent-png.png\n",
            "Completed Image ====> 250.166-1660138_nike-logo-swoosh-logo-nike-gif-nike-maroon.png\n",
            "Wrong image format returned. Skipping...\n",
            "Wrong image format returned. Skipping...\n",
            "Wrong image format returned. Skipping...\n",
            "Completed Image ====> 251.213-2136528_free-nike-sign-png-dark-red-nike-logo.png\n",
            "Wrong image format returned. Skipping...\n",
            "Wrong image format returned. Skipping...\n",
            "Completed Image ====> 252.swoosh-icon-66.png\n",
            "Completed Image ====> 253.207-2073155_nike-logo-clipart-original-gold-nike-logo-png.png\n",
            "Completed Image ====> 254.5d52ec42197f1e8ddb17c00253016b9f.png\n",
            "Completed Image ====> 255.230-2305960_pink-nike-logo-logo-nike-dream-league-soccer.png\n",
            "Completed Image ====> 256.nike-logo-png-transparent-images-clipart-icons-pngriver-download-free-nike-swoosh-fine-art-193.png\n",
            "Wrong image format returned. Skipping...\n",
            "Completed Image ====> 257.nike-logo-clipart-blank-467672.png\n",
            "Completed Image ====> 258.nike-6-logo.png\n",
            "Completed Image ====> 259.nike-logo-drawing-5.png\n",
            "Completed Image ====> 260.4789713_thumb.png\n",
            "Completed Image ====> 261.sup-logo-nike-sb.png\n",
            "Completed Image ====> 262.124-1246487_download-nike-logo-png-clipart-swoosh-illustration-clipart.png\n",
            "Completed Image ====> 263.578-5784045_trend-download-greatman-air-jordan-nike-jumpman-logo.png\n",
            "Completed Image ====> 264.6-63083_nike-logo-png-transparent-images-swoosh.png\n",
            "Completed Image ====> 265.transparent-nike-icon-16.png\n",
            "Completed Image ====> 266.999410.png\n",
            "Wrong image format returned. Skipping...\n",
            "Completed Image ====> 267.334-3342953_nike-logo-clipart-blank-nike-sb-logo-white.png\n",
            "Completed Image ====> 268.6-61148_nike-logo-vector-nike-air-flight-vector-logo.png\n",
            "Wrong image format returned. Skipping...\n",
            "Wrong image format returned. Skipping...\n",
            "Completed Image ====> 269.nike-team-vector-logo-400x400.png\n",
            "Completed Image ====> 270.nike-logo-png-19.png\n",
            "Completed Image ====> 271.141-1411780_nike-logo-clipart-sunglasses-logo-oakley-png-transparent.png\n",
            "Completed Image ====> 272.icon-sports-media-7.png\n",
            "Completed Image ====> 273.c09076f92730d7155d28a5de1917f0f5.png\n",
            "Wrong image format returned. Skipping...\n",
            "Wrong image format returned. Skipping...\n",
            "Wrong image format returned. Skipping...\n",
            "Completed Image ====> 274.11-111341_nike-orange-nike-logo-png.png\n",
            "Completed Image ====> 275.57-573343_nike-logo-transparent-logo-nike-putih-png.png\n",
            "Wrong image format returned. Skipping...\n",
            "Completed Image ====> 276.2-20318_nike-logo-png-white-home-logo-transparent-white.png\n",
            "Completed Image ====> 277.nike-nike-green-green-and-nike-178211.png\n",
            "Completed Image ====> 278.59-594575_white-nike-swoosh-png-cnn-white-logo-transparent.png\n",
            "Completed Image ====> 279.nike-logo-png-transparent-images-clipart-icons-pngriver-download-free-Nike-001-150x150.png\n",
            "Completed Image ====> 280.nike-logo-clipart-12.png\n",
            "Completed Image ====> 281.nike-logo-png-45.png\n",
            "Completed Image ====> 282.473-4734692_nike-logo-png-clipart-swoosh-transparent-background-target.png\n",
            "Completed Image ====> 283.392-3926390_white-nike-logo-transparent-download-swoosh.png\n",
            "Wrong image format returned. Skipping...\n",
            "Completed Image ====> 284.3d92e316c3b6d125dea26ac207c524f3.png\n",
            "Completed Image ====> 285.433-4335966_white-nike-logo-transparent-background.png\n",
            "Completed Image ====> 286.1244396.png\n",
            "Completed Image ====> 287.491-4919844_black-friday-jd-sports-transparent-yellow-nike-logo.png\n",
            "Wrong image format returned. Skipping...\n",
            "Completed Image ====> 288.1-15578_nike-logo-png-nike-logo-white-png.png\n",
            "Completed Image ====> 289.nike-icon-72.png\n",
            "Completed Image ====> 290.5f4db762f09c19448b7d1582b8d5ce93.png\n",
            "Completed Image ====> 291.1-15697_nike-logo-free-download-png-yellow-nike-logo.png\n",
            "Completed Image ====> 292.16-161162_nike-png-logo-big-nike-logo.png\n",
            "Completed Image ====> 293.21-212348_logo-clipart-at-getdrawings-nike-logo-2018-png.png\n",
            "Completed Image ====> 294.fda97b9d1f529e4f23a9dd310996e57d.png\n",
            "Completed Image ====> 295.1-16050_nike-logo-png-image-high-resolution-nike-logo.png\n",
            "Completed Image ====> 296.167-1670442_nike-symbol-png-kit-512x512-nike-logo.png\n",
            "Completed Image ====> 297.1-15966_nike-logo-png-photos-nike-beyaz-logo-png.png\n",
            "Wrong image format returned. Skipping...\n",
            "Completed Image ====> 298.240-2407910_nike-logo-clipart-roblox-cool-nike-logo-png.png\n",
            "\n",
            "\n",
            "Unfortunately all 500 could not be downloaded because some images were not downloadable. 298 is all we got for this search filter!\n",
            "\n",
            "Errors: 104\n",
            "\n",
            "\n",
            "Everything downloaded!\n",
            "Total errors: 104\n",
            "Total time taken: 156.94173192977905 Seconds\n"
          ],
          "name": "stdout"
        }
      ]
    },
    {
      "cell_type": "markdown",
      "metadata": {
        "id": "9Z17j8IA0FXp",
        "colab_type": "text"
      },
      "source": [
        "## Looking at the data"
      ]
    },
    {
      "cell_type": "markdown",
      "metadata": {
        "id": "E0VqQz8n0FXq",
        "colab_type": "text"
      },
      "source": [
        "We are going to use the [Oxford-IIIT Pet Dataset](http://www.robots.ox.ac.uk/~vgg/data/pets/) by [O. M. Parkhi et al., 2012](http://www.robots.ox.ac.uk/~vgg/publications/2012/parkhi12a/parkhi12a.pdf) which features 12 cat breeds and 25 dogs breeds. Our model will need to learn to differentiate between these 37 distinct categories. According to their paper, the best accuracy they could get in 2012 was 59.21%, using a complex model that was specific to pet detection, with separate \"Image\", \"Head\", and \"Body\" models for the pet photos. Let's see how accurate we can be using deep learning!\n",
        "\n",
        "We are going to use the `untar_data` function to which we must pass a URL as an argument and which will download and extract the data."
      ]
    },
    {
      "cell_type": "code",
      "metadata": {
        "id": "0bqTEZAbLJF_",
        "colab_type": "code",
        "colab": {}
      },
      "source": [
        "path = pathlib.Path('/content/drive/My Drive/data')\n"
      ],
      "execution_count": 0,
      "outputs": []
    },
    {
      "cell_type": "code",
      "metadata": {
        "id": "_0_XRd570FXv",
        "colab_type": "code",
        "outputId": "15fac7d9-f72b-4bec-8af7-d869024b6261",
        "colab": {
          "base_uri": "https://localhost:8080/",
          "height": 51
        }
      },
      "source": [
        "path.ls()"
      ],
      "execution_count": 50,
      "outputs": [
        {
          "output_type": "execute_result",
          "data": {
            "text/plain": [
              "[PosixPath('/content/drive/My Drive/data/train'),\n",
              " PosixPath('/content/drive/My Drive/data/valid')]"
            ]
          },
          "metadata": {
            "tags": []
          },
          "execution_count": 50
        }
      ]
    },
    {
      "cell_type": "code",
      "metadata": {
        "id": "UzQvxTxA681P",
        "colab_type": "code",
        "colab": {
          "base_uri": "https://localhost:8080/",
          "height": 51
        },
        "outputId": "ed670ffb-c9bf-4cf5-f23a-9650624c2aa9"
      },
      "source": [
        "!mkdir /root/data\n",
        "!rm -r /root/data\n",
        "!ls /root/data"
      ],
      "execution_count": 94,
      "outputs": [
        {
          "output_type": "stream",
          "text": [
            "mkdir: cannot create directory ‘/root/data’: File exists\n",
            "ls: cannot access '/root/data': No such file or directory\n"
          ],
          "name": "stdout"
        }
      ]
    },
    {
      "cell_type": "code",
      "metadata": {
        "id": "9GLxgkTXbwmk",
        "colab_type": "code",
        "colab": {}
      },
      "source": [
        "!cp -r '/content/drive/My Drive/data/' '/root/data/'"
      ],
      "execution_count": 0,
      "outputs": []
    },
    {
      "cell_type": "code",
      "metadata": {
        "id": "ddhXUQXUbE3V",
        "colab_type": "code",
        "outputId": "aece6110-3ad3-48fd-d53a-97a37f620d1b",
        "colab": {
          "base_uri": "https://localhost:8080/",
          "height": 34
        }
      },
      "source": [
        "path_local = pathlib.Path(\"/root/data/\")\n",
        "path_local.ls()"
      ],
      "execution_count": 96,
      "outputs": [
        {
          "output_type": "execute_result",
          "data": {
            "text/plain": [
              "[PosixPath('/root/data/train'), PosixPath('/root/data/valid')]"
            ]
          },
          "metadata": {
            "tags": []
          },
          "execution_count": 96
        }
      ]
    },
    {
      "cell_type": "markdown",
      "metadata": {
        "id": "DRxZNnCZ0FXz",
        "colab_type": "text"
      },
      "source": [
        "The first thing we do when we approach a problem is to take a look at the data. We _always_ need to understand very well what the problem is and what the data looks like before we can figure out how to solve it. Taking a look at the data means understanding how the data directories are structured, what the labels are and what some sample images look like.\n",
        "\n",
        "The main difference between the handling of image classification datasets is the way labels are stored. In this particular dataset, labels are stored in the filenames themselves. We will need to extract them to be able to classify the images into the correct categories. Fortunately, the fastai library has a handy function made exactly for this, `ImageDataBunch.from_name_re` gets the labels from the filenames using a [regular expression](https://docs.python.org/3.6/library/re.html)."
      ]
    },
    {
      "cell_type": "code",
      "metadata": {
        "id": "koDdl0cA0FX1",
        "colab_type": "code",
        "outputId": "2513c09a-e755-44a9-f99d-2e385f461472",
        "colab": {
          "base_uri": "https://localhost:8080/",
          "height": 34
        }
      },
      "source": [
        "(path_local).ls()"
      ],
      "execution_count": 69,
      "outputs": [
        {
          "output_type": "execute_result",
          "data": {
            "text/plain": [
              "[PosixPath('/root/data/train'), PosixPath('/root/data/valid')]"
            ]
          },
          "metadata": {
            "tags": []
          },
          "execution_count": 69
        }
      ]
    },
    {
      "cell_type": "code",
      "metadata": {
        "id": "tpVSDM3XFYLG",
        "colab_type": "code",
        "colab": {}
      },
      "source": [
        "!chmod 777 -R \"/root/data\"\n",
        "# !ls -l \"/root/data/train/adidas\""
      ],
      "execution_count": 0,
      "outputs": []
    },
    {
      "cell_type": "code",
      "metadata": {
        "id": "1qZGRaTdQoSM",
        "colab_type": "code",
        "colab": {}
      },
      "source": [
        "# doc(ImageDataBunch.from_folder)"
      ],
      "execution_count": 0,
      "outputs": []
    },
    {
      "cell_type": "code",
      "metadata": {
        "id": "ummFS7HDRIFC",
        "colab_type": "code",
        "colab": {}
      },
      "source": [
        "tfms = get_transforms(do_flip=False)\n",
        "data = ImageDataBunch.from_folder(path_local, bs=16, ds_tfms=tfms, size=224)"
      ],
      "execution_count": 0,
      "outputs": []
    },
    {
      "cell_type": "code",
      "metadata": {
        "id": "kEHsMPJz0FX4",
        "colab_type": "code",
        "outputId": "0b3f9c77-925d-4470-c0d6-5651def44301",
        "colab": {
          "base_uri": "https://localhost:8080/",
          "height": 441
        }
      },
      "source": [
        "data.show_batch(rows=3, figsize=(7,6))"
      ],
      "execution_count": 99,
      "outputs": [
        {
          "output_type": "display_data",
          "data": {
            "image/png": "[encoded data removed]",
            "text/plain": [
              "<Figure size 504x432 with 9 Axes>"
            ]
          },
          "metadata": {
            "tags": []
          }
        }
      ]
    },
    {
      "cell_type": "code",
      "metadata": {
        "id": "zr7mcz9-0FX6",
        "colab_type": "code",
        "outputId": "7ad88c1d-889b-418d-e6c2-60f50d458d7c",
        "colab": {
          "base_uri": "https://localhost:8080/",
          "height": 51
        }
      },
      "source": [
        "print(data.classes)\n",
        "len(data.classes),data.c"
      ],
      "execution_count": 100,
      "outputs": [
        {
          "output_type": "stream",
          "text": [
            "['adidas', 'nike']\n"
          ],
          "name": "stdout"
        },
        {
          "output_type": "execute_result",
          "data": {
            "text/plain": [
              "(2, 2)"
            ]
          },
          "metadata": {
            "tags": []
          },
          "execution_count": 100
        }
      ]
    },
    {
      "cell_type": "markdown",
      "metadata": {
        "id": "E02YQdJA0FX8",
        "colab_type": "text"
      },
      "source": [
        "## Training: resnet34"
      ]
    },
    {
      "cell_type": "markdown",
      "metadata": {
        "id": "mgl9bQhP0FX8",
        "colab_type": "text"
      },
      "source": [
        "Now we will start training our model. We will use a [convolutional neural network](http://cs231n.github.io/convolutional-networks/) backbone and a fully connected head with a single hidden layer as a classifier. Don't know what these things mean? Not to worry, we will dive deeper in the coming lessons. For the moment you need to know that we are building a model which will take images as input and will output the predicted probability for each of the categories (in this case, it will have 37 outputs).\n",
        "\n",
        "We will train for 4 epochs (4 cycles through all our data)."
      ]
    },
    {
      "cell_type": "code",
      "metadata": {
        "id": "g7UQxoIV0FX9",
        "colab_type": "code",
        "colab": {}
      },
      "source": [
        "learn = cnn_learner(data, models.resnet34, metrics=error_rate)"
      ],
      "execution_count": 0,
      "outputs": []
    },
    {
      "cell_type": "code",
      "metadata": {
        "id": "kvOE6uHI0FX-",
        "colab_type": "code",
        "outputId": "05a20b23-45c8-43a0-fb31-65fac7bdc52d",
        "colab": {
          "base_uri": "https://localhost:8080/",
          "height": 1000
        }
      },
      "source": [
        "learn.model"
      ],
      "execution_count": 102,
      "outputs": [
        {
          "output_type": "execute_result",
          "data": {
            "text/plain": [
              "Sequential(\n",
              "  (0): Sequential(\n",
              "    (0): Conv2d(3, 64, kernel_size=(7, 7), stride=(2, 2), padding=(3, 3), bias=False)\n",
              "    (1): BatchNorm2d(64, eps=1e-05, momentum=0.1, affine=True, track_running_stats=True)\n",
              "    (2): ReLU(inplace=True)\n",
              "    (3): MaxPool2d(kernel_size=3, stride=2, padding=1, dilation=1, ceil_mode=False)\n",
              "    (4): Sequential(\n",
              "      (0): BasicBlock(\n",
              "        (conv1): Conv2d(64, 64, kernel_size=(3, 3), stride=(1, 1), padding=(1, 1), bias=False)\n",
              "        (bn1): BatchNorm2d(64, eps=1e-05, momentum=0.1, affine=True, track_running_stats=True)\n",
              "        (relu): ReLU(inplace=True)\n",
              "        (conv2): Conv2d(64, 64, kernel_size=(3, 3), stride=(1, 1), padding=(1, 1), bias=False)\n",
              "        (bn2): BatchNorm2d(64, eps=1e-05, momentum=0.1, affine=True, track_running_stats=True)\n",
              "      )\n",
              "      (1): BasicBlock(\n",
              "        (conv1): Conv2d(64, 64, kernel_size=(3, 3), stride=(1, 1), padding=(1, 1), bias=False)\n",
              "        (bn1): BatchNorm2d(64, eps=1e-05, momentum=0.1, affine=True, track_running_stats=True)\n",
              "        (relu): ReLU(inplace=True)\n",
              "        (conv2): Conv2d(64, 64, kernel_size=(3, 3), stride=(1, 1), padding=(1, 1), bias=False)\n",
              "        (bn2): BatchNorm2d(64, eps=1e-05, momentum=0.1, affine=True, track_running_stats=True)\n",
              "      )\n",
              "      (2): BasicBlock(\n",
              "        (conv1): Conv2d(64, 64, kernel_size=(3, 3), stride=(1, 1), padding=(1, 1), bias=False)\n",
              "        (bn1): BatchNorm2d(64, eps=1e-05, momentum=0.1, affine=True, track_running_stats=True)\n",
              "        (relu): ReLU(inplace=True)\n",
              "        (conv2): Conv2d(64, 64, kernel_size=(3, 3), stride=(1, 1), padding=(1, 1), bias=False)\n",
              "        (bn2): BatchNorm2d(64, eps=1e-05, momentum=0.1, affine=True, track_running_stats=True)\n",
              "      )\n",
              "    )\n",
              "    (5): Sequential(\n",
              "      (0): BasicBlock(\n",
              "        (conv1): Conv2d(64, 128, kernel_size=(3, 3), stride=(2, 2), padding=(1, 1), bias=False)\n",
              "        (bn1): BatchNorm2d(128, eps=1e-05, momentum=0.1, affine=True, track_running_stats=True)\n",
              "        (relu): ReLU(inplace=True)\n",
              "        (conv2): Conv2d(128, 128, kernel_size=(3, 3), stride=(1, 1), padding=(1, 1), bias=False)\n",
              "        (bn2): BatchNorm2d(128, eps=1e-05, momentum=0.1, affine=True, track_running_stats=True)\n",
              "        (downsample): Sequential(\n",
              "          (0): Conv2d(64, 128, kernel_size=(1, 1), stride=(2, 2), bias=False)\n",
              "          (1): BatchNorm2d(128, eps=1e-05, momentum=0.1, affine=True, track_running_stats=True)\n",
              "        )\n",
              "      )\n",
              "      (1): BasicBlock(\n",
              "        (conv1): Conv2d(128, 128, kernel_size=(3, 3), stride=(1, 1), padding=(1, 1), bias=False)\n",
              "        (bn1): BatchNorm2d(128, eps=1e-05, momentum=0.1, affine=True, track_running_stats=True)\n",
              "        (relu): ReLU(inplace=True)\n",
              "        (conv2): Conv2d(128, 128, kernel_size=(3, 3), stride=(1, 1), padding=(1, 1), bias=False)\n",
              "        (bn2): BatchNorm2d(128, eps=1e-05, momentum=0.1, affine=True, track_running_stats=True)\n",
              "      )\n",
              "      (2): BasicBlock(\n",
              "        (conv1): Conv2d(128, 128, kernel_size=(3, 3), stride=(1, 1), padding=(1, 1), bias=False)\n",
              "        (bn1): BatchNorm2d(128, eps=1e-05, momentum=0.1, affine=True, track_running_stats=True)\n",
              "        (relu): ReLU(inplace=True)\n",
              "        (conv2): Conv2d(128, 128, kernel_size=(3, 3), stride=(1, 1), padding=(1, 1), bias=False)\n",
              "        (bn2): BatchNorm2d(128, eps=1e-05, momentum=0.1, affine=True, track_running_stats=True)\n",
              "      )\n",
              "      (3): BasicBlock(\n",
              "        (conv1): Conv2d(128, 128, kernel_size=(3, 3), stride=(1, 1), padding=(1, 1), bias=False)\n",
              "        (bn1): BatchNorm2d(128, eps=1e-05, momentum=0.1, affine=True, track_running_stats=True)\n",
              "        (relu): ReLU(inplace=True)\n",
              "        (conv2): Conv2d(128, 128, kernel_size=(3, 3), stride=(1, 1), padding=(1, 1), bias=False)\n",
              "        (bn2): BatchNorm2d(128, eps=1e-05, momentum=0.1, affine=True, track_running_stats=True)\n",
              "      )\n",
              "    )\n",
              "    (6): Sequential(\n",
              "      (0): BasicBlock(\n",
              "        (conv1): Conv2d(128, 256, kernel_size=(3, 3), stride=(2, 2), padding=(1, 1), bias=False)\n",
              "        (bn1): BatchNorm2d(256, eps=1e-05, momentum=0.1, affine=True, track_running_stats=True)\n",
              "        (relu): ReLU(inplace=True)\n",
              "        (conv2): Conv2d(256, 256, kernel_size=(3, 3), stride=(1, 1), padding=(1, 1), bias=False)\n",
              "        (bn2): BatchNorm2d(256, eps=1e-05, momentum=0.1, affine=True, track_running_stats=True)\n",
              "        (downsample): Sequential(\n",
              "          (0): Conv2d(128, 256, kernel_size=(1, 1), stride=(2, 2), bias=False)\n",
              "          (1): BatchNorm2d(256, eps=1e-05, momentum=0.1, affine=True, track_running_stats=True)\n",
              "        )\n",
              "      )\n",
              "      (1): BasicBlock(\n",
              "        (conv1): Conv2d(256, 256, kernel_size=(3, 3), stride=(1, 1), padding=(1, 1), bias=False)\n",
              "        (bn1): BatchNorm2d(256, eps=1e-05, momentum=0.1, affine=True, track_running_stats=True)\n",
              "        (relu): ReLU(inplace=True)\n",
              "        (conv2): Conv2d(256, 256, kernel_size=(3, 3), stride=(1, 1), padding=(1, 1), bias=False)\n",
              "        (bn2): BatchNorm2d(256, eps=1e-05, momentum=0.1, affine=True, track_running_stats=True)\n",
              "      )\n",
              "      (2): BasicBlock(\n",
              "        (conv1): Conv2d(256, 256, kernel_size=(3, 3), stride=(1, 1), padding=(1, 1), bias=False)\n",
              "        (bn1): BatchNorm2d(256, eps=1e-05, momentum=0.1, affine=True, track_running_stats=True)\n",
              "        (relu): ReLU(inplace=True)\n",
              "        (conv2): Conv2d(256, 256, kernel_size=(3, 3), stride=(1, 1), padding=(1, 1), bias=False)\n",
              "        (bn2): BatchNorm2d(256, eps=1e-05, momentum=0.1, affine=True, track_running_stats=True)\n",
              "      )\n",
              "      (3): BasicBlock(\n",
              "        (conv1): Conv2d(256, 256, kernel_size=(3, 3), stride=(1, 1), padding=(1, 1), bias=False)\n",
              "        (bn1): BatchNorm2d(256, eps=1e-05, momentum=0.1, affine=True, track_running_stats=True)\n",
              "        (relu): ReLU(inplace=True)\n",
              "        (conv2): Conv2d(256, 256, kernel_size=(3, 3), stride=(1, 1), padding=(1, 1), bias=False)\n",
              "        (bn2): BatchNorm2d(256, eps=1e-05, momentum=0.1, affine=True, track_running_stats=True)\n",
              "      )\n",
              "      (4): BasicBlock(\n",
              "        (conv1): Conv2d(256, 256, kernel_size=(3, 3), stride=(1, 1), padding=(1, 1), bias=False)\n",
              "        (bn1): BatchNorm2d(256, eps=1e-05, momentum=0.1, affine=True, track_running_stats=True)\n",
              "        (relu): ReLU(inplace=True)\n",
              "        (conv2): Conv2d(256, 256, kernel_size=(3, 3), stride=(1, 1), padding=(1, 1), bias=False)\n",
              "        (bn2): BatchNorm2d(256, eps=1e-05, momentum=0.1, affine=True, track_running_stats=True)\n",
              "      )\n",
              "      (5): BasicBlock(\n",
              "        (conv1): Conv2d(256, 256, kernel_size=(3, 3), stride=(1, 1), padding=(1, 1), bias=False)\n",
              "        (bn1): BatchNorm2d(256, eps=1e-05, momentum=0.1, affine=True, track_running_stats=True)\n",
              "        (relu): ReLU(inplace=True)\n",
              "        (conv2): Conv2d(256, 256, kernel_size=(3, 3), stride=(1, 1), padding=(1, 1), bias=False)\n",
              "        (bn2): BatchNorm2d(256, eps=1e-05, momentum=0.1, affine=True, track_running_stats=True)\n",
              "      )\n",
              "    )\n",
              "    (7): Sequential(\n",
              "      (0): BasicBlock(\n",
              "        (conv1): Conv2d(256, 512, kernel_size=(3, 3), stride=(2, 2), padding=(1, 1), bias=False)\n",
              "        (bn1): BatchNorm2d(512, eps=1e-05, momentum=0.1, affine=True, track_running_stats=True)\n",
              "        (relu): ReLU(inplace=True)\n",
              "        (conv2): Conv2d(512, 512, kernel_size=(3, 3), stride=(1, 1), padding=(1, 1), bias=False)\n",
              "        (bn2): BatchNorm2d(512, eps=1e-05, momentum=0.1, affine=True, track_running_stats=True)\n",
              "        (downsample): Sequential(\n",
              "          (0): Conv2d(256, 512, kernel_size=(1, 1), stride=(2, 2), bias=False)\n",
              "          (1): BatchNorm2d(512, eps=1e-05, momentum=0.1, affine=True, track_running_stats=True)\n",
              "        )\n",
              "      )\n",
              "      (1): BasicBlock(\n",
              "        (conv1): Conv2d(512, 512, kernel_size=(3, 3), stride=(1, 1), padding=(1, 1), bias=False)\n",
              "        (bn1): BatchNorm2d(512, eps=1e-05, momentum=0.1, affine=True, track_running_stats=True)\n",
              "        (relu): ReLU(inplace=True)\n",
              "        (conv2): Conv2d(512, 512, kernel_size=(3, 3), stride=(1, 1), padding=(1, 1), bias=False)\n",
              "        (bn2): BatchNorm2d(512, eps=1e-05, momentum=0.1, affine=True, track_running_stats=True)\n",
              "      )\n",
              "      (2): BasicBlock(\n",
              "        (conv1): Conv2d(512, 512, kernel_size=(3, 3), stride=(1, 1), padding=(1, 1), bias=False)\n",
              "        (bn1): BatchNorm2d(512, eps=1e-05, momentum=0.1, affine=True, track_running_stats=True)\n",
              "        (relu): ReLU(inplace=True)\n",
              "        (conv2): Conv2d(512, 512, kernel_size=(3, 3), stride=(1, 1), padding=(1, 1), bias=False)\n",
              "        (bn2): BatchNorm2d(512, eps=1e-05, momentum=0.1, affine=True, track_running_stats=True)\n",
              "      )\n",
              "    )\n",
              "  )\n",
              "  (1): Sequential(\n",
              "    (0): AdaptiveConcatPool2d(\n",
              "      (ap): AdaptiveAvgPool2d(output_size=1)\n",
              "      (mp): AdaptiveMaxPool2d(output_size=1)\n",
              "    )\n",
              "    (1): Flatten()\n",
              "    (2): BatchNorm1d(1024, eps=1e-05, momentum=0.1, affine=True, track_running_stats=True)\n",
              "    (3): Dropout(p=0.25, inplace=False)\n",
              "    (4): Linear(in_features=1024, out_features=512, bias=True)\n",
              "    (5): ReLU(inplace=True)\n",
              "    (6): BatchNorm1d(512, eps=1e-05, momentum=0.1, affine=True, track_running_stats=True)\n",
              "    (7): Dropout(p=0.5, inplace=False)\n",
              "    (8): Linear(in_features=512, out_features=2, bias=True)\n",
              "  )\n",
              ")"
            ]
          },
          "metadata": {
            "tags": []
          },
          "execution_count": 102
        }
      ]
    },
    {
      "cell_type": "code",
      "metadata": {
        "id": "_lMZdo_k0FYA",
        "colab_type": "code",
        "outputId": "778cb477-4058-45b5-f886-e890f9f92cb2",
        "colab": {
          "base_uri": "https://localhost:8080/",
          "height": 173
        }
      },
      "source": [
        "learn.fit_one_cycle(4)"
      ],
      "execution_count": 103,
      "outputs": [
        {
          "output_type": "display_data",
          "data": {
            "text/html": [
              "<table border=\"1\" class=\"dataframe\">\n",
              "  <thead>\n",
              "    <tr style=\"text-align: left;\">\n",
              "      <th>epoch</th>\n",
              "      <th>train_loss</th>\n",
              "      <th>valid_loss</th>\n",
              "      <th>error_rate</th>\n",
              "      <th>time</th>\n",
              "    </tr>\n",
              "  </thead>\n",
              "  <tbody>\n",
              "    <tr>\n",
              "      <td>0</td>\n",
              "      <td>1.094344</td>\n",
              "      <td>0.226131</td>\n",
              "      <td>0.100000</td>\n",
              "      <td>02:22</td>\n",
              "    </tr>\n",
              "    <tr>\n",
              "      <td>1</td>\n",
              "      <td>0.870528</td>\n",
              "      <td>1.318097</td>\n",
              "      <td>0.300000</td>\n",
              "      <td>02:23</td>\n",
              "    </tr>\n",
              "    <tr>\n",
              "      <td>2</td>\n",
              "      <td>0.723497</td>\n",
              "      <td>0.383477</td>\n",
              "      <td>0.200000</td>\n",
              "      <td>02:23</td>\n",
              "    </tr>\n",
              "    <tr>\n",
              "      <td>3</td>\n",
              "      <td>0.592463</td>\n",
              "      <td>0.410163</td>\n",
              "      <td>0.200000</td>\n",
              "      <td>02:24</td>\n",
              "    </tr>\n",
              "  </tbody>\n",
              "</table>"
            ],
            "text/plain": [
              "<IPython.core.display.HTML object>"
            ]
          },
          "metadata": {
            "tags": []
          }
        }
      ]
    },
    {
      "cell_type": "code",
      "metadata": {
        "id": "wo8wtt5q0FYC",
        "colab_type": "code",
        "colab": {}
      },
      "source": [
        "learn.save('stage-1')"
      ],
      "execution_count": 0,
      "outputs": []
    },
    {
      "cell_type": "markdown",
      "metadata": {
        "id": "OfyhajNt0FYE",
        "colab_type": "text"
      },
      "source": [
        "## Results"
      ]
    },
    {
      "cell_type": "markdown",
      "metadata": {
        "id": "cURmZyE90FYE",
        "colab_type": "text"
      },
      "source": [
        "Let's see what results we have got. \n",
        "\n",
        "We will first see which were the categories that the model most confused with one another. We will try to see if what the model predicted was reasonable or not. In this case the mistakes look reasonable (none of the mistakes seems obviously naive). This is an indicator that our classifier is working correctly. \n",
        "\n",
        "Furthermore, when we plot the confusion matrix, we can see that the distribution is heavily skewed: the model makes the same mistakes over and over again but it rarely confuses other categories. This suggests that it just finds it difficult to distinguish some specific categories between each other; this is normal behaviour."
      ]
    },
    {
      "cell_type": "code",
      "metadata": {
        "id": "mEAUjYH70FYF",
        "colab_type": "code",
        "outputId": "91d02eb2-48c3-4a94-da88-3148ad498397",
        "colab": {
          "base_uri": "https://localhost:8080/",
          "height": 34
        }
      },
      "source": [
        "interp = ClassificationInterpretation.from_learner(learn)\n",
        "\n",
        "losses,idxs = interp.top_losses()\n",
        "\n",
        "len(data.valid_ds)==len(losses)==len(idxs)"
      ],
      "execution_count": 105,
      "outputs": [
        {
          "output_type": "execute_result",
          "data": {
            "text/plain": [
              "True"
            ]
          },
          "metadata": {
            "tags": []
          },
          "execution_count": 105
        }
      ]
    },
    {
      "cell_type": "code",
      "metadata": {
        "id": "xWD9RX-m0FYJ",
        "colab_type": "code",
        "outputId": "bafdc519-a205-4a89-96a9-cefad620c070",
        "colab": {
          "base_uri": "https://localhost:8080/",
          "height": 725
        }
      },
      "source": [
        "interp.plot_top_losses(4, figsize=(15,11))"
      ],
      "execution_count": 106,
      "outputs": [
        {
          "output_type": "display_data",
          "data": {
            "image/png": "[encoded data removed]",
            "text/plain": [
              "<Figure size 1080x792 with 4 Axes>"
            ]
          },
          "metadata": {
            "tags": []
          }
        }
      ]
    },
    {
      "cell_type": "code",
      "metadata": {
        "id": "DfBj2rlp0FYO",
        "colab_type": "code",
        "outputId": "61a4b826-c7eb-45d0-90f2-0691301a3f86",
        "colab": {
          "base_uri": "https://localhost:8080/",
          "height": 143
        }
      },
      "source": [
        "interp.plot_confusion_matrix(figsize=(2,2), dpi=60)"
      ],
      "execution_count": 108,
      "outputs": [
        {
          "output_type": "display_data",
          "data": {
            "image/png": "[encoded data removed]",
            "text/plain": [
              "<Figure size 120x120 with 1 Axes>"
            ]
          },
          "metadata": {
            "tags": []
          }
        }
      ]
    },
    {
      "cell_type": "code",
      "metadata": {
        "id": "T8KAkAtG0FYQ",
        "colab_type": "code",
        "outputId": "0ffef2f7-4866-4366-fa35-ab88e552bf6e",
        "colab": {
          "base_uri": "https://localhost:8080/",
          "height": 34
        }
      },
      "source": [
        "interp.most_confused(min_val=1)"
      ],
      "execution_count": 0,
      "outputs": [
        {
          "output_type": "execute_result",
          "data": {
            "text/plain": [
              "[('adidas', 'nike', 1)]"
            ]
          },
          "metadata": {
            "tags": []
          },
          "execution_count": 57
        }
      ]
    },
    {
      "cell_type": "markdown",
      "metadata": {
        "id": "NESE63Az0FYS",
        "colab_type": "text"
      },
      "source": [
        "## Unfreezing, fine-tuning, and learning rates"
      ]
    },
    {
      "cell_type": "markdown",
      "metadata": {
        "id": "1SfVFVHV0FYS",
        "colab_type": "text"
      },
      "source": [
        "Since our model is working as we expect it to, we will *unfreeze* our model and train some more."
      ]
    },
    {
      "cell_type": "code",
      "metadata": {
        "id": "ZJ9jZ2xA0FYT",
        "colab_type": "code",
        "colab": {}
      },
      "source": [
        "learn.unfreeze()"
      ],
      "execution_count": 0,
      "outputs": []
    },
    {
      "cell_type": "code",
      "metadata": {
        "id": "oMxFqOsn0FYU",
        "colab_type": "code",
        "outputId": "c11464ae-8029-4b63-ebad-3124e86ec385",
        "colab": {
          "base_uri": "https://localhost:8080/",
          "height": 80
        }
      },
      "source": [
        "learn.fit_one_cycle(1)"
      ],
      "execution_count": 110,
      "outputs": [
        {
          "output_type": "display_data",
          "data": {
            "text/html": [
              "<table border=\"1\" class=\"dataframe\">\n",
              "  <thead>\n",
              "    <tr style=\"text-align: left;\">\n",
              "      <th>epoch</th>\n",
              "      <th>train_loss</th>\n",
              "      <th>valid_loss</th>\n",
              "      <th>error_rate</th>\n",
              "      <th>time</th>\n",
              "    </tr>\n",
              "  </thead>\n",
              "  <tbody>\n",
              "    <tr>\n",
              "      <td>0</td>\n",
              "      <td>0.612671</td>\n",
              "      <td>0.425049</td>\n",
              "      <td>0.200000</td>\n",
              "      <td>03:34</td>\n",
              "    </tr>\n",
              "  </tbody>\n",
              "</table>"
            ],
            "text/plain": [
              "<IPython.core.display.HTML object>"
            ]
          },
          "metadata": {
            "tags": []
          }
        }
      ]
    },
    {
      "cell_type": "code",
      "metadata": {
        "id": "1TfcsMS30FYW",
        "colab_type": "code",
        "colab": {}
      },
      "source": [
        "learn.load('stage-1');"
      ],
      "execution_count": 0,
      "outputs": []
    },
    {
      "cell_type": "code",
      "metadata": {
        "id": "S9L6tRss0FYX",
        "colab_type": "code",
        "outputId": "e75523e0-c35c-4d26-f2a7-7c7ccbe4e31c",
        "colab": {
          "base_uri": "https://localhost:8080/",
          "height": 34
        }
      },
      "source": [
        "learn.lr_find()"
      ],
      "execution_count": 112,
      "outputs": [
        {
          "output_type": "display_data",
          "data": {
            "text/html": [
              ""
            ],
            "text/plain": [
              "<IPython.core.display.HTML object>"
            ]
          },
          "metadata": {
            "tags": []
          }
        },
        {
          "output_type": "stream",
          "text": [
            "LR Finder is complete, type {learner_name}.recorder.plot() to see the graph.\n"
          ],
          "name": "stdout"
        }
      ]
    },
    {
      "cell_type": "code",
      "metadata": {
        "id": "QS-GfKbC0FYZ",
        "colab_type": "code",
        "outputId": "c6784a6c-c862-4122-a8f8-cc8f1e6518ad",
        "colab": {
          "base_uri": "https://localhost:8080/",
          "height": 283
        }
      },
      "source": [
        "learn.recorder.plot()"
      ],
      "execution_count": 113,
      "outputs": [
        {
          "output_type": "display_data",
          "data": {
            "image/png": "[encoded data removed]",
            "text/plain": [
              "<Figure size 432x288 with 1 Axes>"
            ]
          },
          "metadata": {
            "tags": []
          }
        }
      ]
    },
    {
      "cell_type": "code",
      "metadata": {
        "id": "mWmwbARE0FYa",
        "colab_type": "code",
        "outputId": "3a6545a0-4806-4511-f0bc-54e7252d29e7",
        "colab": {
          "base_uri": "https://localhost:8080/",
          "height": 111
        }
      },
      "source": [
        "learn.unfreeze()\n",
        "learn.fit_one_cycle(2, max_lr=slice(1e-6,1e-4))"
      ],
      "execution_count": 114,
      "outputs": [
        {
          "output_type": "display_data",
          "data": {
            "text/html": [
              "<table border=\"1\" class=\"dataframe\">\n",
              "  <thead>\n",
              "    <tr style=\"text-align: left;\">\n",
              "      <th>epoch</th>\n",
              "      <th>train_loss</th>\n",
              "      <th>valid_loss</th>\n",
              "      <th>error_rate</th>\n",
              "      <th>time</th>\n",
              "    </tr>\n",
              "  </thead>\n",
              "  <tbody>\n",
              "    <tr>\n",
              "      <td>0</td>\n",
              "      <td>0.369727</td>\n",
              "      <td>0.667198</td>\n",
              "      <td>0.200000</td>\n",
              "      <td>03:31</td>\n",
              "    </tr>\n",
              "    <tr>\n",
              "      <td>1</td>\n",
              "      <td>0.383951</td>\n",
              "      <td>0.758303</td>\n",
              "      <td>0.200000</td>\n",
              "      <td>03:30</td>\n",
              "    </tr>\n",
              "  </tbody>\n",
              "</table>"
            ],
            "text/plain": [
              "<IPython.core.display.HTML object>"
            ]
          },
          "metadata": {
            "tags": []
          }
        }
      ]
    },
    {
      "cell_type": "markdown",
      "metadata": {
        "id": "uWltzw5O0FYc",
        "colab_type": "text"
      },
      "source": [
        "That's a pretty accurate model!"
      ]
    },
    {
      "cell_type": "markdown",
      "metadata": {
        "id": "1f6LoHu30FYc",
        "colab_type": "text"
      },
      "source": [
        "## Training: resnet50"
      ]
    },
    {
      "cell_type": "markdown",
      "metadata": {
        "id": "5NmpGYF_0FYc",
        "colab_type": "text"
      },
      "source": [
        "Now we will train in the same way as before but with one caveat: instead of using resnet34 as our backbone we will use resnet50 (resnet34 is a 34 layer residual network while resnet50 has 50 layers. It will be explained later in the course and you can learn the details in the [resnet paper](https://arxiv.org/pdf/1512.03385.pdf)).\n",
        "\n",
        "Basically, resnet50 usually performs better because it is a deeper network with more parameters. Let's see if we can achieve a higher performance here. To help it along, let's us use larger images too, since that way the network can see more detail. We reduce the batch size a bit since otherwise this larger network will require more GPU memory."
      ]
    },
    {
      "cell_type": "code",
      "metadata": {
        "id": "r5XO7KsU0FYd",
        "colab_type": "code",
        "colab": {}
      },
      "source": [
        "data = ImageDataBunch.from_name_re(path_img, fnames, pat, ds_tfms=get_transforms(),\n",
        "                                   size=299, bs=bs//2).normalize(imagenet_stats)"
      ],
      "execution_count": 0,
      "outputs": []
    },
    {
      "cell_type": "code",
      "metadata": {
        "id": "2HC4xAVk0FYe",
        "colab_type": "code",
        "colab": {}
      },
      "source": [
        "learn = cnn_learner(data, models.resnet50, metrics=error_rate)"
      ],
      "execution_count": 0,
      "outputs": []
    },
    {
      "cell_type": "code",
      "metadata": {
        "id": "vBq7uG8C0FYg",
        "colab_type": "code",
        "outputId": "c49614f8-7dbf-4e82-cb09-4e7066793e5b",
        "colab": {}
      },
      "source": [
        "learn.lr_find()\n",
        "learn.recorder.plot()"
      ],
      "execution_count": 0,
      "outputs": [
        {
          "output_type": "stream",
          "text": [
            "LR Finder complete, type {learner_name}.recorder.plot() to see the graph.\n"
          ],
          "name": "stdout"
        },
        {
          "output_type": "display_data",
          "data": {
            "image/png": "[encoded data removed]",
            "text/plain": [
              "<Figure size 432x288 with 1 Axes>"
            ]
          },
          "metadata": {
            "tags": [],
            "needs_background": "light"
          }
        }
      ]
    },
    {
      "cell_type": "code",
      "metadata": {
        "id": "k3ZsuZ500FYh",
        "colab_type": "code",
        "outputId": "a3a8dc8c-77d7-47f0-9dd3-406f5d193ea2",
        "colab": {}
      },
      "source": [
        "learn.fit_one_cycle(8)"
      ],
      "execution_count": 0,
      "outputs": [
        {
          "output_type": "stream",
          "text": [
            "Total time: 06:59\n",
            "epoch  train_loss  valid_loss  error_rate\n",
            "1      0.548006    0.268912    0.076455    (00:57)\n",
            "2      0.365533    0.193667    0.064953    (00:51)\n",
            "3      0.336032    0.211020    0.073072    (00:51)\n",
            "4      0.263173    0.212025    0.060893    (00:51)\n",
            "5      0.217016    0.183195    0.063599    (00:51)\n",
            "6      0.161002    0.167274    0.048038    (00:51)\n",
            "7      0.086668    0.143490    0.044655    (00:51)\n",
            "8      0.082288    0.154927    0.046008    (00:51)\n",
            "\n"
          ],
          "name": "stdout"
        }
      ]
    },
    {
      "cell_type": "code",
      "metadata": {
        "id": "uc-DKqGF0FYj",
        "colab_type": "code",
        "colab": {}
      },
      "source": [
        "learn.save('stage-1-50')"
      ],
      "execution_count": 0,
      "outputs": []
    },
    {
      "cell_type": "markdown",
      "metadata": {
        "id": "AQnwaqXR0FYk",
        "colab_type": "text"
      },
      "source": [
        "It's astonishing that it's possible to recognize pet breeds so accurately! Let's see if full fine-tuning helps:"
      ]
    },
    {
      "cell_type": "code",
      "metadata": {
        "id": "K4PlxMke0FYl",
        "colab_type": "code",
        "outputId": "f35fc864-7fee-4946-91fd-02e91846c596",
        "colab": {}
      },
      "source": [
        "learn.unfreeze()\n",
        "learn.fit_one_cycle(3, max_lr=slice(1e-6,1e-4))"
      ],
      "execution_count": 0,
      "outputs": [
        {
          "output_type": "stream",
          "text": [
            "Total time: 03:27\n",
            "epoch  train_loss  valid_loss  error_rate\n",
            "1      0.097319    0.155017    0.048038    (01:10)\n",
            "2      0.074885    0.144853    0.044655    (01:08)\n",
            "3      0.063509    0.144917    0.043978    (01:08)\n",
            "\n"
          ],
          "name": "stdout"
        }
      ]
    },
    {
      "cell_type": "markdown",
      "metadata": {
        "id": "92eE-O8L0FYm",
        "colab_type": "text"
      },
      "source": [
        "If it doesn't, you can always go back to your previous model."
      ]
    },
    {
      "cell_type": "code",
      "metadata": {
        "id": "IRHsdokm0FYm",
        "colab_type": "code",
        "colab": {}
      },
      "source": [
        "learn.load('stage-1-50');"
      ],
      "execution_count": 0,
      "outputs": []
    },
    {
      "cell_type": "code",
      "metadata": {
        "id": "63Q6pD6A0FYo",
        "colab_type": "code",
        "colab": {}
      },
      "source": [
        "interp = ClassificationInterpretation.from_learner(learn)"
      ],
      "execution_count": 0,
      "outputs": []
    },
    {
      "cell_type": "code",
      "metadata": {
        "id": "8pOTabYr0FYp",
        "colab_type": "code",
        "outputId": "5b2d6d5a-2a84-4f6d-9da4-610be19ac5e0",
        "colab": {}
      },
      "source": [
        "interp.most_confused(min_val=2)"
      ],
      "execution_count": 0,
      "outputs": [
        {
          "output_type": "execute_result",
          "data": {
            "text/plain": [
              "[('american_pit_bull_terrier', 'staffordshire_bull_terrier', 6),\n",
              " ('Bengal', 'Egyptian_Mau', 5),\n",
              " ('Bengal', 'Abyssinian', 4),\n",
              " ('boxer', 'american_bulldog', 4),\n",
              " ('Ragdoll', 'Birman', 4),\n",
              " ('Egyptian_Mau', 'Bengal', 3)]"
            ]
          },
          "metadata": {
            "tags": []
          },
          "execution_count": 0
        }
      ]
    },
    {
      "cell_type": "markdown",
      "metadata": {
        "id": "IV6FZFdr0FYr",
        "colab_type": "text"
      },
      "source": [
        "## Other data formats"
      ]
    },
    {
      "cell_type": "code",
      "metadata": {
        "id": "kQw-ShHg0FYs",
        "colab_type": "code",
        "outputId": "2377da3f-dfcd-4f08-aba7-9cd87f09bdfe",
        "colab": {
          "base_uri": "https://localhost:8080/",
          "height": 34
        }
      },
      "source": [
        "path2 = untar_data(URLs.MNIST_SAMPLE); path"
      ],
      "execution_count": 41,
      "outputs": [
        {
          "output_type": "execute_result",
          "data": {
            "text/plain": [
              "PosixPath('/content/drive/My Drive/data')"
            ]
          },
          "metadata": {
            "tags": []
          },
          "execution_count": 41
        }
      ]
    },
    {
      "cell_type": "code",
      "metadata": {
        "id": "iEeQQ96mUxKX",
        "colab_type": "code",
        "outputId": "e4fde30f-b51b-46e2-d2be-c0cf51b711f2",
        "colab": {
          "base_uri": "https://localhost:8080/",
          "height": 51
        }
      },
      "source": [
        "(path2/\"train\").ls()"
      ],
      "execution_count": 44,
      "outputs": [
        {
          "output_type": "execute_result",
          "data": {
            "text/plain": [
              "[PosixPath('/root/.fastai/data/mnist_sample/train/3'),\n",
              " PosixPath('/root/.fastai/data/mnist_sample/train/7')]"
            ]
          },
          "metadata": {
            "tags": []
          },
          "execution_count": 44
        }
      ]
    },
    {
      "cell_type": "code",
      "metadata": {
        "id": "uH5YNU6w0FYt",
        "colab_type": "code",
        "colab": {}
      },
      "source": [
        "tfms = get_transforms(do_flip=False)\n",
        "data = ImageDataBunch.from_folder(path, ds_tfms=tfms, size=26)"
      ],
      "execution_count": 0,
      "outputs": []
    },
    {
      "cell_type": "code",
      "metadata": {
        "id": "EQGt9fxD0FYv",
        "colab_type": "code",
        "outputId": "5c0be64d-3e97-4e75-a965-6981733bb082",
        "colab": {}
      },
      "source": [
        "data.show_batch(rows=3, figsize=(5,5))"
      ],
      "execution_count": 0,
      "outputs": [
        {
          "output_type": "display_data",
          "data": {
            "image/png": "[encoded data removed]",
            "text/plain": [
              "<Figure size 360x360 with 9 Axes>"
            ]
          },
          "metadata": {
            "tags": []
          }
        }
      ]
    },
    {
      "cell_type": "code",
      "metadata": {
        "id": "q1BPJK5Q0FYz",
        "colab_type": "code",
        "outputId": "598153f8-f68f-4df2-da1a-0d316d8e6363",
        "colab": {}
      },
      "source": [
        "learn = cnn_learner(data, models.resnet18, metrics=accuracy)\n",
        "learn.fit(2)"
      ],
      "execution_count": 0,
      "outputs": [
        {
          "output_type": "stream",
          "text": [
            "Total time: 00:23\n",
            "epoch  train_loss  valid_loss  accuracy\n",
            "1      0.116117    0.029745    0.991168  (00:12)\n",
            "2      0.056860    0.015974    0.994603  (00:10)\n",
            "\n"
          ],
          "name": "stdout"
        }
      ]
    },
    {
      "cell_type": "code",
      "metadata": {
        "id": "pa5wxMYV0FY1",
        "colab_type": "code",
        "outputId": "dbbf501c-c4ce-43ca-878f-06256f1dc7d4",
        "colab": {}
      },
      "source": [
        "df = pd.read_csv(path/'labels.csv')\n",
        "df.head()"
      ],
      "execution_count": 0,
      "outputs": [
        {
          "output_type": "execute_result",
          "data": {
            "text/html": [
              "<div>\n",
              "<style scoped>\n",
              "    .dataframe tbody tr th:only-of-type {\n",
              "        vertical-align: middle;\n",
              "    }\n",
              "\n",
              "    .dataframe tbody tr th {\n",
              "        vertical-align: top;\n",
              "    }\n",
              "\n",
              "    .dataframe thead th {\n",
              "        text-align: right;\n",
              "    }\n",
              "</style>\n",
              "<table border=\"1\" class=\"dataframe\">\n",
              "  <thead>\n",
              "    <tr style=\"text-align: right;\">\n",
              "      <th></th>\n",
              "      <th>name</th>\n",
              "      <th>label</th>\n",
              "    </tr>\n",
              "  </thead>\n",
              "  <tbody>\n",
              "    <tr>\n",
              "      <th>0</th>\n",
              "      <td>train/3/7463.png</td>\n",
              "      <td>0</td>\n",
              "    </tr>\n",
              "    <tr>\n",
              "      <th>1</th>\n",
              "      <td>train/3/21102.png</td>\n",
              "      <td>0</td>\n",
              "    </tr>\n",
              "    <tr>\n",
              "      <th>2</th>\n",
              "      <td>train/3/31559.png</td>\n",
              "      <td>0</td>\n",
              "    </tr>\n",
              "    <tr>\n",
              "      <th>3</th>\n",
              "      <td>train/3/46882.png</td>\n",
              "      <td>0</td>\n",
              "    </tr>\n",
              "    <tr>\n",
              "      <th>4</th>\n",
              "      <td>train/3/26209.png</td>\n",
              "      <td>0</td>\n",
              "    </tr>\n",
              "  </tbody>\n",
              "</table>\n",
              "</div>"
            ],
            "text/plain": [
              "                name  label\n",
              "0   train/3/7463.png      0\n",
              "1  train/3/21102.png      0\n",
              "2  train/3/31559.png      0\n",
              "3  train/3/46882.png      0\n",
              "4  train/3/26209.png      0"
            ]
          },
          "metadata": {
            "tags": []
          },
          "execution_count": 0
        }
      ]
    },
    {
      "cell_type": "code",
      "metadata": {
        "id": "hujSnLhs0FY2",
        "colab_type": "code",
        "colab": {}
      },
      "source": [
        "data = ImageDataBunch.from_csv(path, ds_tfms=tfms, size=28)"
      ],
      "execution_count": 0,
      "outputs": []
    },
    {
      "cell_type": "code",
      "metadata": {
        "id": "U4s_ATGg0FY4",
        "colab_type": "code",
        "outputId": "9049fcdf-1a78-4a79-d296-72c2ef720f88",
        "colab": {}
      },
      "source": [
        "data.show_batch(rows=3, figsize=(5,5))\n",
        "data.classes"
      ],
      "execution_count": 0,
      "outputs": [
        {
          "output_type": "execute_result",
          "data": {
            "text/plain": [
              "[0, 1]"
            ]
          },
          "metadata": {
            "tags": []
          },
          "execution_count": 0
        },
        {
          "output_type": "display_data",
          "data": {
            "image/png": "[encoded data removed]",
            "text/plain": [
              "<Figure size 360x360 with 9 Axes>"
            ]
          },
          "metadata": {
            "tags": []
          }
        }
      ]
    },
    {
      "cell_type": "code",
      "metadata": {
        "id": "_wbY0HX40FY6",
        "colab_type": "code",
        "outputId": "e8cd12fb-f642-4095-a68c-b69aeb80f7ed",
        "colab": {}
      },
      "source": [
        "data = ImageDataBunch.from_df(path, df, ds_tfms=tfms, size=24)\n",
        "data.classes"
      ],
      "execution_count": 0,
      "outputs": [
        {
          "output_type": "execute_result",
          "data": {
            "text/plain": [
              "[0, 1]"
            ]
          },
          "metadata": {
            "tags": []
          },
          "execution_count": 0
        }
      ]
    },
    {
      "cell_type": "code",
      "metadata": {
        "id": "p1TYIj1r0FY8",
        "colab_type": "code",
        "outputId": "1a10b26f-6bb2-4a38-9ee1-38936ad32594",
        "colab": {}
      },
      "source": [
        "fn_paths = [path/name for name in df['name']]; fn_paths[:2]"
      ],
      "execution_count": 0,
      "outputs": [
        {
          "output_type": "execute_result",
          "data": {
            "text/plain": [
              "[PosixPath('/home/ubuntu/course-v3/nbs/dl1/data/mnist_sample/train/3/7463.png'),\n",
              " PosixPath('/home/ubuntu/course-v3/nbs/dl1/data/mnist_sample/train/3/21102.png')]"
            ]
          },
          "metadata": {
            "tags": []
          },
          "execution_count": 0
        }
      ]
    },
    {
      "cell_type": "code",
      "metadata": {
        "id": "F1HjuuHi0FY9",
        "colab_type": "code",
        "outputId": "bfebd225-0e26-45aa-acee-b2c1703f63d0",
        "colab": {}
      },
      "source": [
        "pat = r\"/(\\d)/\\d+\\.png$\"\n",
        "data = ImageDataBunch.from_name_re(path, fn_paths, pat=pat, ds_tfms=tfms, size=24)\n",
        "data.classes"
      ],
      "execution_count": 0,
      "outputs": [
        {
          "output_type": "execute_result",
          "data": {
            "text/plain": [
              "['3', '7']"
            ]
          },
          "metadata": {
            "tags": []
          },
          "execution_count": 0
        }
      ]
    },
    {
      "cell_type": "code",
      "metadata": {
        "id": "ZaMnj34v0FY_",
        "colab_type": "code",
        "outputId": "4eb04aca-3eb0-4cd2-a6cc-331a554e214a",
        "colab": {}
      },
      "source": [
        "data = ImageDataBunch.from_name_func(path, fn_paths, ds_tfms=tfms, size=24,\n",
        "        label_func = lambda x: '3' if '/3/' in str(x) else '7')\n",
        "data.classes"
      ],
      "execution_count": 0,
      "outputs": [
        {
          "output_type": "execute_result",
          "data": {
            "text/plain": [
              "['3', '7']"
            ]
          },
          "metadata": {
            "tags": []
          },
          "execution_count": 0
        }
      ]
    },
    {
      "cell_type": "code",
      "metadata": {
        "id": "tfHjPswP0FZB",
        "colab_type": "code",
        "outputId": "cc1aca5d-3303-4499-c913-126f5613c283",
        "colab": {}
      },
      "source": [
        "labels = [('3' if '/3/' in str(x) else '7') for x in fn_paths]\n",
        "labels[:5]"
      ],
      "execution_count": 0,
      "outputs": [
        {
          "output_type": "execute_result",
          "data": {
            "text/plain": [
              "['3', '3', '3', '3', '3']"
            ]
          },
          "metadata": {
            "tags": []
          },
          "execution_count": 0
        }
      ]
    },
    {
      "cell_type": "code",
      "metadata": {
        "id": "kRn4yWGt0FZC",
        "colab_type": "code",
        "outputId": "8ece3cc4-c0a5-4d7c-f672-52267089e0cd",
        "colab": {}
      },
      "source": [
        "data = ImageDataBunch.from_lists(path, fn_paths, labels=labels, ds_tfms=tfms, size=24)\n",
        "data.classes"
      ],
      "execution_count": 0,
      "outputs": [
        {
          "output_type": "execute_result",
          "data": {
            "text/plain": [
              "['3', '7']"
            ]
          },
          "metadata": {
            "tags": []
          },
          "execution_count": 0
        }
      ]
    },
    {
      "cell_type": "code",
      "metadata": {
        "id": "4NJ3je-B0FZD",
        "colab_type": "code",
        "colab": {}
      },
      "source": [
        ""
      ],
      "execution_count": 0,
      "outputs": []
    }
  ]
}