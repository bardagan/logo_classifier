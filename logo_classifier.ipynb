{
  "nbformat": 4,
  "nbformat_minor": 0,
  "metadata": {
    "kernelspec": {
      "name": "python3",
      "display_name": "Python 3"
    },
    "colab": {
      "name": "Copy of lesson1-pets.ipynb",
      "provenance": [],
      "collapsed_sections": [
        "1f6LoHu30FYc"
      ],
      "include_colab_link": true
    },
    "accelerator": "GPU"
  },
  "cells": [
    {
      "cell_type": "markdown",
      "metadata": {
        "id": "view-in-github",
        "colab_type": "text"
      },
      "source": [
        "<a href=\"https://colab.research.google.com/github/bardagan/logo_classifier/blob/master/logo_classifier.ipynb\" target=\"_parent\"><img src=\"https://colab.research.google.com/assets/colab-badge.svg\" alt=\"Open In Colab\"/></a>"
      ]
    },
    {
      "cell_type": "markdown",
      "metadata": {
        "id": "xVKQBdm30FXg",
        "colab_type": "text"
      },
      "source": [
        "# Logo Classifier"
      ]
    },
    {
      "cell_type": "code",
      "metadata": {
        "id": "Vai58P270FXi",
        "colab_type": "code",
        "colab": {}
      },
      "source": [
        "%reload_ext autoreload\n",
        "%autoreload 2\n",
        "%matplotlib inline"
      ],
      "execution_count": 0,
      "outputs": []
    },
    {
      "cell_type": "markdown",
      "metadata": {
        "id": "cJfZNhIS0FXl",
        "colab_type": "text"
      },
      "source": [
        "We import all the necessary packages. We are going to work with the [fastai V1 library](http://www.fast.ai/2018/10/02/fastai-ai/) which sits on top of [Pytorch 1.0](https://hackernoon.com/pytorch-1-0-468332ba5163). The fastai library provides many useful functions that enable us to quickly and easily build neural networks and train our models."
      ]
    },
    {
      "cell_type": "code",
      "metadata": {
        "id": "1nyxPDX10FXl",
        "colab_type": "code",
        "colab": {}
      },
      "source": [
        "from fastai.vision import *\n",
        "from fastai.metrics import error_rate"
      ],
      "execution_count": 0,
      "outputs": []
    },
    {
      "cell_type": "markdown",
      "metadata": {
        "id": "DYgLAniH0FXn",
        "colab_type": "text"
      },
      "source": [
        "If you're using a computer with an unusually small GPU, you may get an out of memory error when running this notebook. If this happens, click Kernel->Restart, uncomment the 2nd line below to use a smaller *batch size* (you'll learn all about what this means during the course), and try again."
      ]
    },
    {
      "cell_type": "code",
      "metadata": {
        "id": "OXjIsK-q0FXo",
        "colab_type": "code",
        "colab": {}
      },
      "source": [
        "# bs = 64\n",
        "bs = 16   # uncomment this line if you run out of memory even after clicking Kernel->Restart"
      ],
      "execution_count": 0,
      "outputs": []
    },
    {
      "cell_type": "markdown",
      "metadata": {
        "id": "MQHOHlbdvZ_X",
        "colab_type": "text"
      },
      "source": [
        "## **Creating Data Set**"
      ]
    },
    {
      "cell_type": "markdown",
      "metadata": {
        "id": "K6hFJnduznGZ",
        "colab_type": "text"
      },
      "source": [
        "install chromium, its driver, and selenium:"
      ]
    },
    {
      "cell_type": "code",
      "metadata": {
        "id": "1wC0vs57zPA1",
        "colab_type": "code",
        "colab": {
          "base_uri": "https://localhost:8080/",
          "height": 595
        },
        "outputId": "e5f0e58f-06ba-4ac0-bf59-20a5d24207e0"
      },
      "source": [
        "!apt update\n",
        "!apt install chromium-chromedriver\n",
        "!cp /usr/lib/chromium-browser/chromedriver /usr/bin\n",
        "!pip install selenium\n",
        "!pip install google_images_download"
      ],
      "execution_count": 19,
      "outputs": [
        {
          "output_type": "stream",
          "text": [
            "\u001b[33m\r0% [Working]\u001b[0m\r            \rHit:1 https://cloud.r-project.org/bin/linux/ubuntu bionic-cran35/ InRelease\n",
            "\u001b[33m\r0% [Connecting to archive.ubuntu.com (91.189.88.149)] [Connecting to security.u\u001b[0m\u001b[33m\r0% [1 InRelease gpgv 3,626 B] [Connecting to archive.ubuntu.com (91.189.88.149)\u001b[0m\r                                                                               \rIgn:2 https://developer.download.nvidia.com/compute/cuda/repos/ubuntu1804/x86_64  InRelease\n",
            "\u001b[33m\r0% [1 InRelease gpgv 3,626 B] [Connecting to archive.ubuntu.com (91.189.88.149)\u001b[0m\r                                                                               \rIgn:3 https://developer.download.nvidia.com/compute/machine-learning/repos/ubuntu1804/x86_64  InRelease\n",
            "\u001b[33m\r0% [1 InRelease gpgv 3,626 B] [Connecting to archive.ubuntu.com (91.189.88.149)\u001b[0m\r                                                                               \rHit:4 http://security.ubuntu.com/ubuntu bionic-security InRelease\n",
            "\u001b[33m\r0% [1 InRelease gpgv 3,626 B] [Waiting for headers] [Waiting for headers] [Wait\u001b[0m\r                                                                               \rHit:5 https://developer.download.nvidia.com/compute/cuda/repos/ubuntu1804/x86_64  Release\n",
            "\u001b[33m\r                                                                               \r0% [1 InRelease gpgv 3,626 B] [Waiting for headers] [Waiting for headers]\u001b[0m\r                                                                         \rHit:6 https://developer.download.nvidia.com/compute/machine-learning/repos/ubuntu1804/x86_64  Release\n",
            "\u001b[33m\r0% [1 InRelease gpgv 3,626 B] [Waiting for headers] [Waiting for headers]\u001b[0m\u001b[33m\r                                                                         \r0% [Waiting for headers] [Waiting for headers]\u001b[0m\u001b[33m\r0% [4 InRelease gpgv 88.7 kB] [Waiting for headers] [Waiting for headers]\u001b[0m\r                                                                         \rHit:7 http://ppa.launchpad.net/graphics-drivers/ppa/ubuntu bionic InRelease\n",
            "Hit:8 http://archive.ubuntu.com/ubuntu bionic InRelease\n",
            "Hit:10 http://archive.ubuntu.com/ubuntu bionic-updates InRelease\n",
            "Hit:11 http://ppa.launchpad.net/marutter/c2d4u3.5/ubuntu bionic InRelease\n",
            "Hit:13 http://archive.ubuntu.com/ubuntu bionic-backports InRelease\n",
            "Reading package lists... Done\n",
            "Building dependency tree       \n",
            "Reading state information... Done\n",
            "146 packages can be upgraded. Run 'apt list --upgradable' to see them.\n",
            "Reading package lists... Done\n",
            "Building dependency tree       \n",
            "Reading state information... Done\n",
            "chromium-chromedriver is already the newest version (77.0.3865.90-0ubuntu0.18.04.1).\n",
            "0 upgraded, 0 newly installed, 0 to remove and 146 not upgraded.\n",
            "cp: '/usr/lib/chromium-browser/chromedriver' and '/usr/bin/chromedriver' are the same file\n",
            "Requirement already satisfied: selenium in /usr/local/lib/python3.6/dist-packages (3.141.0)\n",
            "Requirement already satisfied: urllib3 in /usr/local/lib/python3.6/dist-packages (from selenium) (1.24.3)\n",
            "Collecting google_images_download\n",
            "  Downloading https://files.pythonhosted.org/packages/18/ed/0319d30c48f3653802da8e6dcfefcea6370157d10d566ef6807cceb5ec4d/google_images_download-2.8.0.tar.gz\n",
            "Requirement already satisfied: selenium in /usr/local/lib/python3.6/dist-packages (from google_images_download) (3.141.0)\n",
            "Requirement already satisfied: urllib3 in /usr/local/lib/python3.6/dist-packages (from selenium->google_images_download) (1.24.3)\n",
            "Building wheels for collected packages: google-images-download\n",
            "  Building wheel for google-images-download (setup.py) ... \u001b[?25l\u001b[?25hdone\n",
            "  Created wheel for google-images-download: filename=google_images_download-2.8.0-py2.py3-none-any.whl size=14550 sha256=d869651fd8b833a989ffe01c91711ca3876e389fdf8e2ee69c76cbf1b7cabf9f\n",
            "  Stored in directory: /root/.cache/pip/wheels/1f/28/ad/f56e7061e1d2a9a1affe2f9c649c2570cb9198dd24ede0bbab\n",
            "Successfully built google-images-download\n",
            "Installing collected packages: google-images-download\n",
            "Successfully installed google-images-download-2.8.0\n"
          ],
          "name": "stdout"
        }
      ]
    },
    {
      "cell_type": "markdown",
      "metadata": {
        "id": "8OkB_6Ekzf2x",
        "colab_type": "text"
      },
      "source": [
        "Set option to be headless"
      ]
    },
    {
      "cell_type": "code",
      "metadata": {
        "id": "NfGSJYGPzd8C",
        "colab_type": "code",
        "colab": {}
      },
      "source": [
        "from selenium import webdriver\n",
        "options = webdriver.ChromeOptions()\n",
        "options.add_argument('–headless')\n",
        "options.add_argument('–no-sandbox')\n",
        "options.add_argument('–disable-dev-shm-usage')"
      ],
      "execution_count": 0,
      "outputs": []
    },
    {
      "cell_type": "markdown",
      "metadata": {
        "id": "sNsa4hYwzo0p",
        "colab_type": "text"
      },
      "source": [
        "### Connect to Google **Drive**"
      ]
    },
    {
      "cell_type": "code",
      "metadata": {
        "colab_type": "code",
        "outputId": "a7bf4202-8238-49f6-a62f-c3cf0c631c84",
        "id": "G_Aga9ofw26h",
        "colab": {
          "base_uri": "https://localhost:8080/",
          "height": 34
        }
      },
      "source": [
        "from google.colab import drive\n",
        "drive.mount('/content/drive')\n"
      ],
      "execution_count": 16,
      "outputs": [
        {
          "output_type": "stream",
          "text": [
            "Drive already mounted at /content/drive; to attempt to forcibly remount, call drive.mount(\"/content/drive\", force_remount=True).\n"
          ],
          "name": "stdout"
        }
      ]
    },
    {
      "cell_type": "code",
      "metadata": {
        "id": "dV8kz01oveFU",
        "colab_type": "code",
        "outputId": "725c4fc2-11e9-44f5-b67c-b0c6b5ff5be5",
        "colab": {
          "base_uri": "https://localhost:8080/",
          "height": 1000
        }
      },
      "source": [
        "!googleimagesdownload -o \"/content/drive/My Drive/data/adidas\" --chromedriver '/usr/bin/chromedriver' -n -l 500 -si https://logos-download.com/wp-content/uploads/2016/03/Adidas_logo.png"
      ],
      "execution_count": 22,
      "outputs": [
        {
          "output_type": "stream",
          "text": [
            "\n",
            "Item no.: 1 --> Item name = 2019-10-13 09_06_45\n",
            "Evaluating...\n",
            "https://logos-download.com/wp-content/uploads/2016/03/Adidas_logo.png\n",
            "Getting you a lot of images. This may take a few moments...\n",
            "Reached end of Page.\n",
            "Starting Download...\n",
            "Completed Image ====> 1.ADIDAS_THUMB_1080x.jpg\n",
            "Completed Image ====> 2.Adidas_logo.png\n",
            "Completed Image ====> 3.Adidas-Trefoil-Logo-Decal-Sticker__45544.1510913905.jpg\n",
            "Completed Image ====> 4.Adidas_Logo_Flower__83153.1337144903.380.380.jpg\n",
            "Completed Image ====> 5.kiev-ukraine-november-16-2017-260nw-757799287.jpg\n",
            "Completed Image ====> 6.adidas-three-stripes-history-11.jpg\n",
            "Completed Image ====> 7.Adidas-Logo.jpg\n",
            "Completed Image ====> 8.0d9b463f1438ca0c415538774184a098.png\n",
            "Completed Image ====> 9.adidas_logo_3d_model_c4d_max_obj_fbx_ma_lwo_3ds_3dm_stl_384267_o.jpg\n",
            "Completed Image ====> 10.Adidas-logo.jpg\n",
            "Completed Image ====> 11.s-l300.jpg\n",
            "Completed Image ====> 12.853b978bff0dbad12f6f51f2c66f0e4f.jpg\n",
            "Completed Image ====> 13.Adidas-Originals-logo-vector-01.svg\n",
            "Completed Image ====> 14.s-l300.jpg\n",
            "Completed Image ====> 15.8.jpg\n",
            "Completed Image ====> 16.adidas-11.jpg\n",
            "Completed Image ====> 17.Adidas-Dripping-Blood-Logo-Sticker__63535.1510657223.jpg\n",
            "Completed Image ====> 18.adidas-logo-300x150.jpg\n",
            "Invalid or missing image format. Skipping...\n",
            "Completed Image ====> 19.nike-adidas.jpg\n",
            "Completed Image ====> 20.Adidas-Logo-old.jpg\n",
            "Completed Image ====> 21.hqdefault.jpg\n",
            "Completed Image ====> 22.3500.jpg\n",
            "Completed Image ====> 23.Adidas_300x300.png\n",
            "Completed Image ====> 24.adidas_trefoil1.jpg\n",
            "Completed Image ====> 25.Adidas-Logo-Decal-Sticker.jpg\n",
            "Completed Image ====> 26.0*EVlA9ITEWcMVAifK.png\n",
            "Completed Image ====> 27.aps,650x642,small,transparent-pad,750x1000,f8f8f8.u3.jpg\n",
            "Completed Image ====> 28.adidas-logo-history%2B%25281%2529.jpg\n",
            "Completed Image ====> 29.89803024-kiev-ukraine-october-27-2017-collection-of-adidas-logos-printed-on-white-paper-adidas-is-a-german-mu.jpg\n",
            "Completed Image ====> 30.e4ee5-adidas-logo.jpg\n",
            "Completed Image ====> 31.AYpketi.jpg\n",
            "Completed Image ====> 32.il_340x270.2023416435_2g8t.jpg\n",
            "Completed Image ====> 33.790px-Adidas_klassisches_logo.svg.png\n",
            "Completed Image ====> 34.adidas%20ls%20metallic%20gold%20big%20logo.jpg\n",
            "Completed Image ====> 35.adidas.jpg\n",
            "Completed Image ====> 36.858302-3.jpg\n",
            "Completed Image ====> 37.adidas.gif\n",
            "Completed Image ====> 38.adidas-3stripelogos.jpg\n",
            "Completed Image ====> 39.41626.jpg\n",
            "Completed Image ====> 40.adidas-stan-smith-logo-shoe-adidas-logo-png.jpg\n",
            "Completed Image ====> 41.Adidas-Logo-marketing-1200x630-750x394.jpg\n",
            "Completed Image ====> 42.adidas-grass-logo-aged-pixel.jpg\n",
            "Completed Image ====> 43.mp,840x830,matte,f8f8f8,t-pad,750x1000,f8f8f8.u3.jpg\n",
            "Completed Image ====> 44.adidas-Logo-Graphic-3-Pack-Crew-Socks--_297639.jpg\n",
            "Completed Image ====> 45.Adidas-Logo.jpg\n",
            "Completed Image ====> 46.731972.svg\n",
            "Completed Image ====> 47.adidas_logo_concept_20190808_1988578280.png\n",
            "Completed Image ====> 48.Screen-Shot-2017-02-07-at-12.03.06-PM-630x267.png\n",
            "Completed Image ====> 49.Alcoho-Adidas-Parody.jpg\n",
            "Completed Image ====> 50.red-yellow-adidas-logo-white-background-world-famous-brand-advertising-banners-moscow-128502916.jpg\n",
            "Completed Image ====> 51.il_340x270.1947067604_3us5.jpg\n",
            "Completed Image ====> 52.5c560528-adidas-wordmark-logo.jpg\n",
            "Completed Image ====> 53.Adidas_Originals_logo.png\n",
            "Completed Image ====> 54.Untitled-design-7-1180x627.png\n",
            "Completed Image ====> 55.adidas-logo-history-illustration-678x381.jpg\n",
            "Completed Image ====> 56.f04b08afcbef3dd40ef1e692d8443ec1.jpg\n",
            "Completed Image ====> 57.02538244652013.58198da2cd949.jpg\n",
            "Completed Image ====> 58.ADIDAS_credit_Jaseng99.jpg\n",
            "Invalid or missing image format. Skipping...\n",
            "Completed Image ====> 59.21502362475r8bjrgyzs78go6s1hjhf8hfz22xjolzbtlkj7loqtg18wsxpb6l72dmqxhn1regqpjjscyuppavtcnacyuummijt8cmz7wj1ehjx.png\n",
            "Completed Image ====> 60.adidas-original-logo-11ECB1018C-seeklogo.com.png\n",
            "Completed Image ====> 61.main-qimg-ccfa8b9c252f0c551b2f9c9d149a0023.webp\n",
            "Completed Image ====> 62.triangle-adidas-vector-icon-illustration-260nw-1364088236.jpg\n",
            "Completed Image ====> 63.imgbin-puma-adidas-logo-adidas-x6PK1geGQwQPkaxVL5j6qX8D3.jpg\n",
            "Completed Image ====> 64.adidas_logo-_self__as_design-01-01_2x.jpg\n",
            "Completed Image ====> 65.adidas-2-logo-png-transparent.png\n",
            "Completed Image ====> 66.a3f8a52c52bef44356698d16f5262759-adidas-logo-korn.jpg\n",
            "Completed Image ====> 67.s-l640.jpg\n",
            "Completed Image ====> 68.51Iw-Q-ul2L._SX385_.jpg\n",
            "Completed Image ====> 69.Cheap-Tank-Top-Dracarys-Dragon-Adidas-Logo-Game-Of-Thrones.jpg\n",
            "Completed Image ====> 70.131-1319394_file-cannabis-blue-adidas-originals-logo.png\n",
            "Completed Image ====> 71.38-382165_adidas-logo-png-free-adidas-shirt-roblox.png\n",
            "Invalid or missing image format. Skipping...\n",
            "Completed Image ====> 72.logo-Adidas.png\n",
            "Completed Image ====> 73.170-1705014_adidas-png-tumblr-adidas-logo-vector-png.png\n",
            "Completed Image ====> 74.adidas_classic_logo_3103.gif\n",
            "Completed Image ====> 75.Adidas-Logo-PNG-Photo.png\n",
            "Completed Image ====> 76.1.png\n",
            "Completed Image ====> 77.maxresdefault.jpg\n",
            "Completed Image ====> 78.108-1089108_adidas-adidas-skateboarding-logo.png\n",
            "Completed Image ====> 79.fortnite-battle-royale-x-adidas-logo-shirts.png\n",
            "Completed Image ====> 80.GjH9MOb.jpg\n",
            "Completed Image ====> 81.885-778s2.jpg\n",
            "Completed Image ====> 82.Adidas-Logo-PNG-Pic.png\n",
            "Completed Image ====> 83.adidas-logo-png-transparent-adidas-logo-images-290839.png\n",
            "Completed Image ====> 84.adidas-vector-2.jpg\n",
            "Completed Image ====> 85.t725.png\n",
            "Completed Image ====> 86.Adidas-Logo-Wallpaper-Black.jpg\n",
            "Completed Image ====> 87.f7d635a8d01c266d7f2fbed410040439.png\n",
            "Invalid or missing image format. Skipping...\n",
            "Completed Image ====> 88.wax4336-1.jpg\n",
            "Completed Image ====> 89.finish0.png\n",
            "Completed Image ====> 90.Adidas-Logo-PNG-Clipart.png\n",
            "Completed Image ====> 91.adidas-logo-on-shop-front-in-london-C71537.jpg\n",
            "Completed Image ====> 92.HD-Wallpaper-Adidas-Logo.jpg\n",
            "Completed Image ====> 93.0DMl4Bc.jpg\n",
            "Completed Image ====> 94.adidas-logo-t-shirt-long-sleeve-for-big-boys-in-grey-heather~p~717mc_01~1500.2.jpg\n",
            "Completed Image ====> 95.cover-loghi-adidas.png\n",
            "Completed Image ====> 96.adidas-hd-png-adidas-company-symbol-icon-shoes-sign-fitness-960.png\n",
            "Completed Image ====> 97.dh28661.jpg\n",
            "Completed Image ====> 98.adidas-logo-history-timeline.jpg\n",
            "Completed Image ====> 99.586px-Adidas_klassisches_logo.svg.png\n",
            "Completed Image ====> 100.wakanda-black-panther-and-adidas-logo-mashup-shirts.png\n",
            "Completed Image ====> 101.Adidas-Logo-1950.jpg\n",
            "Completed Image ====> 102.adidas_logo_concept_20190808_1782078946.png\n",
            "Completed Image ====> 103.5088_sticker-of-adidas-originals-logo-for-ur-photos.jpg\n",
            "URLError on an image...trying next one... Error: <urlopen error [SSL: CERTIFICATE_VERIFY_FAILED] certificate verify failed (_ssl.c:852)>\n",
            "Completed Image ====> 104.alpha-adidas-logos.png\n",
            "Completed Image ====> 105.Logo_Padded_Bomber_Jacket_White_BR7149_01_laydown.jpg\n",
            "Completed Image ====> 106.Adidas.jpg\n",
            "Completed Image ====> 107.adidas-logo-font.png\n",
            "Completed Image ====> 108.58173-logo-superstar-originals-adidas-shoe-free-download-image.png\n",
            "Completed Image ====> 109.tsv18051093_02.jpg\n",
            "Completed Image ====> 110.eo0x43og.jpg\n",
            "Completed Image ====> 111.0rckHoi.jpg\n",
            "Completed Image ====> 112.adidas_PNG11.png\n",
            "Completed Image ====> 113.maxresdefault.jpg\n",
            "Completed Image ====> 114.adidas-iron-on-wall-stickers-01.jpg\n",
            "Completed Image ====> 115.adidas-originals-desktop-wallpaper-logo-trefoil-adidas.jpg\n",
            "Completed Image ====> 116.Screen_Shot_2015-04-24_at_6.07.48_PM-original.png\n",
            "Completed Image ====> 117.382-3827096_simple-adidas-logo-png-transparent-background-of-the.png\n",
            "Completed Image ====> 118.large.jpg\n",
            "Completed Image ====> 119.adidas-5-logo-png-transparent.png\n",
            "Completed Image ====> 120.adidas-logo-png-9.jpg\n",
            "Completed Image ====> 121.Adidas-logo.jpg\n",
            "Invalid or missing image format. Skipping...\n",
            "Completed Image ====> 122.adidas-sports-brand.jpg\n",
            "Completed Image ====> 123.284-2846753_t-shirt-adidas-originals-cannabis-logo-adidas-originals-logo-weed.png\n",
            "Completed Image ====> 124.23h6kjojn9mz.jpg\n",
            "Invalid or missing image format. Skipping...\n",
            "Completed Image ====> 125.il_340x270.1917362933_oi5j.jpg\n",
            "Completed Image ====> 126.Adidas-Logo1.png\n",
            "Completed Image ====> 127.adidas-logo-text-png-25.png\n",
            "Completed Image ====> 128.upscale-240003817027212.png\n",
            "URLError on an image...trying next one... Error: HTTP Error 502: Bad Gateway\n",
            "Completed Image ====> 129.399689.jpg\n",
            "Completed Image ====> 130.s3-news-tmp-77017-untitled_design_17_10--2x1--940.png\n",
            "Completed Image ====> 131.tumblr_not99c6OzG1trlsmdo1_400.jpg\n",
            "Completed Image ====> 132.superthumb.jpg\n",
            "Completed Image ====> 133.adidas_dri.gif\n",
            "Completed Image ====> 134.imgbin-brand-shoe-sneakers-adidas-logo-adidas-1M6NsXn3HaUnaLq6z23G9TxDx.jpg\n",
            "Completed Image ====> 135.flat,1000x1000,075,f.jpg\n",
            "Completed Image ====> 136.18-183399_adidas-logo-png-pic-adidas-logo-png.png\n",
            "Completed Image ====> 137.main-qimg-0774c46129583a3f532b340cdc0fc407.webp\n",
            "Completed Image ====> 138.map_img_1276964_1550008875.jpg\n",
            "Completed Image ====> 139.Screen_Shot_2015-04-24_at_6.07.38_PM-original.png\n",
            "Completed Image ====> 140.adidas_wordmark_logo.jpg\n",
            "Completed Image ====> 141.adidas-logo-4AAFB9EC99-seeklogo.com.png\n",
            "Completed Image ====> 142.Wallpaper-Adidas-Logo-HD.jpg\n",
            "Completed Image ====> 143.wp2787230.jpg\n",
            "Completed Image ====> 144.adidas-8.svg\n",
            "Completed Image ====> 145.18-183498_adidas-logo-png-image-adidas-eqt-adult-white.png\n",
            "Completed Image ====> 146.207892.png\n",
            "Completed Image ====> 147.11228894-3x2-700x467.jpg\n",
            "Completed Image ====> 148.rick-owens-adidas-logo.jpg\n",
            "Completed Image ====> 149.adidas-logo-history.jpg\n",
            "Completed Image ====> 150.920x920.jpg\n",
            "Completed Image ====> 151.6efdd0e6517f76b093114836301d4ff1.png\n",
            "Completed Image ====> 152.adidas-logo-png-blue-fichieradidas-generic-whiteblue-kit-492100.png\n",
            "Completed Image ====> 153.415415b76ba9fdbbac.jpg\n",
            "Completed Image ====> 154.iphone-5s-red-adidas-logo-mobile-case_249128_1480946476_1.jpg\n",
            "Completed Image ====> 155.1-19571_rose-gold-adidas-logo.png\n",
            "Completed Image ====> 156.adidas1.gif\n",
            "Completed Image ====> 157.adidas.png\n",
            "Completed Image ====> 158.76640.jpg\n",
            "Completed Image ====> 159.Adidas-group-logo-vector-01.svg\n",
            "Completed Image ====> 160.adidas-logo-history%2B%25284%2529.jpg\n",
            "Completed Image ====> 161.depositphotos_189714822-stock-photo-merignac-france-june-2017-adidas.jpg\n",
            "Completed Image ====> 162.Logo_Beanie_Pink_BR2772_01_standard.jpg\n",
            "Completed Image ====> 163.kiev-ukraine-february-8-2017-260nw-576058687.jpg\n",
            "Completed Image ====> 164.0*UuVfEQUWWEO9rRSO.jpg\n",
            "Completed Image ====> 165.printed-t-shirt-adidas-originals-wallpaper-adidas.jpg\n",
            "Completed Image ====> 166.adidas-squarelogo-1499169651022.png\n",
            "Completed Image ====> 167.thumb2-adidas-glass-logo-blue-background-artwork-adidas-brands.jpg\n",
            "Completed Image ====> 168.adidas-logo-icon-F0XAJX.jpg\n",
            "Completed Image ====> 169.Adidas-Logo-PNG-File.png\n",
            "Completed Image ====> 170.superthumb.jpg\n",
            "Completed Image ====> 171.Adidas-Logo-2005.jpg\n",
            "Completed Image ====> 172.skynews-adidas-stripes_4697905.jpg\n",
            "Completed Image ====> 173.adidas-ba.png\n",
            "Completed Image ====> 174.adidas-trefoil-png-adidas-trefoil-icon-png-50-px-1600.png\n",
            "Completed Image ====> 175.Adidas_Logo_38_398x238.jpg\n",
            "Completed Image ====> 176.Historia-logo-Adidas.jpg\n",
            "Completed Image ====> 177.Adidas-logo-and-brand-transformations-story.jpeg\n",
            "Completed Image ====> 178.how-to-draw-the-adidas-logo-best-on-youtube.jpg\n",
            "Invalid or missing image format. Skipping...\n",
            "Completed Image ====> 179.006_Branded_in_Memory_Adidas_Mobile.png\n",
            "Completed Image ====> 180.12989332_14558471_600.jpg\n",
            "Completed Image ====> 181.6068.png\n",
            "Completed Image ====> 182.After-Effects-Adidas-Logo-Animation-Tutorial.jpg\n",
            "Completed Image ====> 183.adidas-brand-hdr.gif\n",
            "Invalid or missing image format. Skipping...\n",
            "Completed Image ====> 184.731962.svg\n",
            "Completed Image ====> 185.adidas-logo.gif\n",
            "Completed Image ====> 186.Very-RARE-Vintage-Adidas-Logo-sweatshirt-SZ-M-_1.jpg\n",
            "Completed Image ====> 187.Adidas-logo-paint-splatter-1292875.jpg\n",
            "Completed Image ====> 188.adidas.png\n",
            "Completed Image ====> 189.maxresdefault.jpg\n",
            "Completed Image ====> 190.adidas-logo-font1.jpg\n",
            "Completed Image ====> 191.adidas-logo-png-transparent-adidas-logo-images-492127.png\n",
            "Completed Image ====> 192.clipart-icon-adidas-logo-5.png\n",
            "Invalid or missing image format. Skipping...\n",
            "Completed Image ====> 193.red-yellow-adidas-logo-white-background-world-famous-brand-advertising-banners-moscow-128502916.jpg\n",
            "Completed Image ====> 194.adidas-originals-logo_55095.jpg\n",
            "Completed Image ====> 195.0bf22eb5dbe37f3291599f27ca486908.jpeg\n",
            "Completed Image ====> 196.depositphotos_19834705-stock-photo-adidas-logo.jpg\n",
            "Completed Image ====> 197.dassler-logo.jpg\n",
            "Completed Image ====> 198.adidas-3-sm.jpg\n",
            "Completed Image ====> 199.m-12943543.jpg\n",
            "Completed Image ====> 200.fortnite-battle-royale-x-adidas-logo-addicted-shirts-4.png\n",
            "Completed Image ====> 201.adidas-t-shirt-parody-titanic.jpg\n",
            "Completed Image ====> 202.adidas-logo-33.jpg\n",
            "Completed Image ====> 203.744657-beautiful-wallpaper-logo-adidas-2560x1600-samsung-galaxy.jpg\n",
            "Completed Image ====> 204.adidas-logo-png-images-30.png\n",
            "URLError on an image...trying next one... Error: <urlopen error [SSL: CERTIFICATE_VERIFY_FAILED] certificate verify failed (_ssl.c:852)>\n",
            "Completed Image ====> 205.Adidas-Logo-PNG-Free-Download.png\n",
            "Completed Image ====> 206.c3a7d044652013.582d5b2598842.jpg\n",
            "Completed Image ====> 207.Adidas-Logo-PNG-Picture.png\n",
            "Completed Image ====> 208.754060.jpg\n",
            "Completed Image ====> 209.76905472-hong-kong-circa-november-2016-adidas-sign-at-a-store-in-hong-kong-adidas-ag-is-a-german-multinationa.jpg\n",
            "Invalid or missing image format. Skipping...\n",
            "Completed Image ====> 210.logo-adidas-png.png\n",
            "Completed Image ====> 211.tumblr_oilrzx63fV1tixvyxo1_400.png\n",
            "Completed Image ====> 212.animated-adidas-logo_231042.jpg\n",
            "Completed Image ====> 213.adidas.png\n",
            "Completed Image ====> 214.adidas-logo-Favim.com-3248044.jpg\n",
            "Completed Image ====> 215.3-30306_transparent-background-adidas-logo-white-hd-png-download.png\n",
            "Completed Image ====> 216.large.jpg\n",
            "Completed Image ====> 217.adidas-logo-png-transparent-images-174965-6619729.png\n",
            "Completed Image ====> 218.adidas-behind-the-logo-feat.jpg\n",
            "Completed Image ====> 219.53-536515_adidas-shoes-clipart-adidas-logo-png.png\n",
            "Completed Image ====> 220.papers.co-am59-adidas-logo-green-sports-grass-art-1-wallpaper.jpg\n",
            "URLError on an image...trying next one... Error: <urlopen error [SSL: CERTIFICATE_VERIFY_FAILED] certificate verify failed (_ssl.c:852)>\n",
            "Completed Image ====> 221.18-183928_transparent-adidas-tumblr-adidas-logo-holographic.png\n",
            "Invalid or missing image format. Skipping...\n",
            "Completed Image ====> 222.adidas-logo-72A9F0170E-seeklogo.com.png\n",
            "Completed Image ====> 223.289203760027211.png\n",
            "Completed Image ====> 224.Adidas-logo-black-background_2560x1600.jpg\n",
            "Completed Image ====> 225.Adidas-Logos.jpg\n",
            "Invalid or missing image format. Skipping...\n",
            "Completed Image ====> 226.adidas-logo-png-290836.png\n",
            "Invalid or missing image format. Skipping...\n",
            "Completed Image ====> 227.613750-download-adidas-logo-wallpapers-1920x1080-for-mac.jpg\n",
            "Invalid or missing image format. Skipping...\n",
            "Completed Image ====> 228.776193-adidas-shoes-logo.jpeg\n",
            "Completed Image ====> 229.27075-DEFAULT-m.jpg\n",
            "Completed Image ====> 230.adidas-logo-as-an-app-icon-clipping-path-included-D77XPJ.jpg\n",
            "Invalid or missing image format. Skipping...\n",
            "Completed Image ====> 231.kuala-lumpur-december-23-adidas-260nw-175417661.jpg\n",
            "Completed Image ====> 232.adidas-logo-history%2B%25286%2529.jpg\n",
            "Completed Image ====> 233.rasta-adidas-logo-wallpaperadidas-logo-rasta-viewing-gallery-wjrdm0qm.jpg\n",
            "Completed Image ====> 234.adidas-Pharrell-Williams-logo-design-branding-4.jpg\n",
            "Invalid or missing image format. Skipping...\n",
            "Completed Image ====> 235.adidas-logo-wht-300x203.png\n",
            "Completed Image ====> 236.76534.jpg\n",
            "Completed Image ====> 237.Adidas-Logo-1967.jpg\n",
            "Completed Image ====> 238.Adidas-Logo-PNG-Picture.png\n",
            "Completed Image ====> 239.Adidas-Logo-3-Sticker__43109.1511161319.jpg\n",
            "Completed Image ====> 240.adidas-vector-10.jpg\n",
            "Completed Image ====> 241.adidas-logo-bianco-png-7.png\n",
            "Completed Image ====> 242.illustration-adidas-logo-flat-design-simple-illustration-adidas-logo-flat-design-isolated-white-130103087.jpg\n",
            "Completed Image ====> 243.giphy.gif\n",
            "Completed Image ====> 244.b2c75c1d16e312a2d2c98322f8ae959b.jpg\n",
            "Completed Image ====> 245.1-16848_adidas-white-logo-png-free-stock-adidas.png\n",
            "Completed Image ====> 246.adidas_PNG5.png\n",
            "Completed Image ====> 247.439614.jpg\n",
            "Completed Image ====> 248.hqdefault.jpg\n",
            "Completed Image ====> 249.ED7151%20(2).jpg\n",
            "Completed Image ====> 250.adidas-logo-from-memory.jpg\n",
            "Completed Image ====> 251.neon_adidas_logo.png\n",
            "Completed Image ====> 252.adidas-heritage-logo.png\n",
            "Completed Image ====> 253.adidas-originals-logo-adidas-superstar-shoe-adidas-thumb.jpg\n",
            "Completed Image ====> 254.famous-brand-logos-drawn-from-memory-33.jpg\n",
            "Completed Image ====> 255.nike-logo-png.png\n",
            "Completed Image ====> 256.753324-adidas-logo-wallpaper-2018-1920x1080-windows-7.jpg\n",
            "Completed Image ====> 257.adidas0112-original.jpg\n",
            "Completed Image ====> 258.adidas-drawing-30.jpg\n",
            "Completed Image ====> 259.89751fcd3efe3b42b6cdf456083c7662.jpeg\n",
            "Completed Image ====> 260.753906.jpg\n",
            "IOError on an image...trying next one... Error: The read operation timed out\n",
            "Completed Image ====> 261.adidas-cm0935_black__S19__01.jpg\n",
            "Completed Image ====> 262.316002_white-adidas-logo-png.png\n",
            "Completed Image ====> 263.Titanic-Adidas.png\n",
            "Completed Image ====> 264.wp2851781.jpg\n",
            "Completed Image ====> 265.13697527_17119369_480.jpg\n",
            "Completed Image ====> 266.adidas_logo_by_adrianquiroz-dbuh9qh.jpg\n",
            "Completed Image ====> 267.11cbad16482709.562ad91ba4f0e.png\n",
            "IOError on an image...trying next one... Error: The read operation timed out\n",
            "Completed Image ====> 268.Adidas-Logo-PNG-Transparent-Background.png\n",
            "Completed Image ====> 269.superthumb.jpg\n",
            "Completed Image ====> 270.logo-of-adidas-german-multinational-corporation-that-designs-and-manufactures-GK8DHA.jpg\n",
            "Invalid or missing image format. Skipping...\n",
            "Completed Image ====> 271.new-balance-sneakers-shoe-adidas-logo-new-balance-thumbnail.jpg\n",
            "Completed Image ====> 272.adidas-logo.jpg\n",
            "Completed Image ====> 273.adidas-logo-400DE4B77C-seeklogo.com.png\n",
            "Completed Image ====> 274.funny-t-shirt-for-drinking-or-partying.jpg\n",
            "Completed Image ====> 275.iphone.jpeg\n",
            "Completed Image ====> 276.adidas-logo-white-background-kiev-ukraine-november-printed-paper-placed-127207776.jpg\n",
            "Completed Image ====> 277.439620.png\n",
            "Completed Image ====> 278.adidas-logo-png-30.png\n",
            "Completed Image ====> 279.9ce193c2c4ad0ed95e3cda65e0226aba.png\n",
            "Completed Image ====> 280.running-fw19-bb-boost-ub19-launch-glp-m-teaser-large-2up-card1-d_tcm223-382937.jpg\n",
            "Completed Image ====> 281.62a3e15c-044e-40f9-9274-5dc3587a29cf.jpg\n",
            "Completed Image ====> 282.adidas_olympics_logo.jpg\n",
            "Completed Image ====> 283.93292457-milan-italy-august-10-2017-adidas-logo-on-the-website-homepage-.jpg\n",
            "Completed Image ====> 284.36bacc95ceb9bb10bab33194a7e13163.jpeg\n",
            "Completed Image ====> 285.754056.png\n",
            "Completed Image ====> 286.adidas-originals-nike-sneakers-swoosh-adidas-logo-thumb.jpg\n",
            "Completed Image ====> 287.imgbin-puma-adidas-logo-sneakers-clothing-adidas-WN8LLEmVPu0REtUngzuRX8nie_t.jpg\n",
            "Completed Image ====> 288.maxresdefault.jpg\n",
            "Completed Image ====> 289.753348-large-adidas-logo-wallpaper-2018-1920x1080-mac.jpg\n",
            "Completed Image ====> 290.P1ytli.jpg\n",
            "Invalid or missing image format. Skipping...\n",
            "Completed Image ====> 291.242de1ea-d265-4cd6-9c60-ca4766678aee.jpg\n",
            "Completed Image ====> 292.kiev-ukraine-february-15-2017-260nw-582225205.jpg\n",
            "Completed Image ====> 293.adidas-logo-icon-F0XAJW.jpg\n",
            "Completed Image ====> 294.adidas-originals-since-1949-logo-D2BC0809DF-seeklogo.com.png\n",
            "Completed Image ====> 295.Adilette_Comfort_Slides_Black_CG3425_01_standard.jpg\n",
            "Completed Image ====> 296.c237147af4fe9c87fc4302f521b4b349.jpeg\n",
            "Completed Image ====> 297.fc11d653c2d8740ea930bb2b1dd9e99c.png\n",
            "Completed Image ====> 298.18-183399_adidas-logo-png-pic-adidas-logo-png.png\n",
            "Completed Image ====> 299.kiev-ukraine-september-nike-reebok-adidas-logos-printed-paper-placed-white-background-nike-reebok-adidas-logos-125425668.jpg\n",
            "Completed Image ====> 300.adidas-originals-logo-adidas-yeezy-shoe-adidas-thumb.jpg\n",
            "Completed Image ====> 301.maxresdefault.jpg\n",
            "Completed Image ====> 302.adidas-logo-icon-EDN2C0.jpg\n",
            "Completed Image ====> 303.zagreb-croatia-19-february-2015-260nw-255969070.jpg\n",
            "Completed Image ====> 304.250b9e70816a649dbe38ba5616450605.jpg\n",
            "Completed Image ====> 305.753966.jpg\n",
            "Completed Image ====> 306.adidas-logo-cloth-brand-three-stripes-59506520.jpg\n",
            "Completed Image ====> 307.adidas-style-logo-266BDE3171-seeklogo.com.png\n",
            "Completed Image ====> 308.adidas-originals-logo-nike-sneakers-clover-icon-thumb.jpg\n",
            "Invalid or missing image format. Skipping...\n",
            "Completed Image ====> 309.1150627e6e6ffefc6a0d6730d0f49305.jpeg\n",
            "Completed Image ====> 310.hqdefault.jpg\n",
            "Completed Image ====> 311.cheboksary-russia-september-18-2019-adidas-logo-sign-in-shape-of-mountains-isolated-on-white-set-of-illustrations-with-caption-for-travel-or-sp-2A0MT14.jpg\n",
            "Completed Image ====> 312.kiev-ukraine-october-27-2017-260nw-746068786.jpg\n",
            "Completed Image ====> 313.753942.png\n",
            "Completed Image ====> 314.fcf26b4d9ccab4b9afce01deb1a270af.jpg\n",
            "Completed Image ====> 315.adidas-logo-C7C5F430DB-seeklogo.com.png\n",
            "Completed Image ====> 316.adidas-logo-adidas-logo-sneakers-sports-healthy-run-151620805.jpg\n",
            "Completed Image ====> 317.494bc344adf4249e268a8440dcc2dbc7.png\n",
            "Completed Image ====> 318.maxresdefault.jpg\n",
            "Completed Image ====> 319.adidas-logo-icon-F69WWN.jpg\n",
            "Completed Image ====> 320.moscow-russiaaugust-28-logo-world-260nw-475451530.jpg\n",
            "Completed Image ====> 321.logoadidas_670.jpg\n",
            "Completed Image ====> 322.logo-adidas-evolution.jpg\n",
            "Completed Image ====> 323.754001.png\n",
            "Invalid or missing image format. Skipping...\n",
            "Completed Image ====> 324.adidas-Originals-Trefoil-Heather-Grey-T-Shirt-_263881-back.jpg\n",
            "Completed Image ====> 325.b163a947843587296304c1936aa2545c.jpg\n",
            "Completed Image ====> 326.adidas-logo-410F8A2B3C-seeklogo.com.png\n",
            "Invalid or missing image format. Skipping...\n",
            "Completed Image ====> 327.bucharest-romania-july-23-2014-260nw-206812906.jpg\n",
            "Completed Image ====> 328.754042.png\n",
            "Completed Image ====> 329.snoop-dogg-logo-adidas-and-snoop-dogg-co-host-allstar-weekend-party-C0END0.jpg\n",
            "Completed Image ====> 330.1459879320da4080adb5411f089d108b.jpg\n",
            "Completed Image ====> 331.754168.png\n",
            "Invalid or missing image format. Skipping...\n",
            "Completed Image ====> 332.1.jpg\n",
            "Completed Image ====> 333.78e6f63efef3d63d0775a021dfad55c9.jpg\n",
            "Completed Image ====> 334.753971.jpg\n",
            "Completed Image ====> 335.537b97414ec06808de1d89eeee8d4f95.png\n",
            "Completed Image ====> 336.1.jpg\n",
            "Invalid or missing image format. Skipping...\n",
            "Completed Image ====> 337.753960.jpg\n",
            "Completed Image ====> 338.97ff9a87172da67292fa2d69e1ef656f--adidas-originals.jpg\n",
            "Completed Image ====> 339.e05259ce68c61610516fa6d52436f1e1--pic-pic-adidas-originals.jpg\n",
            "Completed Image ====> 340.0293821600ac965072bf86d48f31b675--logo-adidas-dov.jpg\n",
            "Completed Image ====> 341.1e8f67c68b36cad4dc584589d28ecd11.jpg\n",
            "Completed Image ====> 342.ec4c90e350fded08e611698ea0c27197--adidas.jpg\n",
            "Completed Image ====> 343.71df3e4444029c0468ee8d0090d7ae15--adidas-logo-tumblr-wallpaper.jpg\n",
            "Completed Image ====> 344.8afbde86516f0e6b6f3c16b16616e513--adidas-logo-hd-backgrounds.jpg\n",
            "Completed Image ====> 345.0d82538e0d461a42e39986dd783390f6--iphones-cases-adidas-logo.jpg\n",
            "\n",
            "\n",
            "Unfortunately all 500 could not be downloaded because some images were not downloadable. 345 is all we got for this search filter!\n",
            "\n",
            "Errors: 29\n",
            "\n",
            "\n",
            "Everything downloaded!\n",
            "Total errors: 29\n",
            "Total time taken: 194.35130548477173 Seconds\n"
          ],
          "name": "stdout"
        }
      ]
    },
    {
      "cell_type": "code",
      "metadata": {
        "id": "OHupvowR3Yyl",
        "colab_type": "code",
        "outputId": "e0e7ae40-15f3-493a-9868-cdcccd52787e",
        "colab": {
          "base_uri": "https://localhost:8080/",
          "height": 1000
        }
      },
      "source": [
        "!googleimagesdownload -o \"/content/drive/My Drive/data/nike\" --chromedriver '/usr/bin/chromedriver' -n -l 500 -si https://cdn.shopify.com/s/files/1/1431/4540/products/NIKE_Logo_AIR_Jordan_JumpMan_23_HUGE_Flight_Wall_Decal_Sticker_1024x1024.jpg?v=1526782062"
      ],
      "execution_count": 23,
      "outputs": [
        {
          "output_type": "stream",
          "text": [
            "\n",
            "Item no.: 1 --> Item name = 2019-10-13 09_10_01\n",
            "Evaluating...\n",
            "https://cdn.shopify.com/s/files/1/1431/4540/products/NIKE_Logo_AIR_Jordan_JumpMan_23_HUGE_Flight_Wall_Decal_Sticker_1024x1024.jpg?v=1526782062\n",
            "Getting you a lot of images. This may take a few moments...\n",
            "Reached end of Page.\n",
            "Starting Download...\n",
            "Completed Image ====> 1.nike-logo-47A65A59D5-seeklogo.com.png\n",
            "Completed Image ====> 2.Nike-logo-vector-01.svg\n",
            "Completed Image ====> 3.nike-logo-vector-download.jpg\n",
            "Completed Image ====> 4.Nike-symbol-vector.png\n",
            "Completed Image ====> 5.nike-logo-5C7A059F94-seeklogo.com.png\n",
            "Completed Image ====> 6.d5c72cb18497d1ea65f29f0857a8c760.png\n",
            "Completed Image ====> 7.Nike_logo_emblem_logotype.png\n",
            "Completed Image ====> 8.kiev-ukraine-march-31-2015-260nw-275940803.jpg\n",
            "Completed Image ====> 9.nike-logo-png-2-use-curves-3275.jpg\n",
            "Completed Image ====> 10.Nike-Logo.png\n",
            "Completed Image ====> 11.c8f82b33c12459576eb1e892c16745b3.png\n",
            "Completed Image ====> 12.nike-logo-97641CDCFC-seeklogo.com.png\n",
            "Completed Image ====> 13.42-425964_vector-nike-logo-svg.png\n",
            "Completed Image ====> 14.nike-logo-icon-or-symbol-element-isolated-vector-25499593.jpg\n",
            "Completed Image ====> 15.nike-eps-vector-logo.png\n",
            "Completed Image ====> 16.nike-just-do-it-logo-vector.png\n",
            "Completed Image ====> 17.nike-air-logo-og-inspired-vector-art-svg.jpg\n",
            "Completed Image ====> 18.Nike_Golf-logo-303612D068-seeklogo.com.png\n",
            "Completed Image ====> 19.nike-classic-vector-logo-200x200.png\n",
            "Completed Image ====> 20.Nike_logo_oval.svg\n",
            "Completed Image ====> 21.Nike-Logos.jpg\n",
            "Completed Image ====> 22.btibwonike-logo-vector-free-download-cloudinvitationcom-nike-logo.jpg\n",
            "Completed Image ====> 23.Adidas-Originals-logo-vector-01.svg\n",
            "Completed Image ====> 24.nike-air-flight-vector-logo.png\n",
            "Completed Image ====> 25.Nike-Logo-Design-Vector.jpeg\n",
            "Completed Image ====> 26.imgbin-nike-logo-3JaRk5KXdwh9hMruSQNvrtScF.jpg\n",
            "Completed Image ====> 27.nike-logo-replication.jpg\n",
            "Completed Image ====> 28.nike-2-logo-png-transparent.png\n",
            "Completed Image ====> 29.Nike_SB-logo-3C9A0CA103-seeklogo.com.png\n",
            "Completed Image ====> 30.nike-6-0-logo-vector.jpg\n",
            "Invalid or missing image format. Skipping...\n",
            "Completed Image ====> 31.nike,.jpg\n",
            "Completed Image ====> 32.Photomanip-Nike-Logo-For-Free.jpg\n",
            "Completed Image ====> 33.nike-vector-17.jpg\n",
            "Completed Image ====> 34.15-155415_big-image-nike-logo-vector-hd-clipart.png\n",
            "Completed Image ====> 35.nike-vector-logo-best-of-uconn-logos.jpg\n",
            "Completed Image ====> 36.0f547851bbefdbb4dfef2f4031058270.jpg\n",
            "Completed Image ====> 37.nike-logo-png-transparent-13.jpg\n",
            "Completed Image ====> 38.40-408837_never-stop-nike-logo-decoration-png-and-vector.png\n",
            "Completed Image ====> 39.adidas_27575.jpg\n",
            "Completed Image ====> 40.nike-football-logo-vector.png\n",
            "Completed Image ====> 41.nike-vector-23.jpg\n",
            "Completed Image ====> 42.nike-logo-vector-png-transparent-178011.png\n",
            "Completed Image ====> 43.nike-logo-png-png-file-name-nike-logo-2133.png\n",
            "Completed Image ====> 44.nike-golf-black-vector-logo-200x200.png\n",
            "Completed Image ====> 45.Nike_logo_ball.svg\n",
            "Completed Image ====> 46.252f340c09ea384c9a0c3871d3412482.jpeg\n",
            "Completed Image ====> 47.1QqeeuwvmuupmBpwyUkWqSFMZGhOI5k7U1BsuGgHmlk=nike-logo-white.jpg\n",
            "Completed Image ====> 48.20418_download-1920x1080-nike-logo-vector-wallpapers_1920x1080_h.jpg\n",
            "Completed Image ====> 49.nike-acg.svg\n",
            "Completed Image ====> 50.nike-logos-vector-178013.png\n",
            "URLError on an image...trying next one... Error: HTTP Error 404: File Not Found\n",
            "Completed Image ====> 51.image-260nw-490360102.jpg\n",
            "Completed Image ====> 52.png-jumpman-logo-air-jordan-nike-vector-graphics-jorda.jpg\n",
            "Completed Image ====> 53.15-155415_big-image-nike-logo-vector-hd-clipart.png\n",
            "Completed Image ====> 54.86-865221_nike-golf-wet-weather-gear-nike-golf-logo-vector.png\n",
            "Completed Image ====> 55.ebay-png-logo-vector-free-download.jpg\n",
            "Completed Image ====> 56.Nike-the-Lollipop-Logo-Fro-Free-Download.jpg\n",
            "Completed Image ====> 57.471-4713903_ykle-logo-nike-dan-pirelli-logo-nike-dan.png\n",
            "Completed Image ====> 58.nike-clothing-vector-logo.png\n",
            "Completed Image ====> 59.Nike-Inspired-Logo.jpg\n",
            "Completed Image ====> 60.nike-logo-silhouette-5.jpg\n",
            "Completed Image ====> 61.nike-logo-coloring-pages-awesome-logo-vector-and-many-styles-logo-coloring-pages-fresh-logo-coloring-pages-just-home-improvement-stores-uk.jpg\n",
            "Completed Image ====> 62.kiev-ukraine-march-13-2017-260nw-599863805.jpg\n",
            "Completed Image ====> 63.nike-5on5-vector-logo-200x200.png\n",
            "Completed Image ====> 64.Nike-Logos-Vector.jpg\n",
            "Completed Image ====> 65.editorial-photo-collection-popular-manufactures-sports-shoes-logos-kiev-ukraine-september-printed-paper-nike-adidas-image.jpg\n",
            "Completed Image ====> 66.1df3cafe6ced0a81355db405ed4b47ea.png\n",
            "Completed Image ====> 67.427-4278267_nike-logo-png-transparent-images-nike-logo-vector.png\n",
            "Completed Image ====> 68.nike-plus-vector-logo.png\n",
            "Completed Image ====> 69.puma_logo2_30333.jpg\n",
            "Completed Image ====> 70.Vector-Serigrafia-Nike-logo-new-different-designs.jpg\n",
            "Completed Image ====> 71.il_340x270.1937001338_4riv.jpg\n",
            "Completed Image ====> 72.free_download_nike_logo_lite_nike_name_freehdlogos_6.jpg\n",
            "Completed Image ====> 73.il_340x270.1975954661_fzfd.jpg\n",
            "Completed Image ====> 74.nike-football-1.svg\n",
            "Completed Image ====> 75.nike-sb-vector-logo-400x400.png\n",
            "Completed Image ====> 76.imgbin-swoosh-nike-logo-just-do-it-nike-DHb3HzejMyPUj1BL8ZsnLiqrt.jpg\n",
            "Completed Image ====> 77.nike-logo-silhouette-1.jpg\n",
            "Completed Image ====> 78.nasa-logo-vector-art-hd-wallpaper.jpg\n",
            "Completed Image ====> 79.nike-logo-clipart-psd-212334-8770540.jpg\n",
            "Invalid or missing image format. Skipping...\n",
            "Completed Image ====> 80.39-398504_nike-logo-png-nike-logo-png-white.png\n",
            "Completed Image ====> 81.59-595266_nike-logo-vector-nike-total-90-logo-hd.png\n",
            "Completed Image ====> 82.Nike_logo_simvol.svg\n",
            "Completed Image ====> 83.nike-logo-drawing-nike-launch-release-dates-launch-calendar-178097.png\n",
            "Completed Image ====> 84.nike-golf-logo-vector-43626-400x400.png\n",
            "Invalid or missing image format. Skipping...\n",
            "Completed Image ====> 85.nike-logo-vector-467667.png\n",
            "Completed Image ====> 86.png-air-force-nike-off-white-shoe-adidas-vector-back.jpg\n",
            "Completed Image ====> 87.60-609894_trends-for-nike-logo-vector-free-download-shoes.png\n",
            "Completed Image ====> 88.219-2193272_nike-logo-clipart-roblox-logo-under-armour-vector.png\n",
            "Completed Image ====> 89.NIKE-Logo-free-Download.jpeg\n",
            "Completed Image ====> 90.img_nike_320x240_3.jpg\n",
            "Completed Image ====> 91.20418_download-1920x1080-nike-logo-vector-wallpapers_1920x1080_h.jpg\n",
            "Completed Image ====> 92.nike-logo-eps-luxury-nike-powerpoint-template-image-collections-templates-example.jpg\n",
            "Completed Image ====> 93.nike-vector-logo-inspirational-ball-logos.jpg\n",
            "Completed Image ====> 94.76b0300353d33ae00b7797e33364aea9.jpg\n",
            "Completed Image ====> 95.Nike-logo-image.jpg\n",
            "Completed Image ====> 96.39-398711_nike-logo-just-do-it-coloring-pages-nike.png\n",
            "Completed Image ====> 97.nike-logo-vector-png-5.png\n",
            "Completed Image ====> 98.il_570xN.1845529346_mugp.jpg\n",
            "Completed Image ====> 99.nike-vector-14.png\n",
            "Completed Image ====> 100.10-Anos-Logo-Vector-226x226.png\n",
            "Completed Image ====> 101.nike-golf-3.svg\n",
            "Completed Image ====> 102.nike-logo-clipart-vector-file-212313-8745744.png\n",
            "Completed Image ====> 103.57-573365_white-nike-logo-vector.png\n",
            "Completed Image ====> 104.no-fear-inc-vector-logo-400x400.png\n",
            "Completed Image ====> 105.nike-swoosh-vector-2.png\n",
            "Completed Image ====> 106.59-594800_n7-nike-logo-nike-n7-logo-hd-png.png\n",
            "Completed Image ====> 107.head-lion-king-logo-new-260nw-1447265570.jpg\n",
            "Completed Image ====> 108.41rXa5%2B6TCL._SX385_.jpg\n",
            "Completed Image ====> 109.Free-Nike-Peregrine-Falcon-Swoosh-Logo.jpg\n",
            "Completed Image ====> 110.photoclose-up-of-waving-flag-with-nike-logo-united-states-swoosh.jpg\n",
            "Completed Image ====> 111.nike-air.png\n",
            "Completed Image ====> 112.242-2420858_nike-vector-new-nike-logo-2019.png\n",
            "Completed Image ====> 113.70c88b24879653.563419f8f1366.jpg\n",
            "Completed Image ====> 114.l2871-nike-team-logo-78787.png\n",
            "Completed Image ====> 115.WANdsSc.jpg\n",
            "Completed Image ====> 116.111-1114004_nike-logo-clipart-vector-weapon-png-download.png\n",
            "Completed Image ====> 117.kisspng-swoosh-nike-logo-just-do-it-5aeb9066332256.0311136715253873662095.jpg\n",
            "Completed Image ====> 118.nike-logo-silhouette-11.jpg\n",
            "Completed Image ====> 119.Blue-Ribbon-Sports-Logo-1964.svg\n",
            "Completed Image ====> 120.nike_1971.png\n",
            "Completed Image ====> 121.nike-logo-png-transparent-6.jpg\n",
            "Completed Image ====> 122.thumb-ebay-png-logo-vector-free-download.jpg\n",
            "Completed Image ====> 123.415-4156168_white-nike-logo-vector-hd-png-download.png\n",
            "Completed Image ====> 124.nike-factory-store.svg\n",
            "Completed Image ====> 125.8146d7ae2734685b342fbdc026ce4c08.jpg\n",
            "Completed Image ====> 126.adidas_old_27577.jpg\n",
            "Completed Image ====> 127.4479551.jpg\n",
            "Completed Image ====> 128.imgbin-jumpman-air-jordan-chicago-bulls-nike-logo-nike-xYWWRrkm3RM8dT4Az9y2cxYji_t.jpg\n",
            "Completed Image ====> 129.nike-vector-logo-best-of-ball-logos.jpg\n",
            "Completed Image ====> 130.il_340x270.1947886084_rcji.jpg\n",
            "Completed Image ====> 131.nike-logo-eps-new-adidas-clipart-transparent-pencil-and-in-color-adidas-clipart.jpg\n",
            "Completed Image ====> 132.6-61148_nike-logo-vector-nike-air-flight-vector-logo.png\n",
            "Completed Image ====> 133.nike-logo-silhouette-9.jpg\n",
            "Completed Image ====> 134.nike-logo-vector.png\n",
            "Completed Image ====> 135.hjbrmogolf-simple-golf-ball-golf-tee-tee-vector.jpg\n",
            "Completed Image ====> 136.nike-logo-177970.png\n",
            "Completed Image ====> 137.87-874464_twitter-nike-logo-vector-white.png\n",
            "Completed Image ====> 138.d07e82207fab6e43ddb8bf5382277aec.jpeg\n",
            "Completed Image ====> 139.nike-logo-clipart-vector-format-212312-4188531.jpg\n",
            "Completed Image ====> 140.nike-logo-vector_104657.jpg\n",
            "Completed Image ====> 141.1354786931964475544Nike_logo.svg\n",
            "Completed Image ====> 142.basketball-logo-vector-15.png\n",
            "Completed Image ====> 143.Scott-logo-vector-01.svg\n",
            "Completed Image ====> 144.5584917_thumb.png\n",
            "Completed Image ====> 145.Nike_Quest.png\n",
            "Completed Image ====> 146.10-e-Lotto-Logo-Vector-226x226.png\n",
            "Completed Image ====> 147.Nike-Logo-new.jpg\n",
            "Completed Image ====> 148.x6fukfhobeox2g5nrbzf.jpg\n",
            "Completed Image ====> 149.nike-airmax-tee.png\n",
            "Completed Image ====> 150.nike_logo_reworked.png\n",
            "Completed Image ====> 151.thumb-nike-vector-logo-best-of-uconn-logos.jpg\n",
            "Completed Image ====> 152.10-logo-design-tips-1120-nike.jpg\n",
            "Completed Image ====> 153.nike-air-max-vector.jpg\n",
            "Completed Image ====> 154.png-air-force-nike-off-white-shoe-adidas-vector-back.jpg\n",
            "URLError on an image...trying next one... Error: <urlopen error unknown url type: x-raw-image>\n",
            "Completed Image ====> 155.nike-logo-clipart-vector-file-212313-8720835.svg\n",
            "Completed Image ====> 156.il_340x270.1920348137_jh2a.jpg\n",
            "Completed Image ====> 157.nike-logo-coloring-pages-fresh-logo-vector-for-symbol-coloring-pages-lovely-logo-coloring-pages-just-do-it-coloring-home-improvement-contractors-ny.jpg\n",
            "Completed Image ====> 158.free-download-of-nike-vector-logos-177959.png\n",
            "Completed Image ====> 159.57-573343_nike-logo-transparent-logo-nike-putih-png.png\n",
            "Completed Image ====> 160.brands-of-the-world-vectors-download-free-vector-art-nike-logo-vector-brands-of-the-world.jpg\n",
            "Completed Image ====> 161.l32704-umbro-logo-5151.jpg\n",
            "Completed Image ====> 162.red-nike-logo.svg\n",
            "Completed Image ====> 163.nike-air-presto-qs-turbo-green-court-purple-886043-300-nike-air-green-nike-clipart-320_175.png\n",
            "Completed Image ====> 164.312-3129852_nike-logos-vector-eps-ai-cdr-svg-free.png\n",
            "Completed Image ====> 165.5507797_thumb.png\n",
            "Completed Image ====> 166.air-jordan-logo-vector-7094.png\n",
            "Invalid or missing image format. Skipping...\n",
            "Completed Image ====> 167.4860519169130496.jpg\n",
            "Completed Image ====> 168.img_nike_320x240_1.jpg\n",
            "Completed Image ====> 169.nike-logo-png-33.png\n",
            "Completed Image ====> 170.nike-sportwear-logo-vintage.jpg\n",
            "Completed Image ====> 171.nike-logo-vector-4-300x200.jpg\n",
            "Completed Image ====> 172.adidas-hoodie-brand-shoe-sneakers-adidas-thumb.jpg\n",
            "Completed Image ====> 173.track-and-field-nike-com-avec-nike-tf-desktop-wallpaper-et-image-logo-nike-swag-xpx-image-logo-nike-swag.jpg\n",
            "Completed Image ====> 174.nike-logo-clipart-niike-261658-1585952.svg\n",
            "Completed Image ====> 175.nike-logo-png-transparent-images-clipart-icons-pngriver-download-free-1280px-Logo_of_NikeiPod.svg_.png\n",
            "Completed Image ====> 176.visa-logo-vector-37.png\n",
            "Completed Image ====> 177.nike-logo-vector-png-6.png\n",
            "Completed Image ====> 178.mwqUT5k.jpg\n",
            "Completed Image ====> 179.415-4156168_white-nike-logo-vector-hd-png-download.png\n",
            "Completed Image ====> 180.nike-logo-vector-2.jpg\n",
            "Completed Image ====> 181.adidas_logo_vector_hd_mobile_wallpaper.jpg\n",
            "Completed Image ====> 182.491-4919844_black-friday-jd-sports-transparent-yellow-nike-logo.png\n",
            "Completed Image ====> 183.fAMqRQ5Nv3ukmMC2lDZcB6Bc0NsJezKCHPF0L1nkRqs=nike-logo-png-transparent-amp-svg.jpg\n",
            "Completed Image ====> 184.thumb-blue-nike-logo-vector.jpg\n",
            "Completed Image ====> 185.nike-logo-ideas.png\n",
            "Completed Image ====> 186.nike-logo-vector.jpg\n",
            "Completed Image ====> 187.87-874464_twitter-nike-logo-vector-white.png\n",
            "Completed Image ====> 188.213761.jpg\n",
            "Completed Image ====> 189.VECTOR_5.jpg\n",
            "Completed Image ====> 190.nike-football.svg\n",
            "Completed Image ====> 191.bettys-logo-preview-400x400.png\n",
            "Completed Image ====> 192.il_570xN.1960949255_jpiw.jpg\n",
            "Completed Image ====> 193.nike-logo-vector-png-5-300x200.png\n",
            "Completed Image ====> 194.108-1081579_jordan-air-transparent-clipart-free-download-ya-webdesign.png\n",
            "Completed Image ====> 195.Nike_Air_Max_pssrxv.jpg\n",
            "Completed Image ====> 196.stock-vector-nike-air-jordan-vector-drawn-sport-shoes-sneakers-for-summer-vector-stock-illustration-sport-724038355.jpg\n",
            "Completed Image ====> 197.NIKE_TEAM_Mobile.8aa0f8a3.svg\n",
            "Completed Image ====> 198.51-eZPZ3kwL._SX425_.jpg\n",
            "Completed Image ====> 199.thumb-abstract-human-figure-swoosh-healthy-symbol-logo-vector.jpg\n",
            "Completed Image ====> 200.43c1bbf4aaa9cd9d02e7685c7b0fcde1.jpg\n",
            "Completed Image ====> 201.red-nike-logo-png-4.png\n",
            "Completed Image ====> 202.nike-logo-clipart-vector-file-212313-649142.jpg\n",
            "Completed Image ====> 203.1280px-ConverseLogo.svg.png\n",
            "Completed Image ====> 204.nike-png-images-transparent-free-download-177827.png\n",
            "Completed Image ====> 205.eagle_3d_vector_logo_vector_art_vector_logo_eagle_gradient_vector_drawing_6818707.jpg\n",
            "Completed Image ====> 206.65394.png\n",
            "Completed Image ====> 207.12ee25e7c89eab50dafceb221b8c86dc.jpeg\n",
            "Completed Image ====> 208.1200px-Converse_logo.svg.png\n",
            "Completed Image ====> 209.312-3129852_nike-logos-vector-eps-ai-cdr-svg-free.png\n",
            "Completed Image ====> 210.puma-logo-vector-200x200.jpg\n",
            "Completed Image ====> 211.6d913580ea488736fc1d69ab35ac20b5_highsnobiety-youtube_900-900.jpeg\n",
            "Completed Image ====> 212.Nike-Logo-Vector-Brands-Of-The-WorldAA2261-101-World-Cup-Theme-FSR-Football-World-Cup-Theme-NikeCraft-Mars-Yar-Astronaut-Shenyo.jpg\n",
            "Completed Image ====> 213.Nike-Just-Do-It-Comissioned-Artwork-Logo.jpg\n",
            "URLError on an image...trying next one... Error: <urlopen error timed out>\n",
            "Completed Image ====> 214.321868.jpg\n",
            "Completed Image ====> 215.nike-logo-clip-art-177934.png\n",
            "Completed Image ====> 216.btibxhnike-logo-png-file-gold-nike-swoosh-logo.jpg\n",
            "Completed Image ====> 217.google-st-ho1.png\n",
            "Completed Image ====> 218.alc1iy7gjbar0qgvmwnx.jpg\n",
            "Completed Image ====> 219.98848_csk-logo-png.png\n",
            "Completed Image ====> 220.nike-eps-air-logo-vector-just-do-it-download.jpg\n",
            "Completed Image ====> 221.471-4713903_ykle-logo-nike-dan-pirelli-logo-nike-dan.png\n",
            "Completed Image ====> 222.450-4506292_nike-logo-png-pics-logo-de-nike-en.png\n",
            "Completed Image ====> 223.nike-logo-shoes-black-white-people-foot-sneakers-nike-logo-151620804.jpg\n",
            "Completed Image ====> 224.ANd9GcTrDgeEa_TL8oh__RTLoXIt4-q2NkNHrSlo7h6OAoXtkMfdGfkU.jpg\n",
            "Completed Image ====> 225.nike-shox.svg\n",
            "Completed Image ====> 226.nike-logo-eps-new-top-logo-nike-items-daxushequ.jpg\n",
            "Completed Image ====> 227.P+J1YrbYTMeFjNkzYViK8BWvghF5ivpYG1LgCzvgxzo=megapost-escudos-y-logos-para.jpg\n",
            "URLError on an image...trying next one... Error: HTTP Error 404: Not Found\n",
            "Completed Image ====> 228.stock-vector-nike-cortez-without-logo-sport-wear-for-men-and-women-flat-design-vector-illustration-727153738.jpg\n",
            "Completed Image ====> 229.Qf73NEh.jpg\n",
            "URLError on an image...trying next one... Error: <urlopen error timed out>\n",
            "Completed Image ====> 230.nike-logo-powerpoint-ppt-template.png\n",
            "Completed Image ====> 231.5e9db640fbce9839cef0402bda6d2b86_nike-swoosh-logo-vector-free-vector-silhouette-graphics-ai-eps-_1200-1200.gif\n",
            "Completed Image ====> 232.hipster-transparent-good-vibes-1.png\n",
            "Completed Image ====> 233.Nike-PS-928717-Black-S__3.JPG\n",
            "Completed Image ====> 234.399890_nike-check-png.png\n",
            "Completed Image ====> 235.nike-swoosh-final-tee-white.jpg\n",
            "Completed Image ====> 236.imgbin-t-shirt-swoosh-nike-free-logo-nike-logo-SstdYzzfVE1E0eMszK6ej2QSU_t.jpg\n",
            "Completed Image ====> 237.dribbble_kaws.jpg\n",
            "Completed Image ====> 238.thumb-nike-svg-nike-logo-just-do-it-logo-nike.jpg\n",
            "Completed Image ====> 239.60-609345_found-the-japanese-nike-logo-naruto-vaporwave.png\n",
            "Completed Image ====> 240.thumb-clip-art-nike-swoosh-vector-images-jbqzbfj-swoosh-clipart.jpg\n",
            "Completed Image ====> 241.108-1081579_jordan-air-transparent-clipart-free-download-ya-webdesign.png\n",
            "Completed Image ====> 242.nike.svg\n",
            "Completed Image ====> 243.nike-logo-silhouette-25.jpg\n",
            "Completed Image ====> 244.nike-swoosh-60.jpg\n",
            "Completed Image ====> 245.thumb-billabong-design-part-logo-vector-format-cdr-ai-png.jpg\n",
            "Completed Image ====> 246.213756.jpg\n",
            "Completed Image ====> 247.photostock-vector-c-letter-swoosh-logo-vector-illustration.jpg\n",
            "Completed Image ====> 248.mini-logo.svg\n",
            "Completed Image ====> 249.silhouette-logos-25.jpg\n",
            "Completed Image ====> 250.162-1627308_nike-clipart-svg-nike-just-do-it-black.png\n",
            "URLError on an image...trying next one... Error: HTTP Error 404: File Not Found\n",
            "Completed Image ====> 251.nike-logo-clipart-vector-file-212313-8952858.svg\n",
            "Completed Image ====> 252.tn_1.d19713a0.svg\n",
            "Completed Image ====> 253.clients-bw-nike.svg\n",
            "Completed Image ====> 254.qTFKakA-red-nike-logo-vector.svg\n",
            "Completed Image ====> 255.cartoon-clip-art-fine-shoes-thumb.jpg\n",
            "Completed Image ====> 256.nike-case-study-2-728.jpg\n",
            "Completed Image ====> 257.ACG.gif\n",
            "Completed Image ====> 258.Fascinating-Free-Nike-SB-Logo-For-You.jpg\n",
            "Completed Image ====> 259.audi-logo-vector-lineart.png\n",
            "Completed Image ====> 260.SC_Logo_TM_Blue_20190506-01_eeopog.svg\n",
            "Completed Image ====> 261.nike-logo-vector-5.jpg\n",
            "Completed Image ====> 262.nike_deportes.png\n",
            "Completed Image ====> 263.2cd43b_80b9a7816b35473ba9a58df70c81291b~mv2.png\n",
            "Completed Image ====> 264.nike-logo-png-photos-177972.png\n",
            "Completed Image ====> 265.88f9dd28c6384908c2bb2ec87e97a3f3.jpeg\n",
            "Completed Image ====> 266.zagreb-croatia-19-february-2015-260nw-255969124.jpg\n",
            "Completed Image ====> 267.nike_logo-3d-model-41944-865555.jpeg\n",
            "Completed Image ====> 268.FCCompass_close-x_ruwqtw.svg\n",
            "Completed Image ====> 269.qd52mPV.gif\n",
            "Completed Image ====> 270.5585185-nike-football-club-2018-crest-logo-vector-ai-free-download-nike-football-logos-300_300_preview.png\n",
            "Completed Image ====> 271.56-562120_nike-logo-png-logo-nike-white-png-3.png\n",
            "Completed Image ====> 272.Nike_Swoosh_Logo_Orange_7367.jpg\n",
            "Completed Image ====> 273.stock-vector-vector-collection-of-cool-sneakers-vans-air-jordan-and-converse-1396046636.jpg\n",
            "Completed Image ====> 274.thumb-nike-national-football-federation-kits.jpg\n",
            "Completed Image ====> 275.wp2660568.jpg\n",
            "Completed Image ====> 276.il_340x270.1873494637_de5g.jpg\n",
            "Completed Image ====> 277.drawing-japan-nike.png\n",
            "URLError on an image...trying next one... Error: HTTP Error 404: Not Found\n",
            "Completed Image ====> 278.111-1114220_nike-logo-clipart-neon-vector-graphics-png-download.png\n",
            "Completed Image ====> 279.80b24f93e29d0a6636dc6d3d17622407.jpg\n",
            "Completed Image ====> 280.adidas-logos-vector-eps-ai-cdr-svg-free-download-adidas-logo-logo-300x170.png\n",
            "Completed Image ====> 281.127365_nike-swoosh-png.jpg\n",
            "Completed Image ====> 282.red-s-company-logo-best-of-ks-initial-pany-red-swoosh-logo-stock-vector.jpg\n",
            "Completed Image ====> 283.23990_toyota-logo-png.jpg\n",
            "Completed Image ====> 284.thumb-png-jumpman-clip-art-air-jordan-vector-graphics-logo-b.jpg\n",
            "Completed Image ====> 285.chicken-logo-vector-14.png\n",
            "Completed Image ====> 286.nike-futura-snapback-cap.jpg\n",
            "Completed Image ====> 287.letter-a-logo-abstract-element-arrows-blue-letter-a-logo-icon-business-marketing-element-symbol-vector-design-image.jpg\n",
            "Completed Image ====> 288.ngee-ann-poly-png-5-300x200.png\n",
            "Completed Image ====> 289.6K9B9t7v8KWvRhE+Xb8MCwENJkU3YQdE5AtjkgqN5Do=nike-sb-logo-wallpaper-wallpapersafari.jpg\n",
            "Completed Image ====> 290.ICON-FEATURE_scalability.svg\n",
            "Completed Image ====> 291.full_size.jpg\n",
            "Completed Image ====> 292.trend-download-hd-nike-swoosh-nike-logo-png-transparent-png-image-combination_6991.png\n",
            "Completed Image ====> 293.preview-nike-logo-NDQyMQ==.jpg\n",
            "Completed Image ====> 294.thumb-jordan-logo-vector-unique-jordan-flight-logos.jpg\n",
            "Completed Image ====> 295.nike-7.svg\n",
            "Completed Image ====> 296.chang-logo-vector-400x400.png\n",
            "Completed Image ====> 297.utah-jazz-logo.png\n",
            "Invalid or missing image format. Skipping...\n",
            "Completed Image ====> 298.FeetFirstLogo_Vector_1200x1200.png\n",
            "Completed Image ====> 299.nike-logo-clipart-air-max-nike-212408-1123380.png\n",
            "Completed Image ====> 300.nike-swoosh-vector-swoosh-clipart-nike.jpg\n",
            "Completed Image ====> 301.nike-clipart-2.jpg\n",
            "Completed Image ====> 302.harley-davidson-owners-group-skull-logo-vector-patch-sticker-badge.png\n",
            "Completed Image ====> 303.320.svg\n",
            "Completed Image ====> 304.stock-vector-nike-air-jordan-sneaker-trainer-flat-design-vector-illustration-695555545.jpg\n",
            "Completed Image ====> 305.Fantastic-Free-Nike-Logo-For-You.jpg\n",
            "IOError on an image...trying next one... Error: The read operation timed out\n",
            "Completed Image ====> 306.b3c7968208cb35662ce6ec76a63caf93.jpeg\n",
            "Completed Image ====> 307.nike-air-force-1.jpg\n",
            "Completed Image ====> 308.nike-total-90-aerow-vector-logo.png\n",
            "Completed Image ====> 309.21_thumb.webp\n",
            "Completed Image ====> 310.4054257288_c284d07d4c_o.jpg\n",
            "Completed Image ====> 311.sneakers-nike-blue-shoe-blue-nike-shoes-thumb.jpg\n",
            "Completed Image ====> 312.il_340x270.1873501137_55bl.jpg\n",
            "Completed Image ====> 313.coheed-and-cambria-logo-vector-1.gif\n",
            "URLError on an image...trying next one... Error: <urlopen error timed out>\n",
            "Completed Image ====> 314.kisspng-nike-hypervenom-logo-football-boot-5afd7800d83943.7940504915265607688857.jpg\n",
            "Completed Image ====> 315.th1_150910.jpg\n",
            "Completed Image ====> 316.white-nike-logo-lineart-12.jpg\n",
            "Completed Image ====> 317.manny-pacquiao-logo_246488.jpg\n",
            "IOError on an image...trying next one... Error: The read operation timed out\n",
            "Completed Image ====> 318.dcc1625a409b7690f36b774350fc20e5.png\n",
            "Completed Image ====> 319.brand.svg\n",
            "Completed Image ====> 320.GlendaleGalleria_Black-01.svg\n",
            "Completed Image ====> 321.narcos-logo-svg-vector.svg\n",
            "Completed Image ====> 322.vw4RlBg.jpg\n",
            "Completed Image ====> 323.logo.svg\n",
            "Completed Image ====> 324.thumb-cw-c-w-letter-logo-design.jpg\n",
            "Completed Image ====> 325.nike-logo-vector-png-5.png\n",
            "Completed Image ====> 326.thumb-png-nike-swoosh-encapsulated-postscript-vector-graphic.jpg\n",
            "Completed Image ====> 327.free-brand-logos-vector-logo-brands-300x170.jpeg\n",
            "Completed Image ====> 328.image4_large.jpeg\n",
            "Completed Image ====> 329.brand-Nike-Logo-vector-free.jpg\n",
            "Completed Image ====> 330.Nike_logo_com.svg\n",
            "Completed Image ====> 331.air-zoom.svg\n",
            "Completed Image ====> 332.btu09bvtq7l63erdxhmk.jpg\n",
            "Completed Image ====> 333.imgbin-canvas-shoe-designer-canvas-shoes-pqnfEfP9u1cLMb32aJUj6aUaJ_t.jpg\n",
            "Completed Image ====> 334.utah-jazz-logo-transparent.png\n",
            "Invalid or missing image format. Skipping...\n",
            "Completed Image ====> 335.z9Mi5Kx.jpg\n",
            "Completed Image ====> 336.nike-logo-clipart-vector-file-212313-6373543.jpg\n",
            "URLError on an image...trying next one... Error: HTTP Error 404: Not Found\n",
            "Completed Image ====> 337.VE92eAbuwJDVcpJvQ+uROGHyfw65DtzzfkJ3ThjTBg8=nike-red-just-do-it-logo.jpg\n",
            "Completed Image ====> 338.audi-logo-vector-lineart-13.png\n",
            "Completed Image ====> 339.air-jordan-og-wings-inspired-logo-pack-vector-art-svg-dxf-fxg-eps-pdf-ai-format-download.jpg\n",
            "Completed Image ====> 340.276020776011211.png\n",
            "Completed Image ====> 341.EnrpGby.jpg\n",
            "Completed Image ====> 342.il_340x270.1826046700_9ya6.jpg\n",
            "Completed Image ====> 343.7f45a69d8a8553bfed39ab5ed639ea67.jpg\n",
            "Completed Image ====> 344.green-nike-icon-free-green-site-logo-icons-green-nike-clipart-512_512.jpg\n",
            "Completed Image ====> 345.photostock-vector-sun-and-green-agriculture-cultives-swooshes-line-art-icon-logo-vector.jpg\n",
            "Completed Image ====> 346.nike-logo-vector-eps-lazttweet-nike-logo-brands-of-the-world.jpg\n",
            "Completed Image ====> 347.1-3-24.png\n",
            "Completed Image ====> 348.61-614341_nike-logo-nike-orange-logo-vector-clipart.png\n",
            "Completed Image ====> 349.e88a6bbe897d923f1a69ae2bd7555ba6.gif\n",
            "Completed Image ====> 350.Nike_Golf_logo_black.svg\n",
            "Completed Image ====> 351.stock-vector-nike-airmax-sneaker-vector-stock-illustration-sport-wear-for-men-and-women-flat-design-634699793.jpg\n",
            "Completed Image ====> 352.nikefootball-com.svg\n",
            "Completed Image ====> 353.il_340x270.1965334170_25wl.jpg\n",
            "Completed Image ====> 354.nike-logo-clipart-outline-212338-9672300.jpg\n",
            "URLError on an image...trying next one... Error: HTTP Error 404: Not Found\n",
            "Completed Image ====> 355.S74ecra.jpg\n",
            "Completed Image ====> 356.vector-logos-brands-of-the-world-logo-300x170.jpg\n",
            "Completed Image ====> 357.thumb-uk-premier-league-football-logo-lion-minimal-rebrand-designstudio.jpg\n",
            "Completed Image ====> 358.nike-logo-vector-1-300x200.jpg\n",
            "Completed Image ====> 359.Nike_Paul_George_xg6ybe.jpg\n",
            "Completed Image ====> 360.nike-logo-clipart-outline-212338-2663069.jpg\n",
            "Completed Image ====> 361.thumb-oregon-state-athletics-unveils-new-brand-identity.jpg\n",
            "Completed Image ====> 362.nike-logo-vectorizado-.jpg\n",
            "Completed Image ====> 363.Tesla-Logo-Vector-Free-Download-1.jpg\n",
            "Completed Image ====> 364.RVzQIiv.jpg\n",
            "Completed Image ====> 365.nike-logo-clipart-translucent-212317-8006725.png\n",
            "Completed Image ====> 366.nike_swoosh_logo_orange_original.jpg\n",
            "Completed Image ====> 367.nike-total-aerow-football-logo-vector-clipart.jpg\n",
            "Completed Image ====> 368.LsaCd2l.jpg\n",
            "Completed Image ====> 369.nike-clipart-nike-logo-212448-4491250.jpg\n",
            "Completed Image ====> 370.nike-air-force-swoosh-pack-replaceable-colors.jpg\n",
            "Completed Image ====> 371.nationwide-logo-vector--300x200.jpg\n",
            "Completed Image ====> 372.stock-vector-francis-scott-key-to-he-was-an-american-lawyer-author-and-amateur-poet-vintage-line-1339883828.jpg\n",
            "Completed Image ====> 373.nike_just_do_it_logo_30020.jpg\n",
            "Completed Image ====> 374.Clearwater_Phillies.png\n",
            "Completed Image ====> 375.rubowpractice3.jpg\n",
            "Completed Image ====> 376.aC3J59C.jpg\n",
            "Completed Image ====> 377.DRIP_THUMB_394x.jpg\n",
            "Completed Image ====> 378.nike-logo-silhouette-17.jpg\n",
            "Completed Image ====> 379.nike-swoosh-vector-logo-free-download-vector-logos-art-graphics-177947.png\n",
            "\n",
            "\n",
            "Unfortunately all 500 could not be downloaded because some images were not downloadable. 379 is all we got for this search filter!\n",
            "\n",
            "Errors: 18\n",
            "\n",
            "\n",
            "Everything downloaded!\n",
            "Total errors: 18\n",
            "Total time taken: 391.52853202819824 Seconds\n"
          ],
          "name": "stdout"
        }
      ]
    },
    {
      "cell_type": "code",
      "metadata": {
        "id": "0bqTEZAbLJF_",
        "colab_type": "code",
        "colab": {}
      },
      "source": [
        "path = pathlib.Path('/content/drive/My Drive/data')\n"
      ],
      "execution_count": 0,
      "outputs": []
    },
    {
      "cell_type": "code",
      "metadata": {
        "id": "emIpqXegYd-r",
        "colab_type": "code",
        "colab": {}
      },
      "source": [
        "classes = ['adidas','nike']"
      ],
      "execution_count": 0,
      "outputs": []
    },
    {
      "cell_type": "code",
      "metadata": {
        "id": "541WC7UMYgpi",
        "colab_type": "code",
        "colab": {}
      },
      "source": [
        "for c in classes:\n",
        "    print(c)\n",
        "    verify_images(path/c, delete=True, max_size=500)"
      ],
      "execution_count": 0,
      "outputs": []
    },
    {
      "cell_type": "markdown",
      "metadata": {
        "id": "9Z17j8IA0FXp",
        "colab_type": "text"
      },
      "source": [
        "## Looking at the data"
      ]
    },
    {
      "cell_type": "markdown",
      "metadata": {
        "id": "E0VqQz8n0FXq",
        "colab_type": "text"
      },
      "source": [
        "We are going to use the [Oxford-IIIT Pet Dataset](http://www.robots.ox.ac.uk/~vgg/data/pets/) by [O. M. Parkhi et al., 2012](http://www.robots.ox.ac.uk/~vgg/publications/2012/parkhi12a/parkhi12a.pdf) which features 12 cat breeds and 25 dogs breeds. Our model will need to learn to differentiate between these 37 distinct categories. According to their paper, the best accuracy they could get in 2012 was 59.21%, using a complex model that was specific to pet detection, with separate \"Image\", \"Head\", and \"Body\" models for the pet photos. Let's see how accurate we can be using deep learning!\n",
        "\n",
        "We are going to use the `untar_data` function to which we must pass a URL as an argument and which will download and extract the data."
      ]
    },
    {
      "cell_type": "code",
      "metadata": {
        "id": "UzQvxTxA681P",
        "colab_type": "code",
        "outputId": "f846b8fa-cd95-400c-9f50-b4b32e1aa94c",
        "colab": {
          "base_uri": "https://localhost:8080/",
          "height": 51
        }
      },
      "source": [
        "# !mkdir /root/data\n",
        "# !rm -r /root/data\n",
        "# !ls /root/data"
      ],
      "execution_count": 17,
      "outputs": [
        {
          "output_type": "stream",
          "text": [
            "mkdir: cannot create directory ‘/root/data’: File exists\n",
            "ls: cannot access '/root/data': No such file or directory\n"
          ],
          "name": "stdout"
        }
      ]
    },
    {
      "cell_type": "code",
      "metadata": {
        "id": "9GLxgkTXbwmk",
        "colab_type": "code",
        "colab": {}
      },
      "source": [
        "# !cp -r '/content/drive/My Drive/data/' '/root/data/'"
      ],
      "execution_count": 0,
      "outputs": []
    },
    {
      "cell_type": "code",
      "metadata": {
        "id": "ddhXUQXUbE3V",
        "colab_type": "code",
        "outputId": "6a8c29bb-a59e-4c13-dfd0-9de27af0be8c",
        "colab": {
          "base_uri": "https://localhost:8080/",
          "height": 34
        }
      },
      "source": [
        "# path_local = pathlib.Path(\"/root/data/\")\n",
        "# path_local.ls()"
      ],
      "execution_count": 19,
      "outputs": [
        {
          "output_type": "execute_result",
          "data": {
            "text/plain": [
              "[PosixPath('/root/data/valid'), PosixPath('/root/data/train')]"
            ]
          },
          "metadata": {
            "tags": []
          },
          "execution_count": 19
        }
      ]
    },
    {
      "cell_type": "markdown",
      "metadata": {
        "id": "DRxZNnCZ0FXz",
        "colab_type": "text"
      },
      "source": [
        "The first thing we do when we approach a problem is to take a look at the data. We _always_ need to understand very well what the problem is and what the data looks like before we can figure out how to solve it. Taking a look at the data means understanding how the data directories are structured, what the labels are and what some sample images look like.\n",
        "\n",
        "The main difference between the handling of image classification datasets is the way labels are stored. In this particular dataset, labels are stored in the filenames themselves. We will need to extract them to be able to classify the images into the correct categories. Fortunately, the fastai library has a handy function made exactly for this, `ImageDataBunch.from_name_re` gets the labels from the filenames using a [regular expression](https://docs.python.org/3.6/library/re.html)."
      ]
    },
    {
      "cell_type": "code",
      "metadata": {
        "id": "koDdl0cA0FX1",
        "colab_type": "code",
        "outputId": "dd9a7e35-3d7a-48ac-869c-3ce3e691a90a",
        "colab": {
          "base_uri": "https://localhost:8080/",
          "height": 34
        }
      },
      "source": [
        "# (path_local).ls()"
      ],
      "execution_count": 20,
      "outputs": [
        {
          "output_type": "execute_result",
          "data": {
            "text/plain": [
              "[PosixPath('/root/data/valid'), PosixPath('/root/data/train')]"
            ]
          },
          "metadata": {
            "tags": []
          },
          "execution_count": 20
        }
      ]
    },
    {
      "cell_type": "code",
      "metadata": {
        "id": "tpVSDM3XFYLG",
        "colab_type": "code",
        "colab": {}
      },
      "source": [
        "# !chmod 777 -R \"/root/data\"\n",
        "# !ls -l \"/root/data/train/adidas\""
      ],
      "execution_count": 0,
      "outputs": []
    },
    {
      "cell_type": "code",
      "metadata": {
        "id": "1qZGRaTdQoSM",
        "colab_type": "code",
        "colab": {}
      },
      "source": [
        "# doc(ImageDataBunch.from_folder)"
      ],
      "execution_count": 0,
      "outputs": []
    },
    {
      "cell_type": "code",
      "metadata": {
        "id": "ummFS7HDRIFC",
        "colab_type": "code",
        "colab": {}
      },
      "source": [
        "np.random.seed(42)\n",
        "data = ImageDataBunch.from_folder(path, train=\".\", valid_pct=0.2, bs=16,\n",
        "        ds_tfms=get_transforms(), size=224, num_workers=4).normalize(imagenet_stats)"
      ],
      "execution_count": 0,
      "outputs": []
    },
    {
      "cell_type": "code",
      "metadata": {
        "id": "kEHsMPJz0FX4",
        "colab_type": "code",
        "outputId": "870da81a-05d7-4190-a8b0-cc8da372485a",
        "colab": {
          "base_uri": "https://localhost:8080/",
          "height": 441
        }
      },
      "source": [
        "data.show_batch(rows=3, figsize=(7,6))"
      ],
      "execution_count": 28,
      "outputs": [
        {
          "output_type": "display_data",
          "data": {
            "image/png": "[encoded data removed]",
            "text/plain": [
              "<Figure size 504x432 with 9 Axes>"
            ]
          },
          "metadata": {
            "tags": []
          }
        }
      ]
    },
    {
      "cell_type": "code",
      "metadata": {
        "id": "zr7mcz9-0FX6",
        "colab_type": "code",
        "outputId": "59fb84ea-6de5-4701-fd95-de9c986e38cb",
        "colab": {
          "base_uri": "https://localhost:8080/",
          "height": 51
        }
      },
      "source": [
        "print(data.classes)\n",
        "len(data.classes),data.c"
      ],
      "execution_count": 29,
      "outputs": [
        {
          "output_type": "stream",
          "text": [
            "['adidas', 'nike']\n"
          ],
          "name": "stdout"
        },
        {
          "output_type": "execute_result",
          "data": {
            "text/plain": [
              "(2, 2)"
            ]
          },
          "metadata": {
            "tags": []
          },
          "execution_count": 29
        }
      ]
    },
    {
      "cell_type": "markdown",
      "metadata": {
        "id": "E02YQdJA0FX8",
        "colab_type": "text"
      },
      "source": [
        "## Training: resnet34"
      ]
    },
    {
      "cell_type": "markdown",
      "metadata": {
        "id": "mgl9bQhP0FX8",
        "colab_type": "text"
      },
      "source": [
        "Now we will start training our model. We will use a [convolutional neural network](http://cs231n.github.io/convolutional-networks/) backbone and a fully connected head with a single hidden layer as a classifier. Don't know what these things mean? Not to worry, we will dive deeper in the coming lessons. For the moment you need to know that we are building a model which will take images as input and will output the predicted probability for each of the categories (in this case, it will have 37 outputs).\n",
        "\n",
        "We will train for 4 epochs (4 cycles through all our data)."
      ]
    },
    {
      "cell_type": "code",
      "metadata": {
        "id": "g7UQxoIV0FX9",
        "colab_type": "code",
        "colab": {}
      },
      "source": [
        "learn = cnn_learner(data, models.resnet34, metrics=error_rate)"
      ],
      "execution_count": 0,
      "outputs": []
    },
    {
      "cell_type": "code",
      "metadata": {
        "id": "kvOE6uHI0FX-",
        "colab_type": "code",
        "outputId": "a5706fdb-5505-42d1-84c7-da48b39ecabc",
        "colab": {
          "base_uri": "https://localhost:8080/",
          "height": 1000
        }
      },
      "source": [
        "learn.model"
      ],
      "execution_count": 31,
      "outputs": [
        {
          "output_type": "execute_result",
          "data": {
            "text/plain": [
              "Sequential(\n",
              "  (0): Sequential(\n",
              "    (0): Conv2d(3, 64, kernel_size=(7, 7), stride=(2, 2), padding=(3, 3), bias=False)\n",
              "    (1): BatchNorm2d(64, eps=1e-05, momentum=0.1, affine=True, track_running_stats=True)\n",
              "    (2): ReLU(inplace=True)\n",
              "    (3): MaxPool2d(kernel_size=3, stride=2, padding=1, dilation=1, ceil_mode=False)\n",
              "    (4): Sequential(\n",
              "      (0): BasicBlock(\n",
              "        (conv1): Conv2d(64, 64, kernel_size=(3, 3), stride=(1, 1), padding=(1, 1), bias=False)\n",
              "        (bn1): BatchNorm2d(64, eps=1e-05, momentum=0.1, affine=True, track_running_stats=True)\n",
              "        (relu): ReLU(inplace=True)\n",
              "        (conv2): Conv2d(64, 64, kernel_size=(3, 3), stride=(1, 1), padding=(1, 1), bias=False)\n",
              "        (bn2): BatchNorm2d(64, eps=1e-05, momentum=0.1, affine=True, track_running_stats=True)\n",
              "      )\n",
              "      (1): BasicBlock(\n",
              "        (conv1): Conv2d(64, 64, kernel_size=(3, 3), stride=(1, 1), padding=(1, 1), bias=False)\n",
              "        (bn1): BatchNorm2d(64, eps=1e-05, momentum=0.1, affine=True, track_running_stats=True)\n",
              "        (relu): ReLU(inplace=True)\n",
              "        (conv2): Conv2d(64, 64, kernel_size=(3, 3), stride=(1, 1), padding=(1, 1), bias=False)\n",
              "        (bn2): BatchNorm2d(64, eps=1e-05, momentum=0.1, affine=True, track_running_stats=True)\n",
              "      )\n",
              "      (2): BasicBlock(\n",
              "        (conv1): Conv2d(64, 64, kernel_size=(3, 3), stride=(1, 1), padding=(1, 1), bias=False)\n",
              "        (bn1): BatchNorm2d(64, eps=1e-05, momentum=0.1, affine=True, track_running_stats=True)\n",
              "        (relu): ReLU(inplace=True)\n",
              "        (conv2): Conv2d(64, 64, kernel_size=(3, 3), stride=(1, 1), padding=(1, 1), bias=False)\n",
              "        (bn2): BatchNorm2d(64, eps=1e-05, momentum=0.1, affine=True, track_running_stats=True)\n",
              "      )\n",
              "    )\n",
              "    (5): Sequential(\n",
              "      (0): BasicBlock(\n",
              "        (conv1): Conv2d(64, 128, kernel_size=(3, 3), stride=(2, 2), padding=(1, 1), bias=False)\n",
              "        (bn1): BatchNorm2d(128, eps=1e-05, momentum=0.1, affine=True, track_running_stats=True)\n",
              "        (relu): ReLU(inplace=True)\n",
              "        (conv2): Conv2d(128, 128, kernel_size=(3, 3), stride=(1, 1), padding=(1, 1), bias=False)\n",
              "        (bn2): BatchNorm2d(128, eps=1e-05, momentum=0.1, affine=True, track_running_stats=True)\n",
              "        (downsample): Sequential(\n",
              "          (0): Conv2d(64, 128, kernel_size=(1, 1), stride=(2, 2), bias=False)\n",
              "          (1): BatchNorm2d(128, eps=1e-05, momentum=0.1, affine=True, track_running_stats=True)\n",
              "        )\n",
              "      )\n",
              "      (1): BasicBlock(\n",
              "        (conv1): Conv2d(128, 128, kernel_size=(3, 3), stride=(1, 1), padding=(1, 1), bias=False)\n",
              "        (bn1): BatchNorm2d(128, eps=1e-05, momentum=0.1, affine=True, track_running_stats=True)\n",
              "        (relu): ReLU(inplace=True)\n",
              "        (conv2): Conv2d(128, 128, kernel_size=(3, 3), stride=(1, 1), padding=(1, 1), bias=False)\n",
              "        (bn2): BatchNorm2d(128, eps=1e-05, momentum=0.1, affine=True, track_running_stats=True)\n",
              "      )\n",
              "      (2): BasicBlock(\n",
              "        (conv1): Conv2d(128, 128, kernel_size=(3, 3), stride=(1, 1), padding=(1, 1), bias=False)\n",
              "        (bn1): BatchNorm2d(128, eps=1e-05, momentum=0.1, affine=True, track_running_stats=True)\n",
              "        (relu): ReLU(inplace=True)\n",
              "        (conv2): Conv2d(128, 128, kernel_size=(3, 3), stride=(1, 1), padding=(1, 1), bias=False)\n",
              "        (bn2): BatchNorm2d(128, eps=1e-05, momentum=0.1, affine=True, track_running_stats=True)\n",
              "      )\n",
              "      (3): BasicBlock(\n",
              "        (conv1): Conv2d(128, 128, kernel_size=(3, 3), stride=(1, 1), padding=(1, 1), bias=False)\n",
              "        (bn1): BatchNorm2d(128, eps=1e-05, momentum=0.1, affine=True, track_running_stats=True)\n",
              "        (relu): ReLU(inplace=True)\n",
              "        (conv2): Conv2d(128, 128, kernel_size=(3, 3), stride=(1, 1), padding=(1, 1), bias=False)\n",
              "        (bn2): BatchNorm2d(128, eps=1e-05, momentum=0.1, affine=True, track_running_stats=True)\n",
              "      )\n",
              "    )\n",
              "    (6): Sequential(\n",
              "      (0): BasicBlock(\n",
              "        (conv1): Conv2d(128, 256, kernel_size=(3, 3), stride=(2, 2), padding=(1, 1), bias=False)\n",
              "        (bn1): BatchNorm2d(256, eps=1e-05, momentum=0.1, affine=True, track_running_stats=True)\n",
              "        (relu): ReLU(inplace=True)\n",
              "        (conv2): Conv2d(256, 256, kernel_size=(3, 3), stride=(1, 1), padding=(1, 1), bias=False)\n",
              "        (bn2): BatchNorm2d(256, eps=1e-05, momentum=0.1, affine=True, track_running_stats=True)\n",
              "        (downsample): Sequential(\n",
              "          (0): Conv2d(128, 256, kernel_size=(1, 1), stride=(2, 2), bias=False)\n",
              "          (1): BatchNorm2d(256, eps=1e-05, momentum=0.1, affine=True, track_running_stats=True)\n",
              "        )\n",
              "      )\n",
              "      (1): BasicBlock(\n",
              "        (conv1): Conv2d(256, 256, kernel_size=(3, 3), stride=(1, 1), padding=(1, 1), bias=False)\n",
              "        (bn1): BatchNorm2d(256, eps=1e-05, momentum=0.1, affine=True, track_running_stats=True)\n",
              "        (relu): ReLU(inplace=True)\n",
              "        (conv2): Conv2d(256, 256, kernel_size=(3, 3), stride=(1, 1), padding=(1, 1), bias=False)\n",
              "        (bn2): BatchNorm2d(256, eps=1e-05, momentum=0.1, affine=True, track_running_stats=True)\n",
              "      )\n",
              "      (2): BasicBlock(\n",
              "        (conv1): Conv2d(256, 256, kernel_size=(3, 3), stride=(1, 1), padding=(1, 1), bias=False)\n",
              "        (bn1): BatchNorm2d(256, eps=1e-05, momentum=0.1, affine=True, track_running_stats=True)\n",
              "        (relu): ReLU(inplace=True)\n",
              "        (conv2): Conv2d(256, 256, kernel_size=(3, 3), stride=(1, 1), padding=(1, 1), bias=False)\n",
              "        (bn2): BatchNorm2d(256, eps=1e-05, momentum=0.1, affine=True, track_running_stats=True)\n",
              "      )\n",
              "      (3): BasicBlock(\n",
              "        (conv1): Conv2d(256, 256, kernel_size=(3, 3), stride=(1, 1), padding=(1, 1), bias=False)\n",
              "        (bn1): BatchNorm2d(256, eps=1e-05, momentum=0.1, affine=True, track_running_stats=True)\n",
              "        (relu): ReLU(inplace=True)\n",
              "        (conv2): Conv2d(256, 256, kernel_size=(3, 3), stride=(1, 1), padding=(1, 1), bias=False)\n",
              "        (bn2): BatchNorm2d(256, eps=1e-05, momentum=0.1, affine=True, track_running_stats=True)\n",
              "      )\n",
              "      (4): BasicBlock(\n",
              "        (conv1): Conv2d(256, 256, kernel_size=(3, 3), stride=(1, 1), padding=(1, 1), bias=False)\n",
              "        (bn1): BatchNorm2d(256, eps=1e-05, momentum=0.1, affine=True, track_running_stats=True)\n",
              "        (relu): ReLU(inplace=True)\n",
              "        (conv2): Conv2d(256, 256, kernel_size=(3, 3), stride=(1, 1), padding=(1, 1), bias=False)\n",
              "        (bn2): BatchNorm2d(256, eps=1e-05, momentum=0.1, affine=True, track_running_stats=True)\n",
              "      )\n",
              "      (5): BasicBlock(\n",
              "        (conv1): Conv2d(256, 256, kernel_size=(3, 3), stride=(1, 1), padding=(1, 1), bias=False)\n",
              "        (bn1): BatchNorm2d(256, eps=1e-05, momentum=0.1, affine=True, track_running_stats=True)\n",
              "        (relu): ReLU(inplace=True)\n",
              "        (conv2): Conv2d(256, 256, kernel_size=(3, 3), stride=(1, 1), padding=(1, 1), bias=False)\n",
              "        (bn2): BatchNorm2d(256, eps=1e-05, momentum=0.1, affine=True, track_running_stats=True)\n",
              "      )\n",
              "    )\n",
              "    (7): Sequential(\n",
              "      (0): BasicBlock(\n",
              "        (conv1): Conv2d(256, 512, kernel_size=(3, 3), stride=(2, 2), padding=(1, 1), bias=False)\n",
              "        (bn1): BatchNorm2d(512, eps=1e-05, momentum=0.1, affine=True, track_running_stats=True)\n",
              "        (relu): ReLU(inplace=True)\n",
              "        (conv2): Conv2d(512, 512, kernel_size=(3, 3), stride=(1, 1), padding=(1, 1), bias=False)\n",
              "        (bn2): BatchNorm2d(512, eps=1e-05, momentum=0.1, affine=True, track_running_stats=True)\n",
              "        (downsample): Sequential(\n",
              "          (0): Conv2d(256, 512, kernel_size=(1, 1), stride=(2, 2), bias=False)\n",
              "          (1): BatchNorm2d(512, eps=1e-05, momentum=0.1, affine=True, track_running_stats=True)\n",
              "        )\n",
              "      )\n",
              "      (1): BasicBlock(\n",
              "        (conv1): Conv2d(512, 512, kernel_size=(3, 3), stride=(1, 1), padding=(1, 1), bias=False)\n",
              "        (bn1): BatchNorm2d(512, eps=1e-05, momentum=0.1, affine=True, track_running_stats=True)\n",
              "        (relu): ReLU(inplace=True)\n",
              "        (conv2): Conv2d(512, 512, kernel_size=(3, 3), stride=(1, 1), padding=(1, 1), bias=False)\n",
              "        (bn2): BatchNorm2d(512, eps=1e-05, momentum=0.1, affine=True, track_running_stats=True)\n",
              "      )\n",
              "      (2): BasicBlock(\n",
              "        (conv1): Conv2d(512, 512, kernel_size=(3, 3), stride=(1, 1), padding=(1, 1), bias=False)\n",
              "        (bn1): BatchNorm2d(512, eps=1e-05, momentum=0.1, affine=True, track_running_stats=True)\n",
              "        (relu): ReLU(inplace=True)\n",
              "        (conv2): Conv2d(512, 512, kernel_size=(3, 3), stride=(1, 1), padding=(1, 1), bias=False)\n",
              "        (bn2): BatchNorm2d(512, eps=1e-05, momentum=0.1, affine=True, track_running_stats=True)\n",
              "      )\n",
              "    )\n",
              "  )\n",
              "  (1): Sequential(\n",
              "    (0): AdaptiveConcatPool2d(\n",
              "      (ap): AdaptiveAvgPool2d(output_size=1)\n",
              "      (mp): AdaptiveMaxPool2d(output_size=1)\n",
              "    )\n",
              "    (1): Flatten()\n",
              "    (2): BatchNorm1d(1024, eps=1e-05, momentum=0.1, affine=True, track_running_stats=True)\n",
              "    (3): Dropout(p=0.25, inplace=False)\n",
              "    (4): Linear(in_features=1024, out_features=512, bias=True)\n",
              "    (5): ReLU(inplace=True)\n",
              "    (6): BatchNorm1d(512, eps=1e-05, momentum=0.1, affine=True, track_running_stats=True)\n",
              "    (7): Dropout(p=0.5, inplace=False)\n",
              "    (8): Linear(in_features=512, out_features=2, bias=True)\n",
              "  )\n",
              ")"
            ]
          },
          "metadata": {
            "tags": []
          },
          "execution_count": 31
        }
      ]
    },
    {
      "cell_type": "code",
      "metadata": {
        "id": "_lMZdo_k0FYA",
        "colab_type": "code",
        "outputId": "0549185c-2587-4275-ec81-0920bc251665",
        "colab": {
          "base_uri": "https://localhost:8080/",
          "height": 173
        }
      },
      "source": [
        "learn.fit_one_cycle(4)"
      ],
      "execution_count": 32,
      "outputs": [
        {
          "output_type": "display_data",
          "data": {
            "text/html": [
              "<table border=\"1\" class=\"dataframe\">\n",
              "  <thead>\n",
              "    <tr style=\"text-align: left;\">\n",
              "      <th>epoch</th>\n",
              "      <th>train_loss</th>\n",
              "      <th>valid_loss</th>\n",
              "      <th>error_rate</th>\n",
              "      <th>time</th>\n",
              "    </tr>\n",
              "  </thead>\n",
              "  <tbody>\n",
              "    <tr>\n",
              "      <td>0</td>\n",
              "      <td>0.907483</td>\n",
              "      <td>0.867411</td>\n",
              "      <td>0.231343</td>\n",
              "      <td>00:12</td>\n",
              "    </tr>\n",
              "    <tr>\n",
              "      <td>1</td>\n",
              "      <td>0.835603</td>\n",
              "      <td>0.788012</td>\n",
              "      <td>0.186567</td>\n",
              "      <td>00:11</td>\n",
              "    </tr>\n",
              "    <tr>\n",
              "      <td>2</td>\n",
              "      <td>0.684457</td>\n",
              "      <td>0.831797</td>\n",
              "      <td>0.246269</td>\n",
              "      <td>00:11</td>\n",
              "    </tr>\n",
              "    <tr>\n",
              "      <td>3</td>\n",
              "      <td>0.525972</td>\n",
              "      <td>0.713071</td>\n",
              "      <td>0.223881</td>\n",
              "      <td>00:11</td>\n",
              "    </tr>\n",
              "  </tbody>\n",
              "</table>"
            ],
            "text/plain": [
              "<IPython.core.display.HTML object>"
            ]
          },
          "metadata": {
            "tags": []
          }
        }
      ]
    },
    {
      "cell_type": "code",
      "metadata": {
        "id": "wo8wtt5q0FYC",
        "colab_type": "code",
        "colab": {}
      },
      "source": [
        "learn.save('stage-1')"
      ],
      "execution_count": 0,
      "outputs": []
    },
    {
      "cell_type": "markdown",
      "metadata": {
        "id": "OfyhajNt0FYE",
        "colab_type": "text"
      },
      "source": [
        "## Results"
      ]
    },
    {
      "cell_type": "markdown",
      "metadata": {
        "id": "cURmZyE90FYE",
        "colab_type": "text"
      },
      "source": [
        "Let's see what results we have got. \n",
        "\n",
        "We will first see which were the categories that the model most confused with one another. We will try to see if what the model predicted was reasonable or not. In this case the mistakes look reasonable (none of the mistakes seems obviously naive). This is an indicator that our classifier is working correctly. \n",
        "\n",
        "Furthermore, when we plot the confusion matrix, we can see that the distribution is heavily skewed: the model makes the same mistakes over and over again but it rarely confuses other categories. This suggests that it just finds it difficult to distinguish some specific categories between each other; this is normal behaviour."
      ]
    },
    {
      "cell_type": "code",
      "metadata": {
        "id": "mEAUjYH70FYF",
        "colab_type": "code",
        "outputId": "91d02eb2-48c3-4a94-da88-3148ad498397",
        "colab": {
          "base_uri": "https://localhost:8080/",
          "height": 34
        }
      },
      "source": [
        "interp = ClassificationInterpretation.from_learner(learn)\n",
        "\n",
        "losses,idxs = interp.top_losses()\n",
        "\n",
        "len(data.valid_ds)==len(losses)==len(idxs)"
      ],
      "execution_count": 0,
      "outputs": [
        {
          "output_type": "execute_result",
          "data": {
            "text/plain": [
              "True"
            ]
          },
          "metadata": {
            "tags": []
          },
          "execution_count": 105
        }
      ]
    },
    {
      "cell_type": "code",
      "metadata": {
        "id": "xWD9RX-m0FYJ",
        "colab_type": "code",
        "outputId": "bafdc519-a205-4a89-96a9-cefad620c070",
        "colab": {
          "base_uri": "https://localhost:8080/",
          "height": 725
        }
      },
      "source": [
        "interp.plot_top_losses(4, figsize=(15,11))"
      ],
      "execution_count": 0,
      "outputs": [
        {
          "output_type": "display_data",
          "data": {
            "image/png": "[encoded data removed]",
            "text/plain": [
              "<Figure size 1080x792 with 4 Axes>"
            ]
          },
          "metadata": {
            "tags": []
          }
        }
      ]
    },
    {
      "cell_type": "code",
      "metadata": {
        "id": "DfBj2rlp0FYO",
        "colab_type": "code",
        "outputId": "61a4b826-c7eb-45d0-90f2-0691301a3f86",
        "colab": {
          "base_uri": "https://localhost:8080/",
          "height": 143
        }
      },
      "source": [
        "interp.plot_confusion_matrix(figsize=(2,2), dpi=60)"
      ],
      "execution_count": 0,
      "outputs": [
        {
          "output_type": "display_data",
          "data": {
            "image/png": "[encoded data removed]",
            "text/plain": [
              "<Figure size 120x120 with 1 Axes>"
            ]
          },
          "metadata": {
            "tags": []
          }
        }
      ]
    },
    {
      "cell_type": "code",
      "metadata": {
        "id": "T8KAkAtG0FYQ",
        "colab_type": "code",
        "outputId": "0ffef2f7-4866-4366-fa35-ab88e552bf6e",
        "colab": {
          "base_uri": "https://localhost:8080/",
          "height": 34
        }
      },
      "source": [
        "interp.most_confused(min_val=1)"
      ],
      "execution_count": 0,
      "outputs": [
        {
          "output_type": "execute_result",
          "data": {
            "text/plain": [
              "[('adidas', 'nike', 1)]"
            ]
          },
          "metadata": {
            "tags": []
          },
          "execution_count": 57
        }
      ]
    },
    {
      "cell_type": "markdown",
      "metadata": {
        "id": "NESE63Az0FYS",
        "colab_type": "text"
      },
      "source": [
        "## Unfreezing, fine-tuning, and learning rates"
      ]
    },
    {
      "cell_type": "markdown",
      "metadata": {
        "id": "1SfVFVHV0FYS",
        "colab_type": "text"
      },
      "source": [
        "Since our model is working as we expect it to, we will *unfreeze* our model and train some more."
      ]
    },
    {
      "cell_type": "code",
      "metadata": {
        "id": "S9L6tRss0FYX",
        "colab_type": "code",
        "outputId": "9941f0af-93e2-4d13-af95-7d018efabc50",
        "colab": {
          "base_uri": "https://localhost:8080/",
          "height": 34
        }
      },
      "source": [
        "learn.lr_find()"
      ],
      "execution_count": 34,
      "outputs": [
        {
          "output_type": "display_data",
          "data": {
            "text/html": [
              ""
            ],
            "text/plain": [
              "<IPython.core.display.HTML object>"
            ]
          },
          "metadata": {
            "tags": []
          }
        },
        {
          "output_type": "stream",
          "text": [
            "LR Finder is complete, type {learner_name}.recorder.plot() to see the graph.\n"
          ],
          "name": "stdout"
        }
      ]
    },
    {
      "cell_type": "code",
      "metadata": {
        "id": "QS-GfKbC0FYZ",
        "colab_type": "code",
        "outputId": "1dc4a85f-2c06-438e-e2d1-0d798d9c0cc4",
        "colab": {
          "base_uri": "https://localhost:8080/",
          "height": 283
        }
      },
      "source": [
        "learn.recorder.plot()"
      ],
      "execution_count": 35,
      "outputs": [
        {
          "output_type": "display_data",
          "data": {
            "image/png": "[encoded data removed]",
            "text/plain": [
              "<Figure size 432x288 with 1 Axes>"
            ]
          },
          "metadata": {
            "tags": []
          }
        }
      ]
    },
    {
      "cell_type": "code",
      "metadata": {
        "id": "mWmwbARE0FYa",
        "colab_type": "code",
        "outputId": "c2e3301f-5930-4a3c-fa1e-4073db860295",
        "colab": {
          "base_uri": "https://localhost:8080/",
          "height": 111
        }
      },
      "source": [
        "learn.unfreeze()\n",
        "learn.fit_one_cycle(2, max_lr=slice(1e-6,1e-4))"
      ],
      "execution_count": 36,
      "outputs": [
        {
          "output_type": "display_data",
          "data": {
            "text/html": [
              "<table border=\"1\" class=\"dataframe\">\n",
              "  <thead>\n",
              "    <tr style=\"text-align: left;\">\n",
              "      <th>epoch</th>\n",
              "      <th>train_loss</th>\n",
              "      <th>valid_loss</th>\n",
              "      <th>error_rate</th>\n",
              "      <th>time</th>\n",
              "    </tr>\n",
              "  </thead>\n",
              "  <tbody>\n",
              "    <tr>\n",
              "      <td>0</td>\n",
              "      <td>0.409838</td>\n",
              "      <td>0.629934</td>\n",
              "      <td>0.194030</td>\n",
              "      <td>00:12</td>\n",
              "    </tr>\n",
              "    <tr>\n",
              "      <td>1</td>\n",
              "      <td>0.359493</td>\n",
              "      <td>0.639865</td>\n",
              "      <td>0.194030</td>\n",
              "      <td>00:12</td>\n",
              "    </tr>\n",
              "  </tbody>\n",
              "</table>"
            ],
            "text/plain": [
              "<IPython.core.display.HTML object>"
            ]
          },
          "metadata": {
            "tags": []
          }
        }
      ]
    },
    {
      "cell_type": "code",
      "metadata": {
        "id": "gW-VeEana_Lx",
        "colab_type": "code",
        "colab": {}
      },
      "source": [
        "learn.save('stage-2')"
      ],
      "execution_count": 0,
      "outputs": []
    },
    {
      "cell_type": "markdown",
      "metadata": {
        "id": "1f6LoHu30FYc",
        "colab_type": "text"
      },
      "source": [
        "## Training: resnet50"
      ]
    },
    {
      "cell_type": "markdown",
      "metadata": {
        "id": "5NmpGYF_0FYc",
        "colab_type": "text"
      },
      "source": [
        "Now we will train in the same way as before but with one caveat: instead of using resnet34 as our backbone we will use resnet50 (resnet34 is a 34 layer residual network while resnet50 has 50 layers. It will be explained later in the course and you can learn the details in the [resnet paper](https://arxiv.org/pdf/1512.03385.pdf)).\n",
        "\n",
        "Basically, resnet50 usually performs better because it is a deeper network with more parameters. Let's see if we can achieve a higher performance here. To help it along, let's us use larger images too, since that way the network can see more detail. We reduce the batch size a bit since otherwise this larger network will require more GPU memory."
      ]
    },
    {
      "cell_type": "code",
      "metadata": {
        "id": "r5XO7KsU0FYd",
        "colab_type": "code",
        "colab": {}
      },
      "source": [
        "data = ImageDataBunch.from_name_re(path_img, fnames, pat, ds_tfms=get_transforms(),\n",
        "                                   size=299, bs=bs//2).normalize(imagenet_stats)"
      ],
      "execution_count": 0,
      "outputs": []
    },
    {
      "cell_type": "code",
      "metadata": {
        "id": "2HC4xAVk0FYe",
        "colab_type": "code",
        "colab": {}
      },
      "source": [
        "learn = cnn_learner(data, models.resnet50, metrics=error_rate)"
      ],
      "execution_count": 0,
      "outputs": []
    },
    {
      "cell_type": "code",
      "metadata": {
        "id": "vBq7uG8C0FYg",
        "colab_type": "code",
        "outputId": "c49614f8-7dbf-4e82-cb09-4e7066793e5b",
        "colab": {}
      },
      "source": [
        "learn.lr_find()\n",
        "learn.recorder.plot()"
      ],
      "execution_count": 0,
      "outputs": [
        {
          "output_type": "stream",
          "text": [
            "LR Finder complete, type {learner_name}.recorder.plot() to see the graph.\n"
          ],
          "name": "stdout"
        },
        {
          "output_type": "display_data",
          "data": {
            "image/png": "[encoded data removed]",
            "text/plain": [
              "<Figure size 432x288 with 1 Axes>"
            ]
          },
          "metadata": {
            "tags": [],
            "needs_background": "light"
          }
        }
      ]
    },
    {
      "cell_type": "code",
      "metadata": {
        "id": "k3ZsuZ500FYh",
        "colab_type": "code",
        "outputId": "a3a8dc8c-77d7-47f0-9dd3-406f5d193ea2",
        "colab": {}
      },
      "source": [
        "learn.fit_one_cycle(8)"
      ],
      "execution_count": 0,
      "outputs": [
        {
          "output_type": "stream",
          "text": [
            "Total time: 06:59\n",
            "epoch  train_loss  valid_loss  error_rate\n",
            "1      0.548006    0.268912    0.076455    (00:57)\n",
            "2      0.365533    0.193667    0.064953    (00:51)\n",
            "3      0.336032    0.211020    0.073072    (00:51)\n",
            "4      0.263173    0.212025    0.060893    (00:51)\n",
            "5      0.217016    0.183195    0.063599    (00:51)\n",
            "6      0.161002    0.167274    0.048038    (00:51)\n",
            "7      0.086668    0.143490    0.044655    (00:51)\n",
            "8      0.082288    0.154927    0.046008    (00:51)\n",
            "\n"
          ],
          "name": "stdout"
        }
      ]
    },
    {
      "cell_type": "code",
      "metadata": {
        "id": "uc-DKqGF0FYj",
        "colab_type": "code",
        "colab": {}
      },
      "source": [
        "learn.save('stage-1-50')"
      ],
      "execution_count": 0,
      "outputs": []
    },
    {
      "cell_type": "markdown",
      "metadata": {
        "id": "AQnwaqXR0FYk",
        "colab_type": "text"
      },
      "source": [
        "It's astonishing that it's possible to recognize pet breeds so accurately! Let's see if full fine-tuning helps:"
      ]
    },
    {
      "cell_type": "code",
      "metadata": {
        "id": "K4PlxMke0FYl",
        "colab_type": "code",
        "outputId": "f35fc864-7fee-4946-91fd-02e91846c596",
        "colab": {}
      },
      "source": [
        "learn.unfreeze()\n",
        "learn.fit_one_cycle(3, max_lr=slice(1e-6,1e-4))"
      ],
      "execution_count": 0,
      "outputs": [
        {
          "output_type": "stream",
          "text": [
            "Total time: 03:27\n",
            "epoch  train_loss  valid_loss  error_rate\n",
            "1      0.097319    0.155017    0.048038    (01:10)\n",
            "2      0.074885    0.144853    0.044655    (01:08)\n",
            "3      0.063509    0.144917    0.043978    (01:08)\n",
            "\n"
          ],
          "name": "stdout"
        }
      ]
    },
    {
      "cell_type": "markdown",
      "metadata": {
        "id": "92eE-O8L0FYm",
        "colab_type": "text"
      },
      "source": [
        "If it doesn't, you can always go back to your previous model."
      ]
    },
    {
      "cell_type": "code",
      "metadata": {
        "id": "IRHsdokm0FYm",
        "colab_type": "code",
        "colab": {}
      },
      "source": [
        "learn.load('stage-1-50');"
      ],
      "execution_count": 0,
      "outputs": []
    },
    {
      "cell_type": "code",
      "metadata": {
        "id": "63Q6pD6A0FYo",
        "colab_type": "code",
        "colab": {}
      },
      "source": [
        "interp = ClassificationInterpretation.from_learner(learn)"
      ],
      "execution_count": 0,
      "outputs": []
    },
    {
      "cell_type": "code",
      "metadata": {
        "id": "8pOTabYr0FYp",
        "colab_type": "code",
        "outputId": "5b2d6d5a-2a84-4f6d-9da4-610be19ac5e0",
        "colab": {}
      },
      "source": [
        "interp.most_confused(min_val=2)"
      ],
      "execution_count": 0,
      "outputs": [
        {
          "output_type": "execute_result",
          "data": {
            "text/plain": [
              "[('american_pit_bull_terrier', 'staffordshire_bull_terrier', 6),\n",
              " ('Bengal', 'Egyptian_Mau', 5),\n",
              " ('Bengal', 'Abyssinian', 4),\n",
              " ('boxer', 'american_bulldog', 4),\n",
              " ('Ragdoll', 'Birman', 4),\n",
              " ('Egyptian_Mau', 'Bengal', 3)]"
            ]
          },
          "metadata": {
            "tags": []
          },
          "execution_count": 0
        }
      ]
    },
    {
      "cell_type": "markdown",
      "metadata": {
        "id": "9MB-ccHiWMwL",
        "colab_type": "text"
      },
      "source": [
        "## Interpretation"
      ]
    },
    {
      "cell_type": "code",
      "metadata": {
        "id": "9jqoNrxOWMwL",
        "colab_type": "code",
        "colab": {}
      },
      "source": [
        "learn.load('stage-2');"
      ],
      "execution_count": 0,
      "outputs": []
    },
    {
      "cell_type": "code",
      "metadata": {
        "id": "iNYYhFyYWMwN",
        "colab_type": "code",
        "colab": {}
      },
      "source": [
        "interp = ClassificationInterpretation.from_learner(learn)"
      ],
      "execution_count": 0,
      "outputs": []
    },
    {
      "cell_type": "code",
      "metadata": {
        "id": "gwb1AjfcWMwO",
        "colab_type": "code",
        "outputId": "0e213c24-1404-49f1-a5a5-5840400cdadb",
        "colab": {
          "base_uri": "https://localhost:8080/",
          "height": 311
        }
      },
      "source": [
        "interp.plot_confusion_matrix()"
      ],
      "execution_count": 40,
      "outputs": [
        {
          "output_type": "display_data",
          "data": {
            "image/png": "[encoded data removed]",
            "text/plain": [
              "<Figure size 432x288 with 1 Axes>"
            ]
          },
          "metadata": {
            "tags": []
          }
        }
      ]
    },
    {
      "cell_type": "markdown",
      "metadata": {
        "id": "fHAovjNVWMwQ",
        "colab_type": "text"
      },
      "source": [
        "## Cleaning Up\n",
        "\n",
        "Some of our top losses aren't due to bad performance by our model. There are images in our data set that shouldn't be.\n",
        "\n",
        "Using the `ImageCleaner` widget from `fastai.widgets` we can prune our top losses, removing photos that don't belong."
      ]
    },
    {
      "cell_type": "code",
      "metadata": {
        "id": "RxSS1uNEWMwR",
        "colab_type": "code",
        "colab": {}
      },
      "source": [
        "from fastai.widgets import *"
      ],
      "execution_count": 0,
      "outputs": []
    },
    {
      "cell_type": "markdown",
      "metadata": {
        "id": "t7alBYtSWMwS",
        "colab_type": "text"
      },
      "source": [
        "First we need to get the file paths from our top_losses. We can do this with `.from_toplosses`. We then feed the top losses indexes and corresponding dataset to `ImageCleaner`.\n",
        "\n",
        "Notice that the widget will not delete images directly from disk but it will create a new csv file `cleaned.csv` from where you can create a new ImageDataBunch with the corrected labels to continue training your model."
      ]
    },
    {
      "cell_type": "markdown",
      "metadata": {
        "id": "B04MR9iaWMwT",
        "colab_type": "text"
      },
      "source": [
        "In order to clean the entire set of images, we need to create a new dataset without the split. The video lecture demostrated the use of the `ds_type` param which no longer has any effect. See [the thread](https://forums.fast.ai/t/duplicate-widget/30975/10) for more details."
      ]
    },
    {
      "cell_type": "code",
      "metadata": {
        "id": "sDx4WM0dWMwT",
        "colab_type": "code",
        "colab": {}
      },
      "source": [
        "db = (ImageList.from_folder(path)\n",
        "                   .split_none()\n",
        "                   .label_from_folder()\n",
        "                   .transform(get_transforms(), size=224)\n",
        "                   .databunch()\n",
        "     )"
      ],
      "execution_count": 0,
      "outputs": []
    },
    {
      "cell_type": "code",
      "metadata": {
        "id": "nD8iYZm9WMwV",
        "colab_type": "code",
        "colab": {}
      },
      "source": [
        "# If you already cleaned your data using indexes from `from_toplosses`,\n",
        "# run this cell instead of the one before to proceed with removing duplicates.\n",
        "# Otherwise all the results of the previous step would be overwritten by\n",
        "# the new run of `ImageCleaner`.\n",
        "\n",
        "# db = (ImageList.from_csv(path, 'cleaned.csv', folder='.')\n",
        "#                    .no_split()\n",
        "#                    .label_from_df()\n",
        "#                    .transform(get_transforms(), size=224)\n",
        "#                    .databunch()\n",
        "#      )"
      ],
      "execution_count": 0,
      "outputs": []
    },
    {
      "cell_type": "markdown",
      "metadata": {
        "id": "8Z8-NaSPWMwW",
        "colab_type": "text"
      },
      "source": [
        "Then we create a new learner to use our new databunch with all the images."
      ]
    },
    {
      "cell_type": "code",
      "metadata": {
        "id": "BfKP61aUWMwX",
        "colab_type": "code",
        "colab": {}
      },
      "source": [
        "learn_cln = cnn_learner(db, models.resnet34, metrics=error_rate)\n",
        "\n",
        "learn_cln.load('stage-2');"
      ],
      "execution_count": 0,
      "outputs": []
    },
    {
      "cell_type": "code",
      "metadata": {
        "id": "9CTvXuMVWMwZ",
        "colab_type": "code",
        "colab": {}
      },
      "source": [
        "ds, idxs = DatasetFormatter().from_toplosses(learn_cln)"
      ],
      "execution_count": 0,
      "outputs": []
    },
    {
      "cell_type": "markdown",
      "metadata": {
        "id": "-x2UCdRdWMwa",
        "colab_type": "text"
      },
      "source": [
        "Make sure you're running this notebook in Jupyter Notebook, not Jupyter Lab. That is accessible via [/tree](/tree), not [/lab](/lab). Running the `ImageCleaner` widget in Jupyter Lab is [not currently supported](https://github.com/fastai/fastai/issues/1539)."
      ]
    },
    {
      "cell_type": "code",
      "metadata": {
        "id": "vZ0la4z5WMwb",
        "colab_type": "code",
        "colab": {}
      },
      "source": [
        "# Don't run this in google colab or any other instances running jupyter lab.\n",
        "# If you do run this on Jupyter Lab, you need to restart your runtime and\n",
        "# runtime state including all local variables will be lost.\n",
        "ImageCleaner(ds, idxs, path)"
      ],
      "execution_count": 0,
      "outputs": []
    },
    {
      "cell_type": "markdown",
      "metadata": {
        "id": "vh6IJ-8BWMwc",
        "colab_type": "text"
      },
      "source": [
        "\n",
        "If the code above does not show any GUI(contains images and buttons) rendered by widgets but only text output, that may caused by the configuration problem of ipywidgets. Try the solution in this [link](https://github.com/fastai/fastai/issues/1539#issuecomment-505999861) to solve it.\n"
      ]
    },
    {
      "cell_type": "markdown",
      "metadata": {
        "id": "lRGbdz9yWMwd",
        "colab_type": "text"
      },
      "source": [
        "Flag photos for deletion by clicking 'Delete'. Then click 'Next Batch' to delete flagged photos and keep the rest in that row. `ImageCleaner` will show you a new row of images until there are no more to show. In this case, the widget will show you images until there are none left from `top_losses.ImageCleaner(ds, idxs)`"
      ]
    },
    {
      "cell_type": "markdown",
      "metadata": {
        "id": "74iemv1iWMwd",
        "colab_type": "text"
      },
      "source": [
        "You can also find duplicates in your dataset and delete them! To do this, you need to run `.from_similars` to get the potential duplicates' ids and then run `ImageCleaner` with `duplicates=True`. The API works in a similar way as with misclassified images: just choose the ones you want to delete and click 'Next Batch' until there are no more images left."
      ]
    },
    {
      "cell_type": "markdown",
      "metadata": {
        "id": "7AdGKLXIWMwe",
        "colab_type": "text"
      },
      "source": [
        "Make sure to recreate the databunch and `learn_cln` from the `cleaned.csv` file. Otherwise the file would be overwritten from scratch, losing all the results from cleaning the data from toplosses."
      ]
    },
    {
      "cell_type": "code",
      "metadata": {
        "id": "uNv1GomCWMwe",
        "colab_type": "code",
        "outputId": "bdc8f162-39be-4473-9dd6-9939df7f99d3",
        "colab": {}
      },
      "source": [
        "ds, idxs = DatasetFormatter().from_similars(learn_cln)"
      ],
      "execution_count": 0,
      "outputs": [
        {
          "output_type": "stream",
          "text": [
            "Getting activations...\n"
          ],
          "name": "stdout"
        },
        {
          "output_type": "display_data",
          "data": {
            "text/html": [
              "\n",
              "    <div>\n",
              "        <style>\n",
              "        \t/* Turns off some styling */\n",
              "        \tprogress {\n",
              "\n",
              "            \t/* gets rid of default border in Firefox and Opera. */\n",
              "            \tborder: none;\n",
              "\n",
              "            \t/* Needs to be in here for Safari polyfill so background images work as expected. */\n",
              "            \tbackground-size: auto;\n",
              "            }\n",
              "\n",
              "            .progress-bar-interrupted, .progress-bar-interrupted::-webkit-progress-bar {\n",
              "                background: #F44336;\n",
              "            }\n",
              "        </style>\n",
              "      <progress value='1' class='' max='1', style='width:300px; height:20px; vertical-align: middle;'></progress>\n",
              "      100.00% [1/1 00:01<00:00]\n",
              "    </div>\n",
              "    "
            ],
            "text/plain": [
              "<IPython.core.display.HTML object>"
            ]
          },
          "metadata": {
            "tags": []
          }
        },
        {
          "output_type": "stream",
          "text": [
            "Computing similarities...\n"
          ],
          "name": "stdout"
        },
        {
          "output_type": "display_data",
          "data": {
            "text/html": [
              "\n",
              "    <div>\n",
              "        <style>\n",
              "        \t/* Turns off some styling */\n",
              "        \tprogress {\n",
              "\n",
              "            \t/* gets rid of default border in Firefox and Opera. */\n",
              "            \tborder: none;\n",
              "\n",
              "            \t/* Needs to be in here for Safari polyfill so background images work as expected. */\n",
              "            \tbackground-size: auto;\n",
              "            }\n",
              "\n",
              "            .progress-bar-interrupted, .progress-bar-interrupted::-webkit-progress-bar {\n",
              "                background: #F44336;\n",
              "            }\n",
              "        </style>\n",
              "      <progress value='55' class='' max='55', style='width:300px; height:20px; vertical-align: middle;'></progress>\n",
              "      100.00% [55/55 00:00<00:00]\n",
              "    </div>\n",
              "    "
            ],
            "text/plain": [
              "<IPython.core.display.HTML object>"
            ]
          },
          "metadata": {
            "tags": []
          }
        }
      ]
    },
    {
      "cell_type": "code",
      "metadata": {
        "id": "tjPOsKJSWMwg",
        "colab_type": "code",
        "outputId": "561a33c3-3766-435c-dbff-3b02c62e7e25",
        "colab": {}
      },
      "source": [
        "ImageCleaner(ds, idxs, path, duplicates=True)"
      ],
      "execution_count": 0,
      "outputs": [
        {
          "output_type": "display_data",
          "data": {
            "text/plain": [
              "'No images to show :)'"
            ]
          },
          "metadata": {
            "tags": []
          }
        }
      ]
    }
  ]
}